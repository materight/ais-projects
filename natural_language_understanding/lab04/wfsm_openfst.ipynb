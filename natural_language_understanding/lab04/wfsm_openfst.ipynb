{
 "cells": [
  {
   "cell_type": "markdown",
   "metadata": {
    "slideshow": {
     "slide_type": "slide"
    }
   },
   "source": [
    "# Weighted Finite State Machines using OpenFST\n",
    "\n",
    "- Evgeny A. Stepanov\n",
    "- stepanov.evgeny.a@gmail.com"
   ]
  },
  {
   "cell_type": "markdown",
   "metadata": {
    "slideshow": {
     "slide_type": "slide"
    }
   },
   "source": [
    "Dan Jurafsky and James H. Martin's __Speech and Language Processing__ ([3rd ed. draft](https://web.stanford.edu/~jurafsky/slp3/)) is advised for reading. "
   ]
  },
  {
   "cell_type": "markdown",
   "metadata": {
    "slideshow": {
     "slide_type": "fragment"
    }
   },
   "source": [
    "This notebook covers Lecture on __Weighted Finite State Transducers__ using OpenFST Tools. \n",
    "Content-wise, it partially copies [OpenFST Quick Tour](http://www.openfst.org/twiki/bin/view/FST/FstQuickTour).\n",
    "The level of presentation is kept intermediate and not all tools and operations are covered.\n",
    "\n",
    "*Chapter 2: \"Regular Expressions, Text Normalization, Edit Distance\"* is useful for background."
   ]
  },
  {
   "cell_type": "markdown",
   "metadata": {
    "slideshow": {
     "slide_type": "fragment"
    }
   },
   "source": [
    "__Requirements__\n",
    "\n",
    "- [OpenFST](http://www.openfst.org/twiki/bin/view/FST/WebHome)\n",
    "- [Graphviz](https://graphviz.gitlab.io/) for visualization __[OPTIONAL]__\n",
    "- Mohri et al. (1996) [FSM Toolkit Exercises](https://github.com/esrel/LUS/blob/master/extras/Mohri_FST_ex.pdf)\n",
    "    - copied into notebook for convenience"
   ]
  },
  {
   "cell_type": "markdown",
   "metadata": {
    "slideshow": {
     "slide_type": "slide"
    }
   },
   "source": [
    "__Abbreviations__\n",
    "\n",
    "\n",
    "|__ABBR__ | __Meaning__\n",
    "|:--------|:----------------------\n",
    "| __FSA__ | Finite State Acceptor\n",
    "| __FST__ | Finite State Transducer\n",
    "| __FSM__ | Finite State Machine (FSA + FST)\n"
   ]
  },
  {
   "cell_type": "markdown",
   "metadata": {
    "slideshow": {
     "slide_type": "slide"
    }
   },
   "source": [
    "## 1. OpenFST Tools"
   ]
  },
  {
   "cell_type": "markdown",
   "metadata": {
    "slideshow": {
     "slide_type": "slide"
    }
   },
   "source": [
    "### 1.1. File Formats"
   ]
  },
  {
   "cell_type": "markdown",
   "metadata": {
    "slideshow": {
     "slide_type": "fragment"
    }
   },
   "source": [
    "#### 1.1.1. Acceptor (FSA) & Transducer (FST) File\n",
    "\n",
    "OpenFST specifies FSA/FSTs using a text file in the AT&T FSM format, like below.\n",
    "(Read comments `#` for interpretation.)"
   ]
  },
  {
   "cell_type": "code",
   "execution_count": 1,
   "metadata": {
    "slideshow": {
     "slide_type": "fragment"
    }
   },
   "outputs": [],
   "source": [
    "%%bash\n",
    "# arc format: src dest ilabel olabel [weight]\n",
    "# final state format: state [weight]\n",
    "# lines may occur in any order except initial state must be first line\n",
    "# unspecified weights default to 0.0 (for the library-default Weight type) \n",
    "cat > fst.txt <<EOF\n",
    "0 1 a x 0.5\n",
    "0 1 b y 1.5\n",
    "1 2 c z 2.5\n",
    "2 3.5\n",
    "EOF"
   ]
  },
  {
   "cell_type": "markdown",
   "metadata": {
    "slideshow": {
     "slide_type": "slide"
    }
   },
   "source": [
    "The supported specifications are:\n",
    "- acceptor (no output column, 4th)\n",
    "- transducer\n",
    "\n",
    "__Acceptor__ is an FSM with 1 tape (input), that *accepts/recognizes* input strings\n",
    "\n",
    "__Transducer__ is an FSM with 2 tapes (input & output), that translates input to output string\n",
    "\n",
    "__Weights__ are optional for both (default to 0)"
   ]
  },
  {
   "cell_type": "markdown",
   "metadata": {
    "slideshow": {
     "slide_type": "slide"
    }
   },
   "source": [
    "#### 1.1.2. Symbol Table (Lexicon)\n",
    "\n",
    "> The internal representation of an arc label is an integer. We must provide the mapping from symbols to integers explicitly with a symbol table file.\n",
    "\n",
    "In case symbols of your FSM are integers as well (what are the odds?), the symbol table can be omitted.\n",
    "\n",
    "Since in *transducer* there are two tapes (input and output), the mappings are provided for both via `--isymbols` and `--osymbols` command-line arguments, respectively.  \n",
    "\n",
    "> You may use any string for a label; you may use any non-negative integer for a label ID. The zero label ID is reserved for the epsilon label, which is the empty string. We have included 0 in our table, even though it is not used in our example. Since subsequent FST operations might add epsilons, it is good practice to include a symbol for it.\n",
    "\n",
    "Input and output symbol tables may differ. \n",
    "It's easier to avoid *human error*, using a unified symbol table for both input and output."
   ]
  },
  {
   "cell_type": "code",
   "execution_count": 2,
   "metadata": {
    "slideshow": {
     "slide_type": "slide"
    }
   },
   "outputs": [],
   "source": [
    "%%bash\n",
    "# input symbols\n",
    "cat > isyms.txt <<EOF\n",
    "<eps> 0\n",
    "a 1\n",
    "b 2\n",
    "c 3\n",
    "EOF"
   ]
  },
  {
   "cell_type": "code",
   "execution_count": 3,
   "metadata": {
    "slideshow": {
     "slide_type": "slide"
    }
   },
   "outputs": [],
   "source": [
    "%%bash\n",
    "# output symbols\n",
    "cat > osyms.txt <<EOF\n",
    "<eps> 0\n",
    "x 1\n",
    "y 2\n",
    "z 3\n",
    "EOF"
   ]
  },
  {
   "cell_type": "markdown",
   "metadata": {
    "slideshow": {
     "slide_type": "slide"
    }
   },
   "source": [
    "### 1.2. Using FST Tools"
   ]
  },
  {
   "cell_type": "markdown",
   "metadata": {
    "slideshow": {
     "slide_type": "fragment"
    }
   },
   "source": [
    "Please consult [OpenFST Quick Tour](http://www.openfst.org/twiki/bin/view/FST/FstQuickTour) for *Available FST Operations* List. Here we are going to list only some."
   ]
  },
  {
   "cell_type": "markdown",
   "metadata": {
    "slideshow": {
     "slide_type": "fragment"
    }
   },
   "source": [
    "> The shell-level FST operations typically read one or more input binary FST files, call internally the corresponding C++ operation and then write an output binary FST file. If the output file is omitted, standard output is used. If the input file is also omitted (unary case) or is \"-\", then standard input is used. Specifically, they have the form:\n",
    "\n",
    "- Unary Operations:\n",
    "\n",
    "```bash\n",
    "fstunaryop in.fst out.fst\n",
    "fstunaryop < in.fst > out.fst\n",
    "```\n",
    "\n",
    "- Binary Operations:\n",
    "\n",
    "```bash\n",
    "fstbinaryop in1.fst in2.fst out.fst\n",
    "fstbinaryop - in2.fst < in1.fst > out.fst\n",
    "```"
   ]
  },
  {
   "cell_type": "markdown",
   "metadata": {
    "slideshow": {
     "slide_type": "slide"
    }
   },
   "source": [
    "#### 1.2.1. Basic Commands"
   ]
  },
  {
   "cell_type": "markdown",
   "metadata": {
    "slideshow": {
     "slide_type": "fragment"
    }
   },
   "source": [
    "##### Compiling\n",
    "The text FSM must be converted into a binary FSM file before it can be used by the OpenFst library. \n",
    "\n",
    "It is possible to store symbol input and/or output tables together with the compiled FSM providing `--keep_isymbols` and `--keep_osymbols` flags, respectively."
   ]
  },
  {
   "cell_type": "code",
   "execution_count": 4,
   "metadata": {
    "slideshow": {
     "slide_type": "fragment"
    }
   },
   "outputs": [],
   "source": [
    "%%bash\n",
    "# to compile a binary fst from text\n",
    "fstcompile --isymbols=isyms.txt --osymbols=osyms.txt fst.txt fst.bin"
   ]
  },
  {
   "cell_type": "code",
   "execution_count": 5,
   "metadata": {
    "slideshow": {
     "slide_type": "fragment"
    }
   },
   "outputs": [],
   "source": [
    "%%bash\n",
    "# to store symbol tables with the created fst (advised!)\n",
    "fstcompile --isymbols=isyms.txt --osymbols=osyms.txt --keep_isymbols --keep_osymbols fst.txt fst_sym.bin"
   ]
  },
  {
   "cell_type": "markdown",
   "metadata": {
    "slideshow": {
     "slide_type": "slide"
    }
   },
   "source": [
    "##### Printing\n",
    "If `--keep_isymbols` and `--keep_osymbols` flags were provided during compilation, `--isymbols` and `--osymbols` arguments can be omitted."
   ]
  },
  {
   "cell_type": "code",
   "execution_count": 6,
   "metadata": {
    "slideshow": {
     "slide_type": "fragment"
    }
   },
   "outputs": [],
   "source": [
    "%%bash\n",
    "# to print binary fst as text\n",
    "fstprint --isymbols=isyms.txt --osymbols=osyms.txt fst.bin fst_out.txt"
   ]
  },
  {
   "cell_type": "markdown",
   "metadata": {
    "slideshow": {
     "slide_type": "fragment"
    }
   },
   "source": [
    "##### Drawing\n",
    "Similar to `fstprint`, if `--keep_isymbols` and `--keep_osymbols` flags were provided during compilation, `--isymbols` and `--osymbols` arguments can be omitted."
   ]
  },
  {
   "cell_type": "code",
   "execution_count": 7,
   "metadata": {
    "slideshow": {
     "slide_type": "fragment"
    }
   },
   "outputs": [],
   "source": [
    "%%bash\n",
    "# to produce dot file for visualization with Graphviz\n",
    "fstdraw --isymbols=isyms.txt --osymbols=osyms.txt fst.bin fst.dot\n",
    "\n",
    "# the dot file can be converted to ps (or other format) as\n",
    "# dot -Tps fst.dot > fst.ps"
   ]
  },
  {
   "cell_type": "markdown",
   "metadata": {
    "slideshow": {
     "slide_type": "slide"
    }
   },
   "source": [
    "##### Printing Summary Information"
   ]
  },
  {
   "cell_type": "markdown",
   "metadata": {
    "slideshow": {
     "slide_type": "fragment"
    }
   },
   "source": [
    "Besides useful information on FSM structure, `farinfo` summary includes information regarding whether input and output symbols are stored: on `input symbol table` and `output symbol table` lines."
   ]
  },
  {
   "cell_type": "code",
   "execution_count": 8,
   "metadata": {
    "scrolled": true,
    "slideshow": {
     "slide_type": "fragment"
    }
   },
   "outputs": [
    {
     "name": "stdout",
     "output_type": "stream",
     "text": [
      "fst type                                          vector\n",
      "arc type                                          standard\n",
      "input symbol table                                none\n",
      "output symbol table                               none\n",
      "# of states                                       3\n",
      "# of arcs                                         3\n",
      "initial state                                     0\n",
      "# of final states                                 1\n"
     ]
    }
   ],
   "source": [
    "%%bash\n",
    "# to print-out fst summary information (remove 'head -n 8' to see full summary)\n",
    "fstinfo fst.bin | head -n 8"
   ]
  },
  {
   "cell_type": "code",
   "execution_count": 9,
   "metadata": {
    "slideshow": {
     "slide_type": "slide"
    }
   },
   "outputs": [
    {
     "name": "stdout",
     "output_type": "stream",
     "text": [
      "fst type                                          vector\n",
      "arc type                                          standard\n",
      "input symbol table                                isyms.txt\n",
      "output symbol table                               osyms.txt\n",
      "# of states                                       3\n",
      "# of arcs                                         3\n",
      "initial state                                     0\n",
      "# of final states                                 1\n"
     ]
    }
   ],
   "source": [
    "%%bash\n",
    "# to print-out fst summary information (remove 'head -n 8' to see full summary)\n",
    "fstinfo fst_sym.bin | head -n 8"
   ]
  },
  {
   "cell_type": "markdown",
   "metadata": {
    "slideshow": {
     "slide_type": "slide"
    }
   },
   "source": [
    "##### Compiling & Printing an Acceptor"
   ]
  },
  {
   "cell_type": "markdown",
   "metadata": {
    "slideshow": {
     "slide_type": "fragment"
    }
   },
   "source": [
    "Even though the library supports both acceptors and transducers, the default internal format is that of a transducer. Consequently, working with acceptors, some commands (e.g. `fstcompile`) require providing special `--acceptor` flag to signal that the input is in acceptor format.\n",
    "\n",
    "Use `--help` flag of the commands to check the required input."
   ]
  },
  {
   "cell_type": "code",
   "execution_count": 10,
   "metadata": {
    "slideshow": {
     "slide_type": "skip"
    }
   },
   "outputs": [],
   "source": [
    "%%bash\n",
    "cat > fsa.txt <<EOF\n",
    "0 1 a\n",
    "0 1 b\n",
    "1 2 c\n",
    "2\n",
    "EOF"
   ]
  },
  {
   "cell_type": "code",
   "execution_count": 11,
   "metadata": {
    "slideshow": {
     "slide_type": "fragment"
    }
   },
   "outputs": [],
   "source": [
    "%%bash\n",
    "fstcompile --acceptor --isymbols=isyms.txt --keep_isymbols fsa.txt fsa.bin"
   ]
  },
  {
   "cell_type": "code",
   "execution_count": 12,
   "metadata": {
    "slideshow": {
     "slide_type": "slide"
    }
   },
   "outputs": [
    {
     "name": "stdout",
     "output_type": "stream",
     "text": [
      "0\t1\ta\t1\n",
      "0\t1\tb\t2\n",
      "1\t2\tc\t3\n",
      "2\n"
     ]
    }
   ],
   "source": [
    "%%bash\n",
    "fstprint fsa.bin"
   ]
  },
  {
   "cell_type": "markdown",
   "metadata": {
    "slideshow": {
     "slide_type": "fragment"
    }
   },
   "source": [
    "From the output of the command above we can observe that:\n",
    "- acceptor is internally represented as transducer (there are 4 columns)\n",
    "- keeping symbols allows printing symbols in textual specification without providing symbol tables (3rd column)\n",
    "- symbol tables are managed separately (4th column is integers, since we didn't provide `--osymbols` and `--keep_osymbols`)"
   ]
  },
  {
   "cell_type": "code",
   "execution_count": 13,
   "metadata": {
    "slideshow": {
     "slide_type": "slide"
    }
   },
   "outputs": [
    {
     "name": "stdout",
     "output_type": "stream",
     "text": [
      "fst type                                          vector\n",
      "arc type                                          standard\n",
      "input symbol table                                isyms.txt\n",
      "output symbol table                               none\n",
      "# of states                                       3\n",
      "# of arcs                                         3\n",
      "initial state                                     0\n",
      "# of final states                                 1\n"
     ]
    }
   ],
   "source": [
    "%%bash\n",
    "fstinfo fsa.bin | head -n 8"
   ]
  },
  {
   "cell_type": "markdown",
   "metadata": {
    "slideshow": {
     "slide_type": "slide"
    }
   },
   "source": [
    "#### 1.2.2. Managing Symbol Tables [Optional: Advanced]\n",
    "\n",
    "Symbol tables stored with the compiled FSM, besides providing convenience for printing and drawing using `fstprint` and `fstdraw`, are also compared during *some* operations for compatibility (in case both binary FSMs store them). The feature is enabled by default.\n",
    "\n",
    "```bash\n",
    "Flags from: symbol-table.cc\n",
    "  --fst_compat_symbols: type = bool, default = true\n",
    "  Require symbol tables to match when appropriate\n",
    "```\n",
    "\n",
    "OpenFST Library provides `fstsymbols` tool that performs operations (export, set, clear, relabel) on the symbol tables attached to a __binary__ FSM. \n",
    "\n",
    "For demonstration, let's \n",
    "- clear symbol table of the acceptor above compiled with `--keep_isymbols`\n",
    "- export symbol table as `fsa.sym` \n",
    "- print FSM summary before and after using `fstinfo`"
   ]
  },
  {
   "cell_type": "code",
   "execution_count": 14,
   "metadata": {
    "slideshow": {
     "slide_type": "skip"
    }
   },
   "outputs": [
    {
     "name": "stdout",
     "output_type": "stream",
     "text": [
      "fst type                                          vector\n",
      "arc type                                          standard\n",
      "input symbol table                                isyms.txt\n",
      "output symbol table                               none\n"
     ]
    }
   ],
   "source": [
    "%%bash\n",
    "fstinfo fsa.bin | head -n 4"
   ]
  },
  {
   "cell_type": "code",
   "execution_count": 15,
   "metadata": {
    "slideshow": {
     "slide_type": "skip"
    }
   },
   "outputs": [
    {
     "name": "stdout",
     "output_type": "stream",
     "text": [
      "fst type                                          vector\n",
      "arc type                                          standard\n",
      "input symbol table                                none\n",
      "output symbol table                               none\n"
     ]
    }
   ],
   "source": [
    "%%bash\n",
    "fstsymbols --save_isymbols=fsa.sym --clear_isymbols fsa.bin fsa_nosym.bin\n",
    "fstinfo fsa_nosym.bin | head -n 4"
   ]
  },
  {
   "cell_type": "code",
   "execution_count": 16,
   "metadata": {
    "slideshow": {
     "slide_type": "skip"
    }
   },
   "outputs": [
    {
     "name": "stdout",
     "output_type": "stream",
     "text": [
      "<eps>\t0\n",
      "a\t1\n",
      "b\t2\n",
      "c\t3\n"
     ]
    }
   ],
   "source": [
    "%%bash\n",
    "cat fsa.sym "
   ]
  },
  {
   "cell_type": "markdown",
   "metadata": {
    "slideshow": {
     "slide_type": "slide"
    }
   },
   "source": [
    "#### 1.2.3. Symbol Table Compatibility Check [Optional: Advanced]\n",
    "As we have mentioned, symbol tables stored with the compiled FSMs are compared during *some* operations for compatibility (in case both binary FSMs store them). What this means in practice is that if two symbol tables map the same symbol to different IDs, they are considered different.\n",
    "\n",
    "This can be demonstrated compiling the same FSA with different symbol tables, and using it in an operation with an FST that has symbol table fully compatible only with one of the symbol tables of an FSA. (Ignore the operation for now.)\n",
    "\n",
    "```bash\n",
    "cat > fsa.txt <<EOF\n",
    "0 1 a\n",
    "0 1 b\n",
    "1 2 c\n",
    "2\n",
    "EOF\n",
    "\n",
    "cat > fst.txt <<EOF\n",
    "0 1 a x 0.5\n",
    "0 1 b y 1.5\n",
    "1 2 c z 2.5\n",
    "2 3.5\n",
    "EOF\n",
    "```"
   ]
  },
  {
   "cell_type": "code",
   "execution_count": 17,
   "metadata": {
    "slideshow": {
     "slide_type": "skip"
    }
   },
   "outputs": [],
   "source": [
    "%%bash\n",
    "cat > isyms_a.txt <<EOF\n",
    "<eps> 0\n",
    "a 1\n",
    "b 2\n",
    "c 3\n",
    "EOF\n",
    "\n",
    "cat > isyms_b.txt <<EOF\n",
    "<eps> 0\n",
    "a 4\n",
    "b 2\n",
    "c 3\n",
    "EOF\n",
    "\n",
    "cat > isyms_c.txt <<EOF\n",
    "<eps> 0\n",
    "a 2\n",
    "b 3\n",
    "c 1\n",
    "EOF\n",
    "\n",
    "cat > osyms.txt <<EOF\n",
    "<eps> 0\n",
    "x 1\n",
    "y 2\n",
    "z 3\n",
    "EOF"
   ]
  },
  {
   "cell_type": "code",
   "execution_count": 18,
   "metadata": {
    "slideshow": {
     "slide_type": "skip"
    }
   },
   "outputs": [],
   "source": [
    "%%bash\n",
    "fstcompile --isymbols=isyms_a.txt --osymbols=osyms.txt --keep_isymbols --keep_osymbols fst.txt fst.bin\n",
    "fstcompile --acceptor --isymbols=isyms_a.txt --keep_isymbols fsa.txt fsa_a.bin\n",
    "fstcompile --acceptor --isymbols=isyms_b.txt --keep_isymbols fsa.txt fsa_b.bin\n",
    "fstcompile --acceptor --isymbols=isyms_c.txt --keep_isymbols fsa.txt fsa_c.bin"
   ]
  },
  {
   "cell_type": "markdown",
   "metadata": {
    "slideshow": {
     "slide_type": "skip"
    }
   },
   "source": [
    "In the output below observe that the output of the operation with:\n",
    "- `fsa_a.bin` yields FST identical to the original\n",
    "- `fsa_b.bin` doesn't have $a \\rightarrow x$ transition, since `a` is mapped to `1` in symbol table (a) and to `4` in (b)\n",
    "- `fsa_c.bin` doesn't yield any output, since none of the symbol-ID pairs in symbol tables (a) & (c) match."
   ]
  },
  {
   "cell_type": "code",
   "execution_count": 19,
   "metadata": {
    "slideshow": {
     "slide_type": "skip"
    }
   },
   "outputs": [
    {
     "name": "stdout",
     "output_type": "stream",
     "text": [
      "0\t1\ta\tx\t0.5\n",
      "0\t1\tb\ty\t1.5\n",
      "1\t2\tc\tz\t2.5\n",
      "2\t3.5\n"
     ]
    }
   ],
   "source": [
    "%%bash \n",
    "fstcompose fsa_a.bin fst.bin | fstprint"
   ]
  },
  {
   "cell_type": "code",
   "execution_count": 20,
   "metadata": {
    "slideshow": {
     "slide_type": "skip"
    }
   },
   "outputs": [
    {
     "name": "stdout",
     "output_type": "stream",
     "text": [
      "0\t1\tb\ty\t1.5\n",
      "1\t2\tc\tz\t2.5\n",
      "2\t3.5\n"
     ]
    }
   ],
   "source": [
    "%%bash \n",
    "fstcompose fsa_b.bin fst.bin | fstprint"
   ]
  },
  {
   "cell_type": "code",
   "execution_count": 21,
   "metadata": {
    "slideshow": {
     "slide_type": "skip"
    }
   },
   "outputs": [],
   "source": [
    "%%bash \n",
    "fstcompose fsa_c.bin fst.bin | fstprint"
   ]
  },
  {
   "cell_type": "markdown",
   "metadata": {
    "slideshow": {
     "slide_type": "slide"
    }
   },
   "source": [
    "### 1.3. Regular Expressions & Closure Properties & OpenFST Commands"
   ]
  },
  {
   "cell_type": "markdown",
   "metadata": {
    "slideshow": {
     "slide_type": "slide"
    }
   },
   "source": [
    "#### 1.3.1. Regular Expressions\n",
    "- $\\emptyset$ is a Regular Expression\n",
    "- Each symbol from $\\Sigma$ is a Regular Expression\n",
    "- If $\\alpha$ and $\\beta$ are Regular Expressions, then so is $(\\alpha \\circ \\beta)$\n",
    "- If $\\alpha$ and $\\beta$ are Regular Expressions, then so is $(\\alpha \\cup \\beta)$\n",
    "- If $\\alpha$ is a Regular Expression, then so is $(\\alpha^*)$\n",
    "\n",
    "Languages expressed using Regular Expressions are called {\\color{red} Regular Languages}"
   ]
  },
  {
   "cell_type": "markdown",
   "metadata": {
    "slideshow": {
     "slide_type": "slide"
    }
   },
   "source": [
    "#### 1.3.2. Closure Properties of Regular Languages\n",
    "Regular Languages are closed under following operations:\n",
    "\n",
    "- __Intersection__: if $L_1$ and $L_2$ are RL, then so is $L_1 \\cap L_2$, the language consisting of the set of strings in both $L_1$ and $L_2$\n",
    "- __Difference__: if $L_1$ and $L_2$ are RL, then so is $L_1 - L_2$, the language consisting of the set of strings in both $L_1$ and not in $L_2$\n",
    "- __Complementation__: if $L_1$ is a RL, then so is its complement $\\bar{L_1}$\n",
    "- __Reversal:__ if $L_1$ is a RL, then so is $L^R_1$,  the set of reversals of all strings in $L_1$"
   ]
  },
  {
   "cell_type": "markdown",
   "metadata": {
    "slideshow": {
     "slide_type": "slide"
    }
   },
   "source": [
    "### 1.4. Acceptor Operations\n",
    "\n",
    "| Operation              | Equation                 | Command \n",
    "|:-----------------------|--------------------------|:--------\n",
    "| Concatenation (Product)| $$C=AB$$                 | `fstconcat A.fsa B.fsa > C.fsa`\n",
    "| Union (Sum)            | $$C=A\\cup B = A+B$$      | `fstunion A.fsa B.fsa > C.fsa`\n",
    "| Kleene*                | $$C=B^*=B^0+B^1+... $$   | `fstclosure B.fsa > C.fsa`\n",
    "| Intersection           | $$C=A\\cap B = A\\&B$$     | `fstintersect A.fsa B.fsa > C.fsa`\n",
    "| Difference             | $$C=A-B$$                | `fstdifference A.fsa B.fsa > C.fsa`\n",
    "| Reversal               | $$C=A^R$$                | `fstreverse A.fsa > C.fsa`\n",
    "| Complement             | $$C=A^{-1}$$             | N/A\n",
    "\n",
    "- __Difference__ requires its 2nd argument ($B$) to be unweighted & deterministic acceptor\n",
    "- __Complement__ is not implemented due to:\n",
    "    - Alphabet issue \n",
    "    - Non-determinism issue"
   ]
  },
  {
   "cell_type": "markdown",
   "metadata": {
    "slideshow": {
     "slide_type": "slide"
    }
   },
   "source": [
    "#### Exercises\n",
    "\n",
    "Given two acceptors, $A$ and $B$ (+ symbol table):\n",
    "- compile them\n",
    "- apply acceptor operations listed above (applicable ones)\n",
    "- print (or draw, if graphviz is available) the resulting automaton ($C$)\n",
    "    - you can also visualize the output of `fstdraw` [online](http://www.webgraphviz.com/)"
   ]
  },
  {
   "cell_type": "code",
   "execution_count": 22,
   "metadata": {
    "slideshow": {
     "slide_type": "skip"
    }
   },
   "outputs": [],
   "source": [
    "%%bash\n",
    "\n",
    "cat > A.txt <<EOF\n",
    "0 0 a 0.5\n",
    "0 1 b 0.3\n",
    "1 2 c 0.0\n",
    "1 2 d 0.6\n",
    "2 0.8\n",
    "EOF\n",
    "\n",
    "cat > B.txt <<EOF\n",
    "0 1 b 0.4\n",
    "0 2 c 1.2\n",
    "1\n",
    "2 0.2\n",
    "EOF\n",
    "\n",
    "cat > lex.sym <<EOF\n",
    "<eps> 0\n",
    "a 1\n",
    "b 2\n",
    "c 3\n",
    "d 4\n",
    "<unk> 5\n",
    "EOF"
   ]
  },
  {
   "cell_type": "code",
   "execution_count": null,
   "metadata": {
    "slideshow": {
     "slide_type": "skip"
    }
   },
   "outputs": [],
   "source": []
  },
  {
   "cell_type": "markdown",
   "metadata": {
    "slideshow": {
     "slide_type": "slide"
    }
   },
   "source": [
    "### 1.5. Useful OpenFST Library Operations and Utilities"
   ]
  },
  {
   "cell_type": "markdown",
   "metadata": {
    "slideshow": {
     "slide_type": "slide"
    }
   },
   "source": [
    "#### 1.5.1. Frequently Used Operations\n",
    "\n",
    "| Operation              | Command                        | Description \n",
    "|:-----------------------|:-------------------------------|:---------------------------\n",
    "| Epsilon Removal        | `fstrmepsilon A.fsa > C.fsa`   | remove `<eps>` from fsm\n",
    "| Trimming               | `fstconnect A.fsa > C.fsa`     | remove unreachable states from fsm\n",
    "| Determinization        | `fstdeterminize A.fsa > C.fsa` | creates equiv. *deterministic* fsm \n",
    "| Minimization           | `fstminimize A.fsa > C.fsa`    | creates equiv. minimal deterministic fsm\n"
   ]
  },
  {
   "cell_type": "markdown",
   "metadata": {
    "slideshow": {
     "slide_type": "slide"
    }
   },
   "source": [
    "#### 1.5.2. Sorting Utilities\n",
    "\n",
    "| Operation   | Command      | Description \n",
    "|:------------|:-------------|:---------------------------\n",
    "| Arc Sorting | `fstarcsort` | sorts the arcs in an fst per state\n",
    "| FST Sorting | `fsttopsort` | sorts an fst so that all transitions are from lower to higher state IDs\n"
   ]
  },
  {
   "cell_type": "markdown",
   "metadata": {
    "slideshow": {
     "slide_type": "slide"
    }
   },
   "source": [
    "### 1.6. Transducer Operations\n",
    "\n",
    "As expected, transducer-specific operations are related to the existence of the second tape.\n",
    "\n",
    "| Operation              | Equation                 | Command \n",
    "|:-----------------------|--------------------------|:--------\n",
    "| Projection             | $$A=\\pi_1(T)$$           | `fstproject A.fst > A.fsa`\n",
    "| Inverse                |                          | `fstinvert A.fst > C.fst`\n",
    "| Composition            |                          | `fstcompose A.fst B.fst > C.fst`\n",
    "\n",
    "- __Projection__ converts a *transducer* into an *acceptor* by retaining only the input or the output tape\n",
    "- __Inverse__ inverts a *transducer*, transposing the input and output symbols on each transition\n",
    "- __Composition__ composes fsts:\n",
    "\n",
    "    - given 2 fsts: $fst_1$ that transduces from $s_1$ to $s_2$ and $fst_2$ that transduces from $s_2$ to $s_3$, returns $fst_3$ that transduces from $s_1$ to $s_3$ with the $2$ costs combined\n",
    "    - *acceptor* is treated as a *transducer* to itself"
   ]
  },
  {
   "cell_type": "markdown",
   "metadata": {
    "slideshow": {
     "slide_type": "slide"
    }
   },
   "source": [
    "## 2. Working with Text"
   ]
  },
  {
   "cell_type": "markdown",
   "metadata": {
    "slideshow": {
     "slide_type": "slide"
    }
   },
   "source": [
    "The primary use of FST Tools is text processing. Similar to NGram Library, where we were scoring sentences in a corpus by intersecting them with the ngram model, FSMs are applied (intersected, composed, etc.) to sentences represented as FSAs. Consequently, one of the most frequent operations is conversion of text to FSA. "
   ]
  },
  {
   "attachments": {
    "example.png": {
     "image/png": "[encoded data removed]"
    }
   },
   "cell_type": "markdown",
   "metadata": {
    "slideshow": {
     "slide_type": "fragment"
    }
   },
   "source": [
    "__Example__: *Lorem ipsum dolor sit amet*\n",
    "\n",
    "<div><img src=\"attachment:example.png\" width=\"500\"/></div>"
   ]
  },
  {
   "cell_type": "markdown",
   "metadata": {
    "slideshow": {
     "slide_type": "slide"
    }
   },
   "source": [
    "### 2.1. String to FSA\n",
    "\n",
    "While working with a *single* FSA, it is more convenient to generate it \"manually\".\n",
    "- generate FSA specification from the input string as exemplified by function `txt2fsa`\n",
    "- compile it into binary format\n",
    "- apply necessary operations"
   ]
  },
  {
   "cell_type": "code",
   "execution_count": 23,
   "metadata": {
    "slideshow": {
     "slide_type": "slide"
    }
   },
   "outputs": [],
   "source": [
    "def txt2fsa(txt):\n",
    "    \"\"\"\n",
    "    generate an fsa of the input text (whitespace tokenization)\n",
    "    :param txt: input string to generate automata for\n",
    "    :return: fsa specification as string\n",
    "    \"\"\"\n",
    "    sent = txt.strip().split()\n",
    "    fsa = ''\n",
    "    for i, word in enumerate(sent):\n",
    "        # add [src state, dest state, arc label]\n",
    "        fsa += \" \".join([str(i), str(i + 1), word]) + \"\\n\"\n",
    "    \n",
    "    # add final state\n",
    "    fsa += str(i + 1)\n",
    "    return fsa"
   ]
  },
  {
   "cell_type": "code",
   "execution_count": 24,
   "metadata": {
    "slideshow": {
     "slide_type": "slide"
    }
   },
   "outputs": [
    {
     "name": "stdout",
     "output_type": "stream",
     "text": [
      "0 1 a\n",
      "1 2 b\n",
      "2 3 c\n",
      "3\n"
     ]
    }
   ],
   "source": [
    "fsa = txt2fsa(\"a b c\")\n",
    "\n",
    "print(fsa)\n",
    "\n",
    "with open('tmp.txt', 'w') as f:\n",
    "    f.write(fsa)"
   ]
  },
  {
   "cell_type": "code",
   "execution_count": 25,
   "metadata": {},
   "outputs": [
    {
     "name": "stdout",
     "output_type": "stream",
     "text": [
      "0\t1\ta\n",
      "1\t2\tb\n",
      "2\t3\tc\n",
      "3\n"
     ]
    }
   ],
   "source": [
    "%%bash\n",
    "fstcompile --acceptor --isymbols=lex.sym --keep_isymbols  tmp.txt tmp.fsa\n",
    "fstprint --acceptor tmp.fsa\n"
   ]
  },
  {
   "cell_type": "markdown",
   "metadata": {
    "slideshow": {
     "slide_type": "slide"
    }
   },
   "source": [
    "### 2.2. Corpus to FAR\n",
    "\n",
    "As we have already seen, [FST Archives (FARs)](http://www.openfst.org/twiki/bin/view/FST/FstExtensions) is an extension that provides a set of tools to work with corpora. Specifically, conversion of a corpus to/from FAR, where each sentence of a corpus is represented as a finite-state automaton. "
   ]
  },
  {
   "cell_type": "markdown",
   "metadata": {
    "slideshow": {
     "slide_type": "slide"
    }
   },
   "source": [
    "#### 2.2.1. FAR Tools\n",
    "\n",
    "__FARs__ -- *weighted  finite-state  machines  archives* -- a concatenation of the file representation of one or more finite-state machines.  \n",
    "\n",
    "Commands:\n",
    "\n",
    "| Command             | Description         |\n",
    "|:--------------------|:--------------------|\n",
    "| `farinfo`           | prints some basic information about the FSMs in an a finite-state archive\n",
    "| `farcreate`         | creates a finite-state archive from input FSMs\n",
    "| `farextract`        | extracts FSMs from a finite-state archive\n",
    "| `farcompilestrings` | compiles a set of strings as FSMs and stores them in a finite-state archive\n",
    "| `farprintstrings`   | prints as string FSMs in a finite-state archive\n",
    "| `farequal`          | compares the FSMs in two finite-state archives for equality\n",
    "| `farisomorphic`     | compares the FSMs in two finite-state archives for [isomorphism](https://en.wikipedia.org/wiki/Isomorphism)\n",
    "\n",
    "\n",
    "Refer to [manual](http://www.openfst.org/twiki/bin/view/FST/FstExtensions\\#FstArchives) for options."
   ]
  },
  {
   "cell_type": "markdown",
   "metadata": {
    "slideshow": {
     "slide_type": "slide"
    }
   },
   "source": [
    "##### Working with Symbol Tables\n",
    "Since FAR Tools `farcompilestrings` and `farprintstrings` convert text into FSM and back, similar to `fstcompile` and `fstprint` tools, they take symbol table as an argument via `--symbols`. Unlike these tools, `farcompilestrings` is designed to create acceptors, thus there is only one symbol table (hence only `--symbols`).\n",
    "\n",
    "In order to include symbol tables into compiled acceptors we provide `--keep_symbols` flag.\n",
    "\n",
    "Since FAR contains a number of FSMs that share the symbol table, the tools additionally provide `--initial_symbols` flag to store/use symbol table of the first FSM in the archive only."
   ]
  },
  {
   "cell_type": "markdown",
   "metadata": {
    "slideshow": {
     "slide_type": "slide"
    }
   },
   "source": [
    "### 2.3. Testing FSMs with FAR\n",
    "The common test for an FSM is whether it accepts input or not. This is achieved by intersecting the input sentence as FSA with the tested automaton. Often it is the case that we want to test several input strings at once. FARs seem to be the choice. Unfortunately, there is no direct way to \"apply\" an operation (or FSM) to a FAR archive (except `ngramapply` that intersects Language Model automaton with all sentences in FAR).\n",
    "\n",
    "Iterative application of an operation (or several by piping) to all sentences in the FAR archive, that was compiled using `farcompilestring`, can be achieved using `farexract` and `farcreate`. \n",
    "\n",
    "`farextract` allows:\n",
    "- to extract FSMs into a directory provided by `--filename_prefix`\n",
    "- to control filename extension using `--filename_suffix`\n",
    "\n",
    "`farcreate` takes a number of FSMs for far creation `farcreate [in1.fst [[in2.fst ...] out.far]]`; as well as a file that provides a list of files to include in FAR via `--file_list_input`.\n",
    "\n",
    "It is possible to control the file naming using various flags."
   ]
  },
  {
   "cell_type": "markdown",
   "metadata": {
    "slideshow": {
     "slide_type": "slide"
    }
   },
   "source": [
    "### 2.4. Cleaning the Output\n",
    "FSM operations often re-order/re-name/etc. the states and add `<epsilon>` transitions. Consequently, the output of `fstprint` is difficult to read. To achieve readability we can apply FSM operations on the output FSM to clean it.\n",
    "\n",
    "1. get the best hypothesis with `fstshortestpath`\n",
    "2. remove `<epsilon>` transitions with `fstrmepsilon`\n",
    "3. sort states with `fsttopsort`\n",
    "\n",
    "For instance:\n",
    "```bash\n",
    "fstintersect string.fsa test.fsa |\\ \n",
    "    fstshortestpath |\\\n",
    "    fstrmepsilon |\\\n",
    "    fsttopsort |\\\n",
    "    fstprint\n",
    "```\n",
    "\n",
    "The \"cleaned\" FSM is sometimes required as an input for the subsequent operation. \n",
    "For such cases please consult the tool documentation."
   ]
  },
  {
   "cell_type": "markdown",
   "metadata": {
    "slideshow": {
     "slide_type": "slide"
    }
   },
   "source": [
    "### Exercises\n",
    "Mohri et al. (1996) [FSM Toolkit Exercises](https://github.com/esrel/LUS/blob/master/extras/Mohri_FST_ex.pdf):\n",
    "\n",
    "- on acceptors: 1, 2, 3\n",
    "- on transducers: 5, 9\n",
    "\n",
    "For each exercise:\n",
    "- write test cases to apply fst to\n",
    "- compile those into FAR using `farcompilestrings`\n",
    "- use `farextract` and `farcompile` tools\n",
    "- print accepted strings using `farprintstrings`"
   ]
  },
  {
   "cell_type": "markdown",
   "metadata": {
    "slideshow": {
     "slide_type": "slide"
    }
   },
   "source": [
    "#### E1. \n",
    "\n",
    "Given the alphabet $L = \\{a...z, A...Z\\}$ + `<space>`, create an automaton that:\n",
    "\n",
    "- accepts a letter in $L$ (including space).\n",
    "- accepts a single space.\n",
    "- accepts a capitalized word (where a word is a string of letters in $L$ excluding space and a capitalized word has its initial letter uppercase and remaining letters lowercase).\n",
    "- accepts a word containing the letter $a$\n"
   ]
  },
  {
   "cell_type": "code",
   "execution_count": null,
   "metadata": {
    "slideshow": {
     "slide_type": "skip"
    }
   },
   "outputs": [],
   "source": []
  },
  {
   "cell_type": "markdown",
   "metadata": {
    "slideshow": {
     "slide_type": "slide"
    }
   },
   "source": [
    "#### E2.\n",
    "\n",
    "Using the automata in E1 as the building blocks, use appropriate FSM operations on them to create an automaton that:\n",
    "\n",
    "- accepts zero or more capitalized words followed by spaces.\n",
    "- accepts a word beginning or ending in a capitalized letter (optional).\n",
    "- accepts a word that is capitalized and contains the letter $a$.\n",
    "- accepts a word that is capitalized or does not contain an $a$.\n",
    "- accepts a word that is capitalized or does not contain an $a$ without using `fstunion` (optional). "
   ]
  },
  {
   "cell_type": "code",
   "execution_count": null,
   "metadata": {
    "slideshow": {
     "slide_type": "skip"
    }
   },
   "outputs": [],
   "source": []
  },
  {
   "cell_type": "markdown",
   "metadata": {
    "slideshow": {
     "slide_type": "slide"
    }
   },
   "source": [
    "#### E3. \n",
    "- epsilon-remove, determinize, and minimize each of the automata in E2. \n",
    "- give the number of states and arcs before and after these operations."
   ]
  },
  {
   "cell_type": "code",
   "execution_count": null,
   "metadata": {
    "slideshow": {
     "slide_type": "skip"
    }
   },
   "outputs": [],
   "source": []
  },
  {
   "cell_type": "markdown",
   "metadata": {
    "slideshow": {
     "slide_type": "slide"
    }
   },
   "source": [
    "#### E5.\n",
    "Given the alphabet $\\{a,b,...,z\\}$ + `<space>`\n",
    "\n",
    "- create a transducer that implements *rot13* cipher: \n",
    "    - $a \\rightarrow n$\n",
    "    - $b \\rightarrow o$\n",
    "    - ...\n",
    "    - $m \\rightarrow z$\n",
    "    - $n \\rightarrow a$\n",
    "    - $o \\rightarrow b$\n",
    "    - ...\n",
    "    - $z \\rightarrow m$\n",
    "- encode and decode the message \"my secret message\"\n",
    "    - assume `<space>` $\\rightarrow$ `<space>`"
   ]
  },
  {
   "cell_type": "code",
   "execution_count": null,
   "metadata": {
    "slideshow": {
     "slide_type": "skip"
    }
   },
   "outputs": [],
   "source": []
  },
  {
   "cell_type": "markdown",
   "metadata": {
    "slideshow": {
     "slide_type": "slide"
    }
   },
   "source": [
    "#### E9.\n",
    "Given the alphabet $L = \\{A, G, T, C\\}$\n",
    "\n",
    "- create transducer $T$ that implements [edit distance](https://en.wikipedia.org/wiki/Edit_distance)\n",
    "\n",
    "    - $$d(x,x) = 0, x \\in L$$\n",
    "    - $$d(x,y) = d(x,\\epsilon) = d(\\epsilon,y) = 1, x \\neq y \\in L$$\n",
    "\n",
    "- using $T$ find the best alignment between the strings \"AGTCC\" and \"GGTACC\"\n",
    "- find the second best alignment"
   ]
  },
  {
   "cell_type": "code",
   "execution_count": null,
   "metadata": {
    "slideshow": {
     "slide_type": "skip"
    }
   },
   "outputs": [],
   "source": []
  }
 ],
 "metadata": {
  "celltoolbar": "Slideshow",
  "kernelspec": {
   "display_name": "Python 3",
   "language": "python",
   "name": "python3"
  },
  "language_info": {
   "codemirror_mode": {
    "name": "ipython",
    "version": 3
   },
   "file_extension": ".py",
   "mimetype": "text/x-python",
   "name": "python",
   "nbconvert_exporter": "python",
   "pygments_lexer": "ipython3",
   "version": "3.8.0"
  }
 },
 "nbformat": 4,
 "nbformat_minor": 4
}
