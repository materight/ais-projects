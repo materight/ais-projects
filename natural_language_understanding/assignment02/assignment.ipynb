{
 "metadata": {
  "language_info": {
   "codemirror_mode": {
    "name": "ipython",
    "version": 3
   },
   "file_extension": ".py",
   "mimetype": "text/x-python",
   "name": "python",
   "nbconvert_exporter": "python",
   "pygments_lexer": "ipython3",
   "version": "3.8.3"
  },
  "orig_nbformat": 2,
  "kernelspec": {
   "name": "python383jvsc74a57bd0ae03d948584253fec240bc08d589a6fc5490ee03a1d28d126cf31e5ae02e89c9",
   "display_name": "Python 3.8.3 64-bit ('base': conda)"
  }
 },
 "nbformat": 4,
 "nbformat_minor": 2,
 "cells": [
  {
   "source": [
    "## Assignment 2\n",
    "\n",
    "Assigment is in the intersection of Named Entity Recognition and Dependency Parsing.\n",
    "\n",
    "1. Evaluate spaCy NER on CoNLL 2003 data (provided)\n",
    "    - report token-level performance (per class and total)\n",
    "        - accuracy of correctly recognizing all tokens that belong to named entities (i.e. tag-level accuracy) \n",
    "    - report CoNLL chunk-level performance (per class and total);\n",
    "        - precision, recall, f-measure of correctly recognizing all the named entities in a chunk per class and total  \n",
    "\n",
    "2. Grouping of Entities.\n",
    "Write a function to group recognized named entities using `noun_chunks` method of [spaCy](https://spacy.io/usage/linguistic-features#noun-chunks). Analyze the groups in terms of most frequent combinations (i.e. NER types that go together). \n",
    "\n",
    "3. One of the possible post-processing steps is to fix segmentation errors.\n",
    "Write a function that extends the entity span to cover the full noun-compounds. Make use of `compound` dependency relation."
   ],
   "cell_type": "markdown",
   "metadata": {}
  },
  {
   "cell_type": "code",
   "execution_count": 42,
   "metadata": {
    "tags": []
   },
   "outputs": [],
   "source": [
    "import pandas as pd\n",
    "import conll\n",
    "import spacy\n",
    "from spacy.tokens import Doc, Span\n",
    "from tqdm import tqdm\n",
    "\n",
    "DATASET_PATH = 'data/test.txt'\n",
    "\n",
    "# Read dataset\n",
    "corpus = conll.read_corpus_conll(DATASET_PATH, fs=' ')\n",
    "corpus = list(filter(lambda sent: sent[0][0] != '-DOCSTART-', corpus)) # Remove -DOCSTART- sentences\n",
    "words = [word[0] for sent in corpus for word in sent]\n",
    "\n",
    "# Parse with spaCy\n",
    "nlp = spacy.load('en_core_web_sm')\n",
    "doc = Doc(nlp.vocab, words)\n",
    "\n",
    "# Custom sentence division\n",
    "i = 0\n",
    "for sent in corpus:\n",
    "    for j, word in enumerate(sent):\n",
    "        doc[i].is_sent_start = (j == 0) # Set to true only if first word in sentence\n",
    "        i += 1\n",
    "\n",
    "# NER with spaCy\n",
    "for name, proc in nlp.pipeline:\n",
    "    doc = proc(doc)"
   ]
  },
  {
   "source": [
    "### 1. Evaluate spaCy NER on CoNLL 2003 data (provided)\n",
    "- report token-level performance (per class and total)\n",
    "    - accuracy of correctly recognizing all tokens that belong to named entities (i.e. tag-level accuracy) \n",
    "- report CoNLL chunk-level performance (per class and total);\n",
    "    - precision, recall, f-measure of correctly recognizing all the named entities in a chunk per class and total  "
   ],
   "cell_type": "markdown",
   "metadata": {}
  },
  {
   "cell_type": "code",
   "execution_count": 43,
   "metadata": {
    "tags": []
   },
   "outputs": [
    {
     "output_type": "display_data",
     "data": {
      "text/plain": "<pandas.io.formats.style.Styler at 0x7fc9929ca880>",
      "text/html": "<style  type=\"text/css\" >\n</style><table id=\"T_b9e8c_\" ><caption>Token-level performances</caption><thead>    <tr>        <th class=\"blank level0\" ></th>        <th class=\"col_heading level0 col0\" >accuracy</th>        <th class=\"col_heading level0 col1\" >s</th>    </tr></thead><tbody>\n                <tr>\n                        <th id=\"T_b9e8c_level0_row0\" class=\"row_heading level0 row0\" >B-LOC</th>\n                        <td id=\"T_b9e8c_row0_col0\" class=\"data row0 col0\" >0.685</td>\n                        <td id=\"T_b9e8c_row0_col1\" class=\"data row0 col1\" >1668</td>\n            </tr>\n            <tr>\n                        <th id=\"T_b9e8c_level0_row1\" class=\"row_heading level0 row1\" >B-MISC</th>\n                        <td id=\"T_b9e8c_row1_col0\" class=\"data row1 col0\" >0.554</td>\n                        <td id=\"T_b9e8c_row1_col1\" class=\"data row1 col1\" >702</td>\n            </tr>\n            <tr>\n                        <th id=\"T_b9e8c_level0_row2\" class=\"row_heading level0 row2\" >B-ORG</th>\n                        <td id=\"T_b9e8c_row2_col0\" class=\"data row2 col0\" >0.289</td>\n                        <td id=\"T_b9e8c_row2_col1\" class=\"data row2 col1\" >1661</td>\n            </tr>\n            <tr>\n                        <th id=\"T_b9e8c_level0_row3\" class=\"row_heading level0 row3\" >B-PER</th>\n                        <td id=\"T_b9e8c_row3_col0\" class=\"data row3 col0\" >0.607</td>\n                        <td id=\"T_b9e8c_row3_col1\" class=\"data row3 col1\" >1617</td>\n            </tr>\n            <tr>\n                        <th id=\"T_b9e8c_level0_row4\" class=\"row_heading level0 row4\" >I-LOC</th>\n                        <td id=\"T_b9e8c_row4_col0\" class=\"data row4 col0\" >0.595</td>\n                        <td id=\"T_b9e8c_row4_col1\" class=\"data row4 col1\" >257</td>\n            </tr>\n            <tr>\n                        <th id=\"T_b9e8c_level0_row5\" class=\"row_heading level0 row5\" >I-MISC</th>\n                        <td id=\"T_b9e8c_row5_col0\" class=\"data row5 col0\" >0.398</td>\n                        <td id=\"T_b9e8c_row5_col1\" class=\"data row5 col1\" >216</td>\n            </tr>\n            <tr>\n                        <th id=\"T_b9e8c_level0_row6\" class=\"row_heading level0 row6\" >I-ORG</th>\n                        <td id=\"T_b9e8c_row6_col0\" class=\"data row6 col0\" >0.499</td>\n                        <td id=\"T_b9e8c_row6_col1\" class=\"data row6 col1\" >835</td>\n            </tr>\n            <tr>\n                        <th id=\"T_b9e8c_level0_row7\" class=\"row_heading level0 row7\" >I-PER</th>\n                        <td id=\"T_b9e8c_row7_col0\" class=\"data row7 col0\" >0.735</td>\n                        <td id=\"T_b9e8c_row7_col1\" class=\"data row7 col1\" >1156</td>\n            </tr>\n            <tr>\n                        <th id=\"T_b9e8c_level0_row8\" class=\"row_heading level0 row8\" >O</th>\n                        <td id=\"T_b9e8c_row8_col0\" class=\"data row8 col0\" >0.868</td>\n                        <td id=\"T_b9e8c_row8_col1\" class=\"data row8 col1\" >38323</td>\n            </tr>\n            <tr>\n                        <th id=\"T_b9e8c_level0_row9\" class=\"row_heading level0 row9\" >total</th>\n                        <td id=\"T_b9e8c_row9_col0\" class=\"data row9 col0\" >0.813</td>\n                        <td id=\"T_b9e8c_row9_col1\" class=\"data row9 col1\" >46435</td>\n            </tr>\n    </tbody></table>"
     },
     "metadata": {}
    },
    {
     "output_type": "display_data",
     "data": {
      "text/plain": "<pandas.io.formats.style.Styler at 0x7fc9b05c89a0>",
      "text/html": "<style  type=\"text/css\" >\n</style><table id=\"T_40b07_\" ><caption>Chunk-level performances</caption><thead>    <tr>        <th class=\"blank level0\" ></th>        <th class=\"col_heading level0 col0\" >p</th>        <th class=\"col_heading level0 col1\" >r</th>        <th class=\"col_heading level0 col2\" >f</th>        <th class=\"col_heading level0 col3\" >s</th>    </tr></thead><tbody>\n                <tr>\n                        <th id=\"T_40b07_level0_row0\" class=\"row_heading level0 row0\" >LOC</th>\n                        <td id=\"T_40b07_row0_col0\" class=\"data row0 col0\" >0.777</td>\n                        <td id=\"T_40b07_row0_col1\" class=\"data row0 col1\" >0.676</td>\n                        <td id=\"T_40b07_row0_col2\" class=\"data row0 col2\" >0.723</td>\n                        <td id=\"T_40b07_row0_col3\" class=\"data row0 col3\" >1668</td>\n            </tr>\n            <tr>\n                        <th id=\"T_40b07_level0_row1\" class=\"row_heading level0 row1\" >MISC</th>\n                        <td id=\"T_40b07_row1_col0\" class=\"data row1 col0\" >0.104</td>\n                        <td id=\"T_40b07_row1_col1\" class=\"data row1 col1\" >0.543</td>\n                        <td id=\"T_40b07_row1_col2\" class=\"data row1 col2\" >0.175</td>\n                        <td id=\"T_40b07_row1_col3\" class=\"data row1 col3\" >702</td>\n            </tr>\n            <tr>\n                        <th id=\"T_40b07_level0_row2\" class=\"row_heading level0 row2\" >ORG</th>\n                        <td id=\"T_40b07_row2_col0\" class=\"data row2 col0\" >0.455</td>\n                        <td id=\"T_40b07_row2_col1\" class=\"data row2 col1\" >0.256</td>\n                        <td id=\"T_40b07_row2_col2\" class=\"data row2 col2\" >0.328</td>\n                        <td id=\"T_40b07_row2_col3\" class=\"data row2 col3\" >1661</td>\n            </tr>\n            <tr>\n                        <th id=\"T_40b07_level0_row3\" class=\"row_heading level0 row3\" >PER</th>\n                        <td id=\"T_40b07_row3_col0\" class=\"data row3 col0\" >0.757</td>\n                        <td id=\"T_40b07_row3_col1\" class=\"data row3 col1\" >0.590</td>\n                        <td id=\"T_40b07_row3_col2\" class=\"data row3 col2\" >0.663</td>\n                        <td id=\"T_40b07_row3_col3\" class=\"data row3 col3\" >1617</td>\n            </tr>\n            <tr>\n                        <th id=\"T_40b07_level0_row4\" class=\"row_heading level0 row4\" >total</th>\n                        <td id=\"T_40b07_row4_col0\" class=\"data row4 col0\" >0.395</td>\n                        <td id=\"T_40b07_row4_col1\" class=\"data row4 col1\" >0.511</td>\n                        <td id=\"T_40b07_row4_col2\" class=\"data row4 col2\" >0.446</td>\n                        <td id=\"T_40b07_row4_col3\" class=\"data row4 col3\" >5648</td>\n            </tr>\n    </tbody></table>"
     },
     "metadata": {}
    }
   ],
   "source": [
    "# Map spacy tags to conll\n",
    "def to_conll(iob, ent_type):\n",
    "    conll_type = {\n",
    "        'PERSON': 'PER',\n",
    "        'LOC': 'LOC',\n",
    "        'GPE': 'LOC',\n",
    "        'ORG': 'ORG',\n",
    "        '': ''\n",
    "    }.get(ent_type)\n",
    "    if conll_type is None: \n",
    "        conll_type = 'MISC'\n",
    "    return f'{iob}-{conll_type}'.strip('-')\n",
    "\n",
    "# Compute token-level accuracy\n",
    "def accuracy(refs, hyps):\n",
    "    acc, tot = {}, {}\n",
    "    if len(refs) != len(hyps): raise ValueError(f'Size mismatch: ref: {len(refs)}, hyp: {len(hyps)}')\n",
    "    for ref_chunk, hyp_chunk in zip(refs, hyps):\n",
    "        if len(ref_chunk) != len(hyp_chunk): raise ValueError(f'Size mismatch: ref: {len(ref_chunk)}, hyp: {len(hyp_chunk)}')\n",
    "        for ref_token, hyp_token in zip(ref_chunk, hyp_chunk):\n",
    "            # The two compared token mus be equal\n",
    "            if ref_token[0] != hyp_token[0]: raise ValueError(f'Alignment mismatch: ref: {ref_token} & hyp: {hyp_token}')\n",
    "            # Create missing keys\n",
    "            if ref_token[1] not in acc:\n",
    "                acc[ref_token[1]], tot[ref_token[1]] = 0, 0\n",
    "            # Increase counts for accuracy and total\n",
    "            if ref_token[1] == hyp_token[1]:\n",
    "                acc[ref_token[1]] += 1\n",
    "            tot[ref_token[1]] += 1\n",
    "    # Compute total metrics\n",
    "    acc['total'], tot['total'] = sum(acc.values()), sum(tot.values())\n",
    "    # Compute accuracy by category\n",
    "    for key in acc:\n",
    "        acc[key] = {'accuracy': acc[key] / tot[key], 's': tot[key] }\n",
    "    return acc\n",
    "\n",
    "def evaluate(doc):\n",
    "    # Results pre-processing\n",
    "    refs = [[(word[0], word[3]) for word in sent] for sent in corpus]\n",
    "    hyps = [[(word.text, to_conll(word.ent_iob_, word.ent_type_)) for word in sent] for sent in doc.sents]\n",
    "\n",
    "    # Token-level\n",
    "    token_lvl = accuracy(refs, hyps)\n",
    "    token_lvl = pd.DataFrame().from_dict(token_lvl, orient='index').sort_index()\n",
    "\n",
    "    # Chunk-level\n",
    "    chunk_lvl = conll.evaluate(refs, hyps)\n",
    "    chunk_lvl = pd.DataFrame().from_dict(chunk_lvl, orient='index').sort_index()\n",
    "\n",
    "    return token_lvl, chunk_lvl\n",
    "\n",
    "# Compute performances\n",
    "token_lvl, chunk_lvl = evaluate(doc)\n",
    "display(token_lvl.style.set_precision(3).set_caption(\"Token-level performances\"))\n",
    "display(chunk_lvl.style.set_precision(3).set_caption(\"Chunk-level performances\"))\n"
   ]
  },
  {
   "source": [
    "### 2. Grouping of Entities.\n",
    "\n",
    "Write a function to group recognized named entities using `noun_chunks` method of [spaCy](https://spacy.io/usage/linguistic-features#noun-chunks). Analyze the groups in terms of most frequent combinations (i.e. NER types that go together). "
   ],
   "cell_type": "markdown",
   "metadata": {}
  },
  {
   "cell_type": "code",
   "execution_count": 7,
   "metadata": {
    "tags": []
   },
   "outputs": [
    {
     "output_type": "stream",
     "name": "stderr",
     "text": [
      "100%|██████████| 11157/11157 [04:10<00:00, 44.51it/s]\n"
     ]
    },
    {
     "output_type": "display_data",
     "data": {
      "text/plain": "<pandas.io.formats.style.Styler at 0x7fc9ad485c70>",
      "text/html": "<style  type=\"text/css\" >\n</style><table id=\"T_ed957_\" ><caption>Groups frequencies</caption><thead>    <tr>        <th class=\"blank level0\" ></th>        <th class=\"col_heading level0 col0\" >freq</th>    </tr></thead><tbody>\n                <tr>\n                        <th id=\"T_ed957_level0_row0\" class=\"row_heading level0 row0\" >CARDINAL</th>\n                        <td id=\"T_ed957_row0_col0\" class=\"data row0 col0\" >1500</td>\n            </tr>\n            <tr>\n                        <th id=\"T_ed957_level0_row1\" class=\"row_heading level0 row1\" >GPE</th>\n                        <td id=\"T_ed957_row1_col0\" class=\"data row1 col0\" >1246</td>\n            </tr>\n            <tr>\n                        <th id=\"T_ed957_level0_row2\" class=\"row_heading level0 row2\" >PERSON</th>\n                        <td id=\"T_ed957_row2_col0\" class=\"data row2 col0\" >1021</td>\n            </tr>\n            <tr>\n                        <th id=\"T_ed957_level0_row3\" class=\"row_heading level0 row3\" >DATE</th>\n                        <td id=\"T_ed957_row3_col0\" class=\"data row3 col0\" >859</td>\n            </tr>\n            <tr>\n                        <th id=\"T_ed957_level0_row4\" class=\"row_heading level0 row4\" >ORG</th>\n                        <td id=\"T_ed957_row4_col0\" class=\"data row4 col0\" >831</td>\n            </tr>\n            <tr>\n                        <th id=\"T_ed957_level0_row5\" class=\"row_heading level0 row5\" >NORP</th>\n                        <td id=\"T_ed957_row5_col0\" class=\"data row5 col0\" >292</td>\n            </tr>\n            <tr>\n                        <th id=\"T_ed957_level0_row6\" class=\"row_heading level0 row6\" >MONEY</th>\n                        <td id=\"T_ed957_row6_col0\" class=\"data row6 col0\" >146</td>\n            </tr>\n            <tr>\n                        <th id=\"T_ed957_level0_row7\" class=\"row_heading level0 row7\" >ORDINAL</th>\n                        <td id=\"T_ed957_row7_col0\" class=\"data row7 col0\" >119</td>\n            </tr>\n            <tr>\n                        <th id=\"T_ed957_level0_row8\" class=\"row_heading level0 row8\" >CARDINAL_PERSON</th>\n                        <td id=\"T_ed957_row8_col0\" class=\"data row8 col0\" >92</td>\n            </tr>\n            <tr>\n                        <th id=\"T_ed957_level0_row9\" class=\"row_heading level0 row9\" >TIME</th>\n                        <td id=\"T_ed957_row9_col0\" class=\"data row9 col0\" >80</td>\n            </tr>\n            <tr>\n                        <th id=\"T_ed957_level0_row10\" class=\"row_heading level0 row10\" >PERCENT</th>\n                        <td id=\"T_ed957_row10_col0\" class=\"data row10 col0\" >70</td>\n            </tr>\n            <tr>\n                        <th id=\"T_ed957_level0_row11\" class=\"row_heading level0 row11\" >EVENT</th>\n                        <td id=\"T_ed957_row11_col0\" class=\"data row11 col0\" >56</td>\n            </tr>\n            <tr>\n                        <th id=\"T_ed957_level0_row12\" class=\"row_heading level0 row12\" >QUANTITY</th>\n                        <td id=\"T_ed957_row12_col0\" class=\"data row12 col0\" >51</td>\n            </tr>\n            <tr>\n                        <th id=\"T_ed957_level0_row13\" class=\"row_heading level0 row13\" >LOC</th>\n                        <td id=\"T_ed957_row13_col0\" class=\"data row13 col0\" >49</td>\n            </tr>\n            <tr>\n                        <th id=\"T_ed957_level0_row14\" class=\"row_heading level0 row14\" >NORP_PERSON</th>\n                        <td id=\"T_ed957_row14_col0\" class=\"data row14 col0\" >41</td>\n            </tr>\n            <tr>\n                        <th id=\"T_ed957_level0_row15\" class=\"row_heading level0 row15\" >GPE_PERSON</th>\n                        <td id=\"T_ed957_row15_col0\" class=\"data row15 col0\" >32</td>\n            </tr>\n            <tr>\n                        <th id=\"T_ed957_level0_row16\" class=\"row_heading level0 row16\" >ORG_PERSON</th>\n                        <td id=\"T_ed957_row16_col0\" class=\"data row16 col0\" >24</td>\n            </tr>\n            <tr>\n                        <th id=\"T_ed957_level0_row17\" class=\"row_heading level0 row17\" >PRODUCT</th>\n                        <td id=\"T_ed957_row17_col0\" class=\"data row17 col0\" >23</td>\n            </tr>\n            <tr>\n                        <th id=\"T_ed957_level0_row18\" class=\"row_heading level0 row18\" >FAC</th>\n                        <td id=\"T_ed957_row18_col0\" class=\"data row18 col0\" >23</td>\n            </tr>\n            <tr>\n                        <th id=\"T_ed957_level0_row19\" class=\"row_heading level0 row19\" >CARDINAL_ORG</th>\n                        <td id=\"T_ed957_row19_col0\" class=\"data row19 col0\" >19</td>\n            </tr>\n            <tr>\n                        <th id=\"T_ed957_level0_row20\" class=\"row_heading level0 row20\" >CARDINAL_GPE</th>\n                        <td id=\"T_ed957_row20_col0\" class=\"data row20 col0\" >18</td>\n            </tr>\n            <tr>\n                        <th id=\"T_ed957_level0_row21\" class=\"row_heading level0 row21\" >CARDINAL_NORP</th>\n                        <td id=\"T_ed957_row21_col0\" class=\"data row21 col0\" >18</td>\n            </tr>\n            <tr>\n                        <th id=\"T_ed957_level0_row22\" class=\"row_heading level0 row22\" >GPE_GPE</th>\n                        <td id=\"T_ed957_row22_col0\" class=\"data row22 col0\" >17</td>\n            </tr>\n            <tr>\n                        <th id=\"T_ed957_level0_row23\" class=\"row_heading level0 row23\" >LAW</th>\n                        <td id=\"T_ed957_row23_col0\" class=\"data row23 col0\" >13</td>\n            </tr>\n            <tr>\n                        <th id=\"T_ed957_level0_row24\" class=\"row_heading level0 row24\" >WORK_OF_ART</th>\n                        <td id=\"T_ed957_row24_col0\" class=\"data row24 col0\" >13</td>\n            </tr>\n            <tr>\n                        <th id=\"T_ed957_level0_row25\" class=\"row_heading level0 row25\" >GPE_ORG</th>\n                        <td id=\"T_ed957_row25_col0\" class=\"data row25 col0\" >12</td>\n            </tr>\n            <tr>\n                        <th id=\"T_ed957_level0_row26\" class=\"row_heading level0 row26\" >ORG_ORG</th>\n                        <td id=\"T_ed957_row26_col0\" class=\"data row26 col0\" >9</td>\n            </tr>\n            <tr>\n                        <th id=\"T_ed957_level0_row27\" class=\"row_heading level0 row27\" >DATE_EVENT</th>\n                        <td id=\"T_ed957_row27_col0\" class=\"data row27 col0\" >8</td>\n            </tr>\n            <tr>\n                        <th id=\"T_ed957_level0_row28\" class=\"row_heading level0 row28\" >DATE_TIME</th>\n                        <td id=\"T_ed957_row28_col0\" class=\"data row28 col0\" >7</td>\n            </tr>\n            <tr>\n                        <th id=\"T_ed957_level0_row29\" class=\"row_heading level0 row29\" >GPE_ORDINAL</th>\n                        <td id=\"T_ed957_row29_col0\" class=\"data row29 col0\" >7</td>\n            </tr>\n            <tr>\n                        <th id=\"T_ed957_level0_row30\" class=\"row_heading level0 row30\" >PERSON_PERSON</th>\n                        <td id=\"T_ed957_row30_col0\" class=\"data row30 col0\" >7</td>\n            </tr>\n            <tr>\n                        <th id=\"T_ed957_level0_row31\" class=\"row_heading level0 row31\" >GPE_PRODUCT</th>\n                        <td id=\"T_ed957_row31_col0\" class=\"data row31 col0\" >7</td>\n            </tr>\n            <tr>\n                        <th id=\"T_ed957_level0_row32\" class=\"row_heading level0 row32\" >NORP_ORG</th>\n                        <td id=\"T_ed957_row32_col0\" class=\"data row32 col0\" >7</td>\n            </tr>\n            <tr>\n                        <th id=\"T_ed957_level0_row33\" class=\"row_heading level0 row33\" >LANGUAGE</th>\n                        <td id=\"T_ed957_row33_col0\" class=\"data row33 col0\" >6</td>\n            </tr>\n            <tr>\n                        <th id=\"T_ed957_level0_row34\" class=\"row_heading level0 row34\" >DATE_PERSON</th>\n                        <td id=\"T_ed957_row34_col0\" class=\"data row34 col0\" >6</td>\n            </tr>\n            <tr>\n                        <th id=\"T_ed957_level0_row35\" class=\"row_heading level0 row35\" >GPE_CARDINAL</th>\n                        <td id=\"T_ed957_row35_col0\" class=\"data row35 col0\" >6</td>\n            </tr>\n            <tr>\n                        <th id=\"T_ed957_level0_row36\" class=\"row_heading level0 row36\" >GPE_DATE</th>\n                        <td id=\"T_ed957_row36_col0\" class=\"data row36 col0\" >5</td>\n            </tr>\n            <tr>\n                        <th id=\"T_ed957_level0_row37\" class=\"row_heading level0 row37\" >CARDINAL_CARDINAL</th>\n                        <td id=\"T_ed957_row37_col0\" class=\"data row37 col0\" >5</td>\n            </tr>\n            <tr>\n                        <th id=\"T_ed957_level0_row38\" class=\"row_heading level0 row38\" >NORP_ORDINAL</th>\n                        <td id=\"T_ed957_row38_col0\" class=\"data row38 col0\" >5</td>\n            </tr>\n            <tr>\n                        <th id=\"T_ed957_level0_row39\" class=\"row_heading level0 row39\" >PERSON_GPE</th>\n                        <td id=\"T_ed957_row39_col0\" class=\"data row39 col0\" >5</td>\n            </tr>\n            <tr>\n                        <th id=\"T_ed957_level0_row40\" class=\"row_heading level0 row40\" >ORG_GPE</th>\n                        <td id=\"T_ed957_row40_col0\" class=\"data row40 col0\" >4</td>\n            </tr>\n            <tr>\n                        <th id=\"T_ed957_level0_row41\" class=\"row_heading level0 row41\" >CARDINAL_GPE_GPE</th>\n                        <td id=\"T_ed957_row41_col0\" class=\"data row41 col0\" >3</td>\n            </tr>\n            <tr>\n                        <th id=\"T_ed957_level0_row42\" class=\"row_heading level0 row42\" >PERSON_CARDINAL</th>\n                        <td id=\"T_ed957_row42_col0\" class=\"data row42 col0\" >3</td>\n            </tr>\n            <tr>\n                        <th id=\"T_ed957_level0_row43\" class=\"row_heading level0 row43\" >LANGUAGE_ORDINAL</th>\n                        <td id=\"T_ed957_row43_col0\" class=\"data row43 col0\" >3</td>\n            </tr>\n            <tr>\n                        <th id=\"T_ed957_level0_row44\" class=\"row_heading level0 row44\" >DATE_ORG</th>\n                        <td id=\"T_ed957_row44_col0\" class=\"data row44 col0\" >3</td>\n            </tr>\n            <tr>\n                        <th id=\"T_ed957_level0_row45\" class=\"row_heading level0 row45\" >NORP_NORP</th>\n                        <td id=\"T_ed957_row45_col0\" class=\"data row45 col0\" >2</td>\n            </tr>\n            <tr>\n                        <th id=\"T_ed957_level0_row46\" class=\"row_heading level0 row46\" >ORDINAL_GPE</th>\n                        <td id=\"T_ed957_row46_col0\" class=\"data row46 col0\" >2</td>\n            </tr>\n            <tr>\n                        <th id=\"T_ed957_level0_row47\" class=\"row_heading level0 row47\" >ORG_NORP</th>\n                        <td id=\"T_ed957_row47_col0\" class=\"data row47 col0\" >2</td>\n            </tr>\n            <tr>\n                        <th id=\"T_ed957_level0_row48\" class=\"row_heading level0 row48\" >ORDINAL_PERSON</th>\n                        <td id=\"T_ed957_row48_col0\" class=\"data row48 col0\" >2</td>\n            </tr>\n            <tr>\n                        <th id=\"T_ed957_level0_row49\" class=\"row_heading level0 row49\" >ORG_CARDINAL</th>\n                        <td id=\"T_ed957_row49_col0\" class=\"data row49 col0\" >2</td>\n            </tr>\n            <tr>\n                        <th id=\"T_ed957_level0_row50\" class=\"row_heading level0 row50\" >ORDINAL_EVENT</th>\n                        <td id=\"T_ed957_row50_col0\" class=\"data row50 col0\" >2</td>\n            </tr>\n            <tr>\n                        <th id=\"T_ed957_level0_row51\" class=\"row_heading level0 row51\" >DATE_NORP</th>\n                        <td id=\"T_ed957_row51_col0\" class=\"data row51 col0\" >2</td>\n            </tr>\n            <tr>\n                        <th id=\"T_ed957_level0_row52\" class=\"row_heading level0 row52\" >CARDINAL_CARDINAL_ORG</th>\n                        <td id=\"T_ed957_row52_col0\" class=\"data row52 col0\" >2</td>\n            </tr>\n            <tr>\n                        <th id=\"T_ed957_level0_row53\" class=\"row_heading level0 row53\" >GPE_FAC</th>\n                        <td id=\"T_ed957_row53_col0\" class=\"data row53 col0\" >2</td>\n            </tr>\n            <tr>\n                        <th id=\"T_ed957_level0_row54\" class=\"row_heading level0 row54\" >DATE_NORP_PERSON</th>\n                        <td id=\"T_ed957_row54_col0\" class=\"data row54 col0\" >2</td>\n            </tr>\n            <tr>\n                        <th id=\"T_ed957_level0_row55\" class=\"row_heading level0 row55\" >GPE_LOC</th>\n                        <td id=\"T_ed957_row55_col0\" class=\"data row55 col0\" >2</td>\n            </tr>\n            <tr>\n                        <th id=\"T_ed957_level0_row56\" class=\"row_heading level0 row56\" >ORG_DATE</th>\n                        <td id=\"T_ed957_row56_col0\" class=\"data row56 col0\" >2</td>\n            </tr>\n            <tr>\n                        <th id=\"T_ed957_level0_row57\" class=\"row_heading level0 row57\" >PERSON_ORG</th>\n                        <td id=\"T_ed957_row57_col0\" class=\"data row57 col0\" >2</td>\n            </tr>\n            <tr>\n                        <th id=\"T_ed957_level0_row58\" class=\"row_heading level0 row58\" >PERSON_PRODUCT_ORDINAL</th>\n                        <td id=\"T_ed957_row58_col0\" class=\"data row58 col0\" >1</td>\n            </tr>\n            <tr>\n                        <th id=\"T_ed957_level0_row59\" class=\"row_heading level0 row59\" >ORG_NORP_PERSON</th>\n                        <td id=\"T_ed957_row59_col0\" class=\"data row59 col0\" >1</td>\n            </tr>\n            <tr>\n                        <th id=\"T_ed957_level0_row60\" class=\"row_heading level0 row60\" >CARDINAL_CARDINAL_NORP</th>\n                        <td id=\"T_ed957_row60_col0\" class=\"data row60 col0\" >1</td>\n            </tr>\n            <tr>\n                        <th id=\"T_ed957_level0_row61\" class=\"row_heading level0 row61\" >ORG_MONEY</th>\n                        <td id=\"T_ed957_row61_col0\" class=\"data row61 col0\" >1</td>\n            </tr>\n            <tr>\n                        <th id=\"T_ed957_level0_row62\" class=\"row_heading level0 row62\" >PERSON_MONEY</th>\n                        <td id=\"T_ed957_row62_col0\" class=\"data row62 col0\" >1</td>\n            </tr>\n            <tr>\n                        <th id=\"T_ed957_level0_row63\" class=\"row_heading level0 row63\" >PERSON_PERSON_PERSON</th>\n                        <td id=\"T_ed957_row63_col0\" class=\"data row63 col0\" >1</td>\n            </tr>\n            <tr>\n                        <th id=\"T_ed957_level0_row64\" class=\"row_heading level0 row64\" >QUANTITY_QUANTITY</th>\n                        <td id=\"T_ed957_row64_col0\" class=\"data row64 col0\" >1</td>\n            </tr>\n            <tr>\n                        <th id=\"T_ed957_level0_row65\" class=\"row_heading level0 row65\" >PERSON_FAC</th>\n                        <td id=\"T_ed957_row65_col0\" class=\"data row65 col0\" >1</td>\n            </tr>\n            <tr>\n                        <th id=\"T_ed957_level0_row66\" class=\"row_heading level0 row66\" >CARDINAL_CARDINAL_PERSON</th>\n                        <td id=\"T_ed957_row66_col0\" class=\"data row66 col0\" >1</td>\n            </tr>\n            <tr>\n                        <th id=\"T_ed957_level0_row67\" class=\"row_heading level0 row67\" >EVENT_CARDINAL</th>\n                        <td id=\"T_ed957_row67_col0\" class=\"data row67 col0\" >1</td>\n            </tr>\n            <tr>\n                        <th id=\"T_ed957_level0_row68\" class=\"row_heading level0 row68\" >ORG_QUANTITY</th>\n                        <td id=\"T_ed957_row68_col0\" class=\"data row68 col0\" >1</td>\n            </tr>\n            <tr>\n                        <th id=\"T_ed957_level0_row69\" class=\"row_heading level0 row69\" >PERSON_NORP_PERSON</th>\n                        <td id=\"T_ed957_row69_col0\" class=\"data row69 col0\" >1</td>\n            </tr>\n            <tr>\n                        <th id=\"T_ed957_level0_row70\" class=\"row_heading level0 row70\" >DATE_CARDINAL</th>\n                        <td id=\"T_ed957_row70_col0\" class=\"data row70 col0\" >1</td>\n            </tr>\n            <tr>\n                        <th id=\"T_ed957_level0_row71\" class=\"row_heading level0 row71\" >ORG_WORK_OF_ART</th>\n                        <td id=\"T_ed957_row71_col0\" class=\"data row71 col0\" >1</td>\n            </tr>\n            <tr>\n                        <th id=\"T_ed957_level0_row72\" class=\"row_heading level0 row72\" >CARDINAL_DATE</th>\n                        <td id=\"T_ed957_row72_col0\" class=\"data row72 col0\" >1</td>\n            </tr>\n            <tr>\n                        <th id=\"T_ed957_level0_row73\" class=\"row_heading level0 row73\" >PERSON_ORDINAL</th>\n                        <td id=\"T_ed957_row73_col0\" class=\"data row73 col0\" >1</td>\n            </tr>\n            <tr>\n                        <th id=\"T_ed957_level0_row74\" class=\"row_heading level0 row74\" >GPE_CARDINAL_ORG</th>\n                        <td id=\"T_ed957_row74_col0\" class=\"data row74 col0\" >1</td>\n            </tr>\n            <tr>\n                        <th id=\"T_ed957_level0_row75\" class=\"row_heading level0 row75\" >CARDINAL_EVENT</th>\n                        <td id=\"T_ed957_row75_col0\" class=\"data row75 col0\" >1</td>\n            </tr>\n            <tr>\n                        <th id=\"T_ed957_level0_row76\" class=\"row_heading level0 row76\" >ORDINAL_TIME</th>\n                        <td id=\"T_ed957_row76_col0\" class=\"data row76 col0\" >1</td>\n            </tr>\n            <tr>\n                        <th id=\"T_ed957_level0_row77\" class=\"row_heading level0 row77\" >GPE_DATE_ORG</th>\n                        <td id=\"T_ed957_row77_col0\" class=\"data row77 col0\" >1</td>\n            </tr>\n            <tr>\n                        <th id=\"T_ed957_level0_row78\" class=\"row_heading level0 row78\" >GPE_ORDINAL_PERSON</th>\n                        <td id=\"T_ed957_row78_col0\" class=\"data row78 col0\" >1</td>\n            </tr>\n            <tr>\n                        <th id=\"T_ed957_level0_row79\" class=\"row_heading level0 row79\" >CARDINAL_GPE_TIME</th>\n                        <td id=\"T_ed957_row79_col0\" class=\"data row79 col0\" >1</td>\n            </tr>\n            <tr>\n                        <th id=\"T_ed957_level0_row80\" class=\"row_heading level0 row80\" >GPE_PERSON_CARDINAL</th>\n                        <td id=\"T_ed957_row80_col0\" class=\"data row80 col0\" >1</td>\n            </tr>\n            <tr>\n                        <th id=\"T_ed957_level0_row81\" class=\"row_heading level0 row81\" >GPE_PERSON_PERSON</th>\n                        <td id=\"T_ed957_row81_col0\" class=\"data row81 col0\" >1</td>\n            </tr>\n            <tr>\n                        <th id=\"T_ed957_level0_row82\" class=\"row_heading level0 row82\" >FAC_GPE</th>\n                        <td id=\"T_ed957_row82_col0\" class=\"data row82 col0\" >1</td>\n            </tr>\n            <tr>\n                        <th id=\"T_ed957_level0_row83\" class=\"row_heading level0 row83\" >GPE_PRODUCT_CARDINAL</th>\n                        <td id=\"T_ed957_row83_col0\" class=\"data row83 col0\" >1</td>\n            </tr>\n            <tr>\n                        <th id=\"T_ed957_level0_row84\" class=\"row_heading level0 row84\" >DATE_LANGUAGE_ORDINAL</th>\n                        <td id=\"T_ed957_row84_col0\" class=\"data row84 col0\" >1</td>\n            </tr>\n            <tr>\n                        <th id=\"T_ed957_level0_row85\" class=\"row_heading level0 row85\" >LOC_DATE</th>\n                        <td id=\"T_ed957_row85_col0\" class=\"data row85 col0\" >1</td>\n            </tr>\n            <tr>\n                        <th id=\"T_ed957_level0_row86\" class=\"row_heading level0 row86\" >LOC_ORDINAL</th>\n                        <td id=\"T_ed957_row86_col0\" class=\"data row86 col0\" >1</td>\n            </tr>\n            <tr>\n                        <th id=\"T_ed957_level0_row87\" class=\"row_heading level0 row87\" >MONEY_CARDINAL_CARDINAL_ORG</th>\n                        <td id=\"T_ed957_row87_col0\" class=\"data row87 col0\" >1</td>\n            </tr>\n            <tr>\n                        <th id=\"T_ed957_level0_row88\" class=\"row_heading level0 row88\" >MONEY_MONEY</th>\n                        <td id=\"T_ed957_row88_col0\" class=\"data row88 col0\" >1</td>\n            </tr>\n            <tr>\n                        <th id=\"T_ed957_level0_row89\" class=\"row_heading level0 row89\" >MONEY_PRODUCT</th>\n                        <td id=\"T_ed957_row89_col0\" class=\"data row89 col0\" >1</td>\n            </tr>\n            <tr>\n                        <th id=\"T_ed957_level0_row90\" class=\"row_heading level0 row90\" >DATE_GPE</th>\n                        <td id=\"T_ed957_row90_col0\" class=\"data row90 col0\" >1</td>\n            </tr>\n            <tr>\n                        <th id=\"T_ed957_level0_row91\" class=\"row_heading level0 row91\" >NORP_CARDINAL_CARDINAL</th>\n                        <td id=\"T_ed957_row91_col0\" class=\"data row91 col0\" >1</td>\n            </tr>\n            <tr>\n                        <th id=\"T_ed957_level0_row92\" class=\"row_heading level0 row92\" >NORP_DATE</th>\n                        <td id=\"T_ed957_row92_col0\" class=\"data row92 col0\" >1</td>\n            </tr>\n            <tr>\n                        <th id=\"T_ed957_level0_row93\" class=\"row_heading level0 row93\" >NORP_LOC</th>\n                        <td id=\"T_ed957_row93_col0\" class=\"data row93 col0\" >1</td>\n            </tr>\n            <tr>\n                        <th id=\"T_ed957_level0_row94\" class=\"row_heading level0 row94\" >DATE_WORK_OF_ART</th>\n                        <td id=\"T_ed957_row94_col0\" class=\"data row94 col0\" >1</td>\n            </tr>\n            <tr>\n                        <th id=\"T_ed957_level0_row95\" class=\"row_heading level0 row95\" >DATE_FAC</th>\n                        <td id=\"T_ed957_row95_col0\" class=\"data row95 col0\" >1</td>\n            </tr>\n            <tr>\n                        <th id=\"T_ed957_level0_row96\" class=\"row_heading level0 row96\" >NORP_PERSON_DATE</th>\n                        <td id=\"T_ed957_row96_col0\" class=\"data row96 col0\" >1</td>\n            </tr>\n            <tr>\n                        <th id=\"T_ed957_level0_row97\" class=\"row_heading level0 row97\" >CARDINAL_FAC</th>\n                        <td id=\"T_ed957_row97_col0\" class=\"data row97 col0\" >1</td>\n            </tr>\n            <tr>\n                        <th id=\"T_ed957_level0_row98\" class=\"row_heading level0 row98\" >ORDINAL_NORP</th>\n                        <td id=\"T_ed957_row98_col0\" class=\"data row98 col0\" >1</td>\n            </tr>\n            <tr>\n                        <th id=\"T_ed957_level0_row99\" class=\"row_heading level0 row99\" >ORDINAL_ORG</th>\n                        <td id=\"T_ed957_row99_col0\" class=\"data row99 col0\" >1</td>\n            </tr>\n            <tr>\n                        <th id=\"T_ed957_level0_row100\" class=\"row_heading level0 row100\" >CARDINAL_PERCENT</th>\n                        <td id=\"T_ed957_row100_col0\" class=\"data row100 col0\" >1</td>\n            </tr>\n    </tbody></table>"
     },
     "metadata": {}
    }
   ],
   "source": [
    "def group_ents(doc):\n",
    "    result = []\n",
    "    i = 0\n",
    "    doc_ents = list(doc.ents)\n",
    "    for chunk in tqdm(list(doc.noun_chunks)):\n",
    "        if len(chunk.ents) > 0:\n",
    "            result.append([]) # New chunk in result\n",
    "            for chunk_ent in chunk.ents:\n",
    "                if chunk_ent.text != doc_ents[i].text and len(result[-1]) > 0: # Misaligned noun_chunks and ents, create new chunk\n",
    "                    result.append([])\n",
    "                while i < len(doc_ents) and chunk_ent != doc_ents[i]: # Search for an alignment\n",
    "                    result[-1].append(doc_ents[i].label_) # Add missing ents as standalone chunks\n",
    "                    i+=1\n",
    "                    result.append([])\n",
    "                result[-1].append(doc_ents[i].label_)\n",
    "                i+=1\n",
    "    return result\n",
    "\n",
    "\n",
    "def evaluate_groups(groups):\n",
    "    result = {}\n",
    "    for group in groups:\n",
    "        key = \"_\".join(group)\n",
    "        if key not in result:\n",
    "            result[key] = {'freq': 0}\n",
    "        result[key]['freq'] += 1\n",
    "    return result\n",
    "\n",
    "# Compute metrics\n",
    "ents_groups = group_ents(doc)\n",
    "groups_freq = evaluate_groups(ents_groups)\n",
    "groups_freq = pd.DataFrame().from_dict(groups_freq, orient='index').sort_values(by='freq', ascending=False)\n",
    "display(groups_freq.style.set_caption(\"Groups frequencies\"))"
   ]
  },
  {
   "source": [
    "### 3. Fix segmentation errors.\n",
    "One of the possible post-processing steps is to fix segmentation errors.\n",
    "Write a function that extends the entity span to cover the full noun-compounds. Make use of `compound` dependency relation."
   ],
   "cell_type": "markdown",
   "metadata": {}
  },
  {
   "cell_type": "code",
   "execution_count": 65,
   "metadata": {
    "tags": []
   },
   "outputs": [
    {
     "output_type": "display_data",
     "data": {
      "text/plain": "<pandas.io.formats.style.Styler at 0x7fca00e0ecd0>",
      "text/html": "<style  type=\"text/css\" >\n#T_31361_row0_col2,#T_31361_row0_col3,#T_31361_row1_col2,#T_31361_row1_col3,#T_31361_row2_col2,#T_31361_row2_col3,#T_31361_row3_col2,#T_31361_row3_col3,#T_31361_row4_col2,#T_31361_row4_col3,#T_31361_row5_col2,#T_31361_row5_col3,#T_31361_row6_col2,#T_31361_row6_col3,#T_31361_row7_col2,#T_31361_row7_col3,#T_31361_row8_col2,#T_31361_row8_col3,#T_31361_row9_col2,#T_31361_row9_col3{\n            background_color:  red;\n        }</style><table id=\"T_31361_\" ><caption>New token-level performances</caption><thead>    <tr>        <th class=\"blank level0\" ></th>        <th class=\"col_heading level0 col0\" colspan=\"2\">previous</th>        <th class=\"col_heading level0 col2\" colspan=\"2\">new</th>    </tr>    <tr>        <th class=\"blank level1\" ></th>        <th class=\"col_heading level1 col0\" >accuracy</th>        <th class=\"col_heading level1 col1\" >s</th>        <th class=\"col_heading level1 col2\" >accuracy</th>        <th class=\"col_heading level1 col3\" >s</th>    </tr></thead><tbody>\n                <tr>\n                        <th id=\"T_31361_level0_row0\" class=\"row_heading level0 row0\" >B-LOC</th>\n                        <td id=\"T_31361_row0_col0\" class=\"data row0 col0\" >0.685</td>\n                        <td id=\"T_31361_row0_col1\" class=\"data row0 col1\" >1668</td>\n                        <td id=\"T_31361_row0_col2\" class=\"data row0 col2\" >0.672</td>\n                        <td id=\"T_31361_row0_col3\" class=\"data row0 col3\" >1668</td>\n            </tr>\n            <tr>\n                        <th id=\"T_31361_level0_row1\" class=\"row_heading level0 row1\" >B-MISC</th>\n                        <td id=\"T_31361_row1_col0\" class=\"data row1 col0\" >0.554</td>\n                        <td id=\"T_31361_row1_col1\" class=\"data row1 col1\" >702</td>\n                        <td id=\"T_31361_row1_col2\" class=\"data row1 col2\" >0.554</td>\n                        <td id=\"T_31361_row1_col3\" class=\"data row1 col3\" >702</td>\n            </tr>\n            <tr>\n                        <th id=\"T_31361_level0_row2\" class=\"row_heading level0 row2\" >B-ORG</th>\n                        <td id=\"T_31361_row2_col0\" class=\"data row2 col0\" >0.289</td>\n                        <td id=\"T_31361_row2_col1\" class=\"data row2 col1\" >1661</td>\n                        <td id=\"T_31361_row2_col2\" class=\"data row2 col2\" >0.284</td>\n                        <td id=\"T_31361_row2_col3\" class=\"data row2 col3\" >1661</td>\n            </tr>\n            <tr>\n                        <th id=\"T_31361_level0_row3\" class=\"row_heading level0 row3\" >B-PER</th>\n                        <td id=\"T_31361_row3_col0\" class=\"data row3 col0\" >0.607</td>\n                        <td id=\"T_31361_row3_col1\" class=\"data row3 col1\" >1617</td>\n                        <td id=\"T_31361_row3_col2\" class=\"data row3 col2\" >0.502</td>\n                        <td id=\"T_31361_row3_col3\" class=\"data row3 col3\" >1617</td>\n            </tr>\n            <tr>\n                        <th id=\"T_31361_level0_row4\" class=\"row_heading level0 row4\" >I-LOC</th>\n                        <td id=\"T_31361_row4_col0\" class=\"data row4 col0\" >0.595</td>\n                        <td id=\"T_31361_row4_col1\" class=\"data row4 col1\" >257</td>\n                        <td id=\"T_31361_row4_col2\" class=\"data row4 col2\" >0.595</td>\n                        <td id=\"T_31361_row4_col3\" class=\"data row4 col3\" >257</td>\n            </tr>\n            <tr>\n                        <th id=\"T_31361_level0_row5\" class=\"row_heading level0 row5\" >I-MISC</th>\n                        <td id=\"T_31361_row5_col0\" class=\"data row5 col0\" >0.398</td>\n                        <td id=\"T_31361_row5_col1\" class=\"data row5 col1\" >216</td>\n                        <td id=\"T_31361_row5_col2\" class=\"data row5 col2\" >0.403</td>\n                        <td id=\"T_31361_row5_col3\" class=\"data row5 col3\" >216</td>\n            </tr>\n            <tr>\n                        <th id=\"T_31361_level0_row6\" class=\"row_heading level0 row6\" >I-ORG</th>\n                        <td id=\"T_31361_row6_col0\" class=\"data row6 col0\" >0.499</td>\n                        <td id=\"T_31361_row6_col1\" class=\"data row6 col1\" >835</td>\n                        <td id=\"T_31361_row6_col2\" class=\"data row6 col2\" >0.503</td>\n                        <td id=\"T_31361_row6_col3\" class=\"data row6 col3\" >835</td>\n            </tr>\n            <tr>\n                        <th id=\"T_31361_level0_row7\" class=\"row_heading level0 row7\" >I-PER</th>\n                        <td id=\"T_31361_row7_col0\" class=\"data row7 col0\" >0.735</td>\n                        <td id=\"T_31361_row7_col1\" class=\"data row7 col1\" >1156</td>\n                        <td id=\"T_31361_row7_col2\" class=\"data row7 col2\" >0.743</td>\n                        <td id=\"T_31361_row7_col3\" class=\"data row7 col3\" >1156</td>\n            </tr>\n            <tr>\n                        <th id=\"T_31361_level0_row8\" class=\"row_heading level0 row8\" >O</th>\n                        <td id=\"T_31361_row8_col0\" class=\"data row8 col0\" >0.868</td>\n                        <td id=\"T_31361_row8_col1\" class=\"data row8 col1\" >38323</td>\n                        <td id=\"T_31361_row8_col2\" class=\"data row8 col2\" >0.859</td>\n                        <td id=\"T_31361_row8_col3\" class=\"data row8 col3\" >38323</td>\n            </tr>\n            <tr>\n                        <th id=\"T_31361_level0_row9\" class=\"row_heading level0 row9\" >total</th>\n                        <td id=\"T_31361_row9_col0\" class=\"data row9 col0\" >0.813</td>\n                        <td id=\"T_31361_row9_col1\" class=\"data row9 col1\" >46435</td>\n                        <td id=\"T_31361_row9_col2\" class=\"data row9 col2\" >0.802</td>\n                        <td id=\"T_31361_row9_col3\" class=\"data row9 col3\" >46435</td>\n            </tr>\n    </tbody></table>"
     },
     "metadata": {}
    },
    {
     "output_type": "display_data",
     "data": {
      "text/plain": "<pandas.io.formats.style.Styler at 0x7fc98c837e80>",
      "text/html": "<style  type=\"text/css\" >\n</style><table id=\"T_93e1e_\" ><caption>New chunk-level performances</caption><thead>    <tr>        <th class=\"blank level0\" ></th>        <th class=\"col_heading level0 col0\" colspan=\"4\">previous</th>        <th class=\"col_heading level0 col4\" colspan=\"4\">new</th>    </tr>    <tr>        <th class=\"blank level1\" ></th>        <th class=\"col_heading level1 col0\" >p</th>        <th class=\"col_heading level1 col1\" >r</th>        <th class=\"col_heading level1 col2\" >f</th>        <th class=\"col_heading level1 col3\" >s</th>        <th class=\"col_heading level1 col4\" >p</th>        <th class=\"col_heading level1 col5\" >r</th>        <th class=\"col_heading level1 col6\" >f</th>        <th class=\"col_heading level1 col7\" >s</th>    </tr></thead><tbody>\n                <tr>\n                        <th id=\"T_93e1e_level0_row0\" class=\"row_heading level0 row0\" >LOC</th>\n                        <td id=\"T_93e1e_row0_col0\" class=\"data row0 col0\" >0.777</td>\n                        <td id=\"T_93e1e_row0_col1\" class=\"data row0 col1\" >0.676</td>\n                        <td id=\"T_93e1e_row0_col2\" class=\"data row0 col2\" >0.723</td>\n                        <td id=\"T_93e1e_row0_col3\" class=\"data row0 col3\" >1668</td>\n                        <td id=\"T_93e1e_row0_col4\" class=\"data row0 col4\" >0.764</td>\n                        <td id=\"T_93e1e_row0_col5\" class=\"data row0 col5\" >0.664</td>\n                        <td id=\"T_93e1e_row0_col6\" class=\"data row0 col6\" >0.710</td>\n                        <td id=\"T_93e1e_row0_col7\" class=\"data row0 col7\" >1668</td>\n            </tr>\n            <tr>\n                        <th id=\"T_93e1e_level0_row1\" class=\"row_heading level0 row1\" >MISC</th>\n                        <td id=\"T_93e1e_row1_col0\" class=\"data row1 col0\" >0.104</td>\n                        <td id=\"T_93e1e_row1_col1\" class=\"data row1 col1\" >0.543</td>\n                        <td id=\"T_93e1e_row1_col2\" class=\"data row1 col2\" >0.175</td>\n                        <td id=\"T_93e1e_row1_col3\" class=\"data row1 col3\" >702</td>\n                        <td id=\"T_93e1e_row1_col4\" class=\"data row1 col4\" >0.104</td>\n                        <td id=\"T_93e1e_row1_col5\" class=\"data row1 col5\" >0.541</td>\n                        <td id=\"T_93e1e_row1_col6\" class=\"data row1 col6\" >0.174</td>\n                        <td id=\"T_93e1e_row1_col7\" class=\"data row1 col7\" >702</td>\n            </tr>\n            <tr>\n                        <th id=\"T_93e1e_level0_row2\" class=\"row_heading level0 row2\" >ORG</th>\n                        <td id=\"T_93e1e_row2_col0\" class=\"data row2 col0\" >0.455</td>\n                        <td id=\"T_93e1e_row2_col1\" class=\"data row2 col1\" >0.256</td>\n                        <td id=\"T_93e1e_row2_col2\" class=\"data row2 col2\" >0.328</td>\n                        <td id=\"T_93e1e_row2_col3\" class=\"data row2 col3\" >1661</td>\n                        <td id=\"T_93e1e_row2_col4\" class=\"data row2 col4\" >0.446</td>\n                        <td id=\"T_93e1e_row2_col5\" class=\"data row2 col5\" >0.251</td>\n                        <td id=\"T_93e1e_row2_col6\" class=\"data row2 col6\" >0.321</td>\n                        <td id=\"T_93e1e_row2_col7\" class=\"data row2 col7\" >1661</td>\n            </tr>\n            <tr>\n                        <th id=\"T_93e1e_level0_row3\" class=\"row_heading level0 row3\" >PER</th>\n                        <td id=\"T_93e1e_row3_col0\" class=\"data row3 col0\" >0.757</td>\n                        <td id=\"T_93e1e_row3_col1\" class=\"data row3 col1\" >0.590</td>\n                        <td id=\"T_93e1e_row3_col2\" class=\"data row3 col2\" >0.663</td>\n                        <td id=\"T_93e1e_row3_col3\" class=\"data row3 col3\" >1617</td>\n                        <td id=\"T_93e1e_row3_col4\" class=\"data row3 col4\" >0.624</td>\n                        <td id=\"T_93e1e_row3_col5\" class=\"data row3 col5\" >0.486</td>\n                        <td id=\"T_93e1e_row3_col6\" class=\"data row3 col6\" >0.546</td>\n                        <td id=\"T_93e1e_row3_col7\" class=\"data row3 col7\" >1617</td>\n            </tr>\n            <tr>\n                        <th id=\"T_93e1e_level0_row4\" class=\"row_heading level0 row4\" >total</th>\n                        <td id=\"T_93e1e_row4_col0\" class=\"data row4 col0\" >0.395</td>\n                        <td id=\"T_93e1e_row4_col1\" class=\"data row4 col1\" >0.511</td>\n                        <td id=\"T_93e1e_row4_col2\" class=\"data row4 col2\" >0.446</td>\n                        <td id=\"T_93e1e_row4_col3\" class=\"data row4 col3\" >5648</td>\n                        <td id=\"T_93e1e_row4_col4\" class=\"data row4 col4\" >0.368</td>\n                        <td id=\"T_93e1e_row4_col5\" class=\"data row4 col5\" >0.476</td>\n                        <td id=\"T_93e1e_row4_col6\" class=\"data row4 col6\" >0.415</td>\n                        <td id=\"T_93e1e_row4_col7\" class=\"data row4 col7\" >5648</td>\n            </tr>\n    </tbody></table>"
     },
     "metadata": {}
    }
   ],
   "source": [
    "new_doc = doc.copy()\n",
    "new_ents = []\n",
    "for ent in new_doc.ents:\n",
    "    new_ents.append(ent)\n",
    "    for token in ent:\n",
    "        for child in token.children:\n",
    "            if child.dep_ == 'compound' and child.ent_type_ == '' and (child.i == new_ents[-1].start-1 or child.i == new_ents[-1].end+1):\n",
    "                new_start, new_end = min(new_ents[-1].start, child.i), max(new_ents[-1].end, child.i)\n",
    "                new_ents[-1] = Span(new_doc, new_start, new_end, new_ents[-1].label_) \n",
    "                # N.B.: spaCy will add the correct ent_type_ and ent_iob_ attributes to the new generated entity\n",
    "                #print(f'ADDED [{child.i}, {child}, {child.ent_type_}]', 'TO', new_ents[-1])\n",
    "new_doc.set_ents(new_ents)\n",
    "\n",
    "# Compute performances\n",
    "new_token_lvl, new_chunk_lvl = evaluate(new_doc)\n",
    "new_token_lvl = pd.concat([token_lvl, new_token_lvl], axis=1, keys=['previous', 'new'])\n",
    "new_chunk_lvl = pd.concat([chunk_lvl, new_chunk_lvl], axis=1, keys=['previous', 'new'])\n",
    "display(new_token_lvl.style.set_precision(3)\n",
    "        .applymap(lambda s: 'background_color: red', subset=pd.IndexSlice[:, ['new']])\n",
    "        .set_caption(\"New token-level performances\"))\n",
    "display(new_chunk_lvl.style.set_precision(3).set_caption(\"New chunk-level performances\"))"
   ]
  },
  {
   "cell_type": "code",
   "execution_count": null,
   "metadata": {},
   "outputs": [],
   "source": []
  }
 ]
}