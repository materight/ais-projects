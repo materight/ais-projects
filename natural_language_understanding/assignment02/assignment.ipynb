{
 "metadata": {
  "language_info": {
   "codemirror_mode": {
    "name": "ipython",
    "version": 3
   },
   "file_extension": ".py",
   "mimetype": "text/x-python",
   "name": "python",
   "nbconvert_exporter": "python",
   "pygments_lexer": "ipython3",
   "version": "3.8.3"
  },
  "orig_nbformat": 2,
  "kernelspec": {
   "name": "python383jvsc74a57bd0ae03d948584253fec240bc08d589a6fc5490ee03a1d28d126cf31e5ae02e89c9",
   "display_name": "Python 3.8.3 64-bit ('base': conda)"
  }
 },
 "nbformat": 4,
 "nbformat_minor": 2,
 "cells": [
  {
   "source": [
    "## Assignment 2\n",
    "\n",
    "Assigment is in the intersection of Named Entity Recognition and Dependency Parsing.\n",
    "\n",
    "0. Evaluate spaCy NER on CoNLL 2003 data (provided)\n",
    "    - report token-level performance (per class and total)\n",
    "        - accuracy of correctly recognizing all tokens that belong to named entities (i.e. tag-level accuracy) \n",
    "    - report CoNLL chunk-level performance (per class and total);\n",
    "        - precision, recall, f-measure of correctly recognizing all the named entities in a chunk per class and total  \n",
    "\n",
    "1. Grouping of Entities.\n",
    "Write a function to group recognized named entities using `noun_chunks` method of [spaCy](https://spacy.io/usage/linguistic-features#noun-chunks). Analyze the groups in terms of most frequent combinations (i.e. NER types that go together). \n",
    "\n",
    "2. One of the possible post-processing steps is to fix segmentation errors.\n",
    "Write a function that extends the entity span to cover the full noun-compounds. Make use of `compound` dependency relation."
   ],
   "cell_type": "markdown",
   "metadata": {}
  },
  {
   "cell_type": "code",
   "execution_count": 8,
   "metadata": {
    "tags": []
   },
   "outputs": [],
   "source": [
    "import spacy\n",
    "import conll\n",
    "\n",
    "DATASET_PATH = 'data/test.txt'\n",
    "\n",
    "# Read dataset\n",
    "corpus = conll.read_corpus_conll(DATASET_PATH, fs=' ')\n",
    "\n",
    "# Parse into a single doc\n",
    "txt = ' '.join([' '.join([token[0] for token in sent]) for sent in corpus])\n",
    "\n",
    "# Parse with spaCy\n",
    "nlp = spacy.load('en')\n",
    "doc = nlp(txt)"
   ]
  },
  {
   "cell_type": "code",
   "execution_count": 9,
   "metadata": {},
   "outputs": [
    {
     "output_type": "stream",
     "name": "stdout",
     "text": [
      "[('Nadim', 'B-PER'), ('Ladki', 'I-PER'), ('AL-AIN', 'B-LOC'), (',', 'O'), ('United', 'B-LOC'), ('Arab', 'I-LOC'), ('Emirates', 'I-LOC')]\n[('Nadim', 'B-ORG'), ('Ladki', 'I-ORG'), ('AL', 'I-ORG'), ('-', 'I-ORG'), ('AIN', 'I-ORG'), (',', 'O'), ('United', 'B-GPE')]\n"
     ]
    }
   ],
   "source": [
    "# Token-level performance\n",
    "refs = [(token[0], token[3]) for sent in corpus for token in sent]\n",
    "hyps = [(token.text, f'{token.ent_iob_}-{token.ent_type_}'.strip('-')) for sent in doc.sents for token in sent]\n",
    "\n",
    "\n",
    "print(refs[13:20])\n",
    "print(hyps[13:20])\n",
    "\n",
    "#results = conll.evaluate(refs, hyps)\n",
    "#print(results)"
   ]
  },
  {
   "cell_type": "code",
   "execution_count": null,
   "metadata": {},
   "outputs": [],
   "source": []
  }
 ]
}