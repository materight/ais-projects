{
 "metadata": {
  "language_info": {
   "codemirror_mode": {
    "name": "ipython",
    "version": 3
   },
   "file_extension": ".py",
   "mimetype": "text/x-python",
   "name": "python",
   "nbconvert_exporter": "python",
   "pygments_lexer": "ipython3",
   "version": "3.8.3"
  },
  "orig_nbformat": 2,
  "kernelspec": {
   "name": "python383jvsc74a57bd0ae03d948584253fec240bc08d589a6fc5490ee03a1d28d126cf31e5ae02e89c9",
   "display_name": "Python 3.8.3 64-bit ('base': conda)"
  }
 },
 "nbformat": 4,
 "nbformat_minor": 2,
 "cells": [
  {
   "source": [
    "## Assignment 2\n",
    "\n",
    "Assigment is in the intersection of Named Entity Recognition and Dependency Parsing.\n",
    "\n",
    "0. Evaluate spaCy NER on CoNLL 2003 data (provided)\n",
    "    - report token-level performance (per class and total)\n",
    "        - accuracy of correctly recognizing all tokens that belong to named entities (i.e. tag-level accuracy) \n",
    "    - report CoNLL chunk-level performance (per class and total);\n",
    "        - precision, recall, f-measure of correctly recognizing all the named entities in a chunk per class and total  \n",
    "\n",
    "1. Grouping of Entities.\n",
    "Write a function to group recognized named entities using `noun_chunks` method of [spaCy](https://spacy.io/usage/linguistic-features#noun-chunks). Analyze the groups in terms of most frequent combinations (i.e. NER types that go together). \n",
    "\n",
    "2. One of the possible post-processing steps is to fix segmentation errors.\n",
    "Write a function that extends the entity span to cover the full noun-compounds. Make use of `compound` dependency relation."
   ],
   "cell_type": "markdown",
   "metadata": {}
  },
  {
   "cell_type": "code",
   "execution_count": 45,
   "metadata": {
    "tags": []
   },
   "outputs": [],
   "source": [
    "import pandas as pd\n",
    "import conll\n",
    "import spacy\n",
    "from spacy.tokens import Doc\n",
    "\n",
    "\n",
    "DATASET_PATH = 'data/test.txt'\n",
    "\n",
    "# Read dataset\n",
    "corpus = conll.read_corpus_conll(DATASET_PATH, fs=' ')\n",
    "corpus = list(filter(lambda sent: sent[0][0] != '-DOCSTART-', corpus)) # Remove -DOCSTART- sentences\n",
    "words = [word[0] for sent in corpus for word in sent]\n",
    "\n",
    "# Parse with spaCy\n",
    "nlp = spacy.load('en')\n",
    "doc = nlp.tokenizer.tokens_from_list(words)\n",
    "\n",
    "# Custom sentence division\n",
    "i = 0\n",
    "for sent in corpus:\n",
    "    for j, word in enumerate(sent):\n",
    "        doc[i].is_sent_start = (j == 0) # Set to true only if first word in sentence\n",
    "        i += 1\n",
    "\n",
    "# NER with spaCy\n",
    "for name, proc in nlp.pipeline:\n",
    "    doc = proc(doc)"
   ]
  },
  {
   "cell_type": "code",
   "execution_count": 56,
   "metadata": {
    "tags": []
   },
   "outputs": [
    {
     "output_type": "display_data",
     "data": {
      "text/plain": "<pandas.io.formats.style.Styler at 0x7ff4cb5ce040>",
      "text/html": "<style  type=\"text/css\" >\n</style><table id=\"T_c87b7_\" ><caption>Token-level performances</caption><thead>    <tr>        <th class=\"blank level0\" ></th>        <th class=\"col_heading level0 col0\" >p</th>        <th class=\"col_heading level0 col1\" >r</th>        <th class=\"col_heading level0 col2\" >f</th>        <th class=\"col_heading level0 col3\" >s</th>    </tr></thead><tbody>\n                <tr>\n                        <th id=\"T_c87b7_level0_row0\" class=\"row_heading level0 row0\" >MISC</th>\n                        <td id=\"T_c87b7_row0_col0\" class=\"data row0 col0\" >0.073000</td>\n                        <td id=\"T_c87b7_row0_col1\" class=\"data row0 col1\" >0.581000</td>\n                        <td id=\"T_c87b7_row0_col2\" class=\"data row0 col2\" >0.130000</td>\n                        <td id=\"T_c87b7_row0_col3\" class=\"data row0 col3\" >702</td>\n            </tr>\n            <tr>\n                        <th id=\"T_c87b7_level0_row1\" class=\"row_heading level0 row1\" >PER</th>\n                        <td id=\"T_c87b7_row1_col0\" class=\"data row1 col0\" >0.762000</td>\n                        <td id=\"T_c87b7_row1_col1\" class=\"data row1 col1\" >0.584000</td>\n                        <td id=\"T_c87b7_row1_col2\" class=\"data row1 col2\" >0.662000</td>\n                        <td id=\"T_c87b7_row1_col3\" class=\"data row1 col3\" >1617</td>\n            </tr>\n            <tr>\n                        <th id=\"T_c87b7_level0_row2\" class=\"row_heading level0 row2\" >LOC</th>\n                        <td id=\"T_c87b7_row2_col0\" class=\"data row2 col0\" >0.403000</td>\n                        <td id=\"T_c87b7_row2_col1\" class=\"data row2 col1\" >0.016000</td>\n                        <td id=\"T_c87b7_row2_col2\" class=\"data row2 col2\" >0.031000</td>\n                        <td id=\"T_c87b7_row2_col3\" class=\"data row2 col3\" >1668</td>\n            </tr>\n            <tr>\n                        <th id=\"T_c87b7_level0_row3\" class=\"row_heading level0 row3\" >ORG</th>\n                        <td id=\"T_c87b7_row3_col0\" class=\"data row3 col0\" >0.425000</td>\n                        <td id=\"T_c87b7_row3_col1\" class=\"data row3 col1\" >0.291000</td>\n                        <td id=\"T_c87b7_row3_col2\" class=\"data row3 col2\" >0.345000</td>\n                        <td id=\"T_c87b7_row3_col3\" class=\"data row3 col3\" >1661</td>\n            </tr>\n            <tr>\n                        <th id=\"T_c87b7_level0_row4\" class=\"row_heading level0 row4\" >total</th>\n                        <td id=\"T_c87b7_row4_col0\" class=\"data row4 col0\" >0.232000</td>\n                        <td id=\"T_c87b7_row4_col1\" class=\"data row4 col1\" >0.330000</td>\n                        <td id=\"T_c87b7_row4_col2\" class=\"data row4 col2\" >0.272000</td>\n                        <td id=\"T_c87b7_row4_col3\" class=\"data row4 col3\" >5648</td>\n            </tr>\n    </tbody></table>"
     },
     "metadata": {}
    }
   ],
   "source": [
    "# Map spacy tags to conll\n",
    "def to_conll(iob, ent_type):\n",
    "    conll_type = {\n",
    "        'PERSON': 'PER',\n",
    "        'LOC': 'LOC',\n",
    "        'ORG': 'ORG',\n",
    "        '': ''\n",
    "    }.get(ent_type)\n",
    "    if conll_type is None: \n",
    "        conll_type = 'MISC'\n",
    "    return f'{iob}-{conll_type}'.strip('-')\n",
    "\n",
    "# Token-level performance\n",
    "refs = [[(word[0], word[3]) for word in sent] for sent in corpus]\n",
    "hyps = [[(word.text, to_conll(word.ent_iob_, word.ent_type_)) for word in sent] for sent in doc.sents]\n",
    "\n",
    "token_lvl = conll.evaluate(refs, hyps)\n",
    "token_lvl = pd.DataFrame().from_dict(token_lvl, orient='index').round(decimals=3).style.set_caption(\"Token-level performances\")\n",
    "display(token_lvl)\n"
   ]
  },
  {
   "cell_type": "code",
   "execution_count": null,
   "metadata": {},
   "outputs": [],
   "source": []
  }
 ]
}