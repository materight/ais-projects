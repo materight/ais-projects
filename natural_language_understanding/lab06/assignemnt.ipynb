{
 "metadata": {
  "language_info": {
   "codemirror_mode": {
    "name": "ipython",
    "version": 3
   },
   "file_extension": ".py",
   "mimetype": "text/x-python",
   "name": "python",
   "nbconvert_exporter": "python",
   "pygments_lexer": "ipython3",
   "version": "3.8.3-final"
  },
  "orig_nbformat": 2,
  "kernelspec": {
   "name": "python383jvsc74a57bd0ae03d948584253fec240bc08d589a6fc5490ee03a1d28d126cf31e5ae02e89c9",
   "display_name": "Python 3.8.3 64-bit ('base': conda)"
  }
 },
 "nbformat": 4,
 "nbformat_minor": 2,
 "cells": [
  {
   "source": [
    "## Assignment: Working with Dependency Graphs (Parses)\n",
    "\n",
    "The objective of the assignment is to learn how to work with dependency graphs by defining functions.\n",
    "\n",
    "Read [spaCy documentation on dependency parser](https://spacy.io/api/dependencyparser) to learn provided methods.\n",
    "\n",
    "Define functions to:\n",
    "- extract a path of dependency relations from the ROOT to a token\n",
    "- extract subtree of a dependents given a token\n",
    "- check if a given list of tokens (segment of a sentence) forms a subtree\n",
    "- identify head of a span, given its tokens\n",
    "- extract sentence subject, direct object and indirect object spans"
   ],
   "cell_type": "markdown",
   "metadata": {}
  },
  {
   "cell_type": "code",
   "execution_count": 66,
   "metadata": {},
   "outputs": [],
   "source": [
    "import spacy\n",
    "\n",
    "doc_text = 'I saw the man with a telescope.'\n",
    "\n",
    "nlp = spacy.load('en_core_web_sm')\n",
    "doc = nlp(doc_text)"
   ]
  },
  {
   "source": [
    "### 1. Extract a path of dependency relations from the ROOT to a token"
   ],
   "cell_type": "markdown",
   "metadata": {}
  },
  {
   "cell_type": "code",
   "execution_count": 91,
   "metadata": {},
   "outputs": [
    {
     "output_type": "stream",
     "name": "stdout",
     "text": [
      "Path from ROOT to \"the\": [saw, man, the]\nPath from ROOT to \"a\": [saw, with, telescope, a]\n"
     ]
    }
   ],
   "source": [
    "def get_path(doc, token):\n",
    "    for t in doc:\n",
    "        if t.text == token: \n",
    "            path = list(t.ancestors)\n",
    "            path.reverse()\n",
    "            path.append(t)\n",
    "            return path\n",
    "    return None\n",
    "\n",
    "# Examples\n",
    "examples = ['the', 'a']\n",
    "for e in examples:\n",
    "    print(f'Path from ROOT to \"{e}\":', get_path(doc, e))"
   ]
  },
  {
   "source": [
    "### 2. Extract subtree of a dependents given a token"
   ],
   "cell_type": "markdown",
   "metadata": {}
  },
  {
   "cell_type": "code",
   "execution_count": 96,
   "metadata": {},
   "outputs": [
    {
     "output_type": "stream",
     "name": "stdout",
     "text": [
      "Subtree of \"saw\": [I, saw, the, man, with, a, telescope, .]\nSubtree of \"telescope\": [a, telescope]\n"
     ]
    }
   ],
   "source": [
    "def get_subtree(doc, token):\n",
    "    for t in doc:\n",
    "        if t.text == token: \n",
    "            return list(t.subtree)\n",
    "    return None\n",
    "\n",
    "# Examples\n",
    "examples = ['saw', 'telescope']\n",
    "for e in examples:\n",
    "    print(f'Subtree of \"{e}\":', get_subtree(doc, e))"
   ]
  },
  {
   "source": [
    "### 3. Check if a given list of tokens (segment of a sentence) forms a subtree"
   ],
   "cell_type": "markdown",
   "metadata": {}
  },
  {
   "cell_type": "code",
   "execution_count": 104,
   "metadata": {},
   "outputs": [
    {
     "output_type": "stream",
     "name": "stdout",
     "text": [
      "Is ['saw', 'with', 'telescope'] a subtree: False\nIs ['a', 'telescope'] a subtree: True\n"
     ]
    }
   ],
   "source": [
    "def is_subtree(doc, subtree):\n",
    "    for query_token in subtree: # Check for each possible root of the given subtree\n",
    "        for t in doc:\n",
    "            if t.text == query_token and [x.text for x in t.subtree] == subtree:\n",
    "                return True\n",
    "    return False\n",
    "\n",
    "# Examples\n",
    "examples = [['saw', 'with', 'telescope'], ['a', 'telescope']]\n",
    "for e in examples:\n",
    "    print(f'Is {e} a subtree:', is_subtree(doc, e))"
   ]
  },
  {
   "source": [
    "### 4. Identify head of a span, given its tokens"
   ],
   "cell_type": "markdown",
   "metadata": {}
  },
  {
   "cell_type": "code",
   "execution_count": 112,
   "metadata": {},
   "outputs": [
    {
     "output_type": "stream",
     "name": "stdout",
     "text": [
      "Head of \"I saw the man with a telescope.\": saw\n"
     ]
    }
   ],
   "source": [
    "def get_head(span):\n",
    "    return span.root\n",
    "\n",
    "# Examples\n",
    "for span in doc.sents:\n",
    "    print(f'Head of \"{span}\":', get_head(span))"
   ]
  },
  {
   "source": [
    "### 5. Extract sentence subject, direct object and indirect object spans"
   ],
   "cell_type": "markdown",
   "metadata": {}
  },
  {
   "cell_type": "code",
   "execution_count": 115,
   "metadata": {},
   "outputs": [
    {
     "output_type": "stream",
     "name": "stdout",
     "text": [
      "Sentence subject: a\nDirect object: b\nIndirect object: c\n"
     ]
    }
   ],
   "source": [
    "def get_spans(doc):\n",
    "    return {\n",
    "        'Sentence subject': 'a',\n",
    "        'Direct object': 'b',\n",
    "        'Indirect object': 'c'\n",
    "    }\n",
    "\n",
    "r = get_spans(doc)\n",
    "for key, value in r.items():\n",
    "    print(f'{key}: {value}')"
   ]
  }
 ]
}