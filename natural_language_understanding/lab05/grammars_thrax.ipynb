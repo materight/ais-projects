{
 "cells": [
  {
   "cell_type": "markdown",
   "metadata": {
    "slideshow": {
     "slide_type": "slide"
    }
   },
   "source": [
    "# Regular Grammars with Thrax\n",
    "\n",
    "- Evgeny A. Stepanov\n",
    "- stepanov.evgeny.a@gmail.com"
   ]
  },
  {
   "cell_type": "markdown",
   "metadata": {
    "slideshow": {
     "slide_type": "slide"
    }
   },
   "source": [
    "__Requirements__\n",
    "\n",
    "- [Thrax](http://www.openfst.org/twiki/bin/view/GRM/Thrax)\n",
    "    - run `conda install -c conda-forge thrax`"
   ]
  },
  {
   "cell_type": "markdown",
   "metadata": {
    "slideshow": {
     "slide_type": "slide"
    }
   },
   "source": [
    "## Take Aways\n",
    "\n",
    "- Basic usage of thrax to write regular grammars to generate/accept input\n",
    "- Does not constitute a complete coverage of the tool"
   ]
  },
  {
   "cell_type": "markdown",
   "metadata": {
    "slideshow": {
     "slide_type": "slide"
    }
   },
   "source": [
    "## Grammars as Regular Expressions\n",
    "\n",
    "> The *OpenGrm Thrax Grammar Compiler* is a set of tools for compiling grammars expressed as __regular expressions__ and context-dependent rewrite rules into weighted finite-state transducers using the OpenFst format.\n",
    "\n",
    "(Pynini is a python version). \n",
    "\n",
    "The tool is similar to a popular data generation and augmentation tool [Chatito](https://github.com/rodrigopivi/Chatito) (and [Chatette](https://github.com/SimGus/Chatette)). Specifically, it implements a Domain Specific Language (DSL) that allows you to define templates to __generate__ and __test__ sentences of interest.\n",
    "\n",
    "The strength of weighted finite-state transducers (WFST) formalism over DSL (thus Thrax over others) is that WFSTs are widely used in speech and language applications. The hypothesis space for tasks like automatic speech recognition (ASR) and optical character recognition can be represented as a compact, efficiently searchable cascade of WFSTs. Moreover, manually-generated grammatical resources such as pronunciation lexicons and phonological rules are also naturally represented as finite-state transducers. Consequently, compiled Thrax grammars can be combined with trained statistical language models.\n",
    "\n",
    "A grammar describes how to form strings from a language's lexicon that are valid according to the language's syntax. Compiled Thrax grammars thus can be used to generate an arbitrary number of strings that comply with the grammar definition."
   ]
  },
  {
   "cell_type": "markdown",
   "metadata": {
    "slideshow": {
     "slide_type": "slide"
    }
   },
   "source": [
    "### Provided Tools\n",
    "\n",
    "- __thraxmakedep__ creates `Makefile` with grammar dependencies\n",
    "- __thraxcompiler__ compiles grammar into `far`\n",
    "- __thraxrandom-generator__ generates specified number of sentences from grammar\n",
    "- __thraxrewrite-tester__ can be used to test grammar"
   ]
  },
  {
   "cell_type": "markdown",
   "metadata": {
    "slideshow": {
     "slide_type": "slide"
    }
   },
   "source": [
    "## Thrax Grammar Definition"
   ]
  },
  {
   "cell_type": "markdown",
   "metadata": {
    "slideshow": {
     "slide_type": "slide"
    }
   },
   "source": [
    "### Grammars as Regular Languages\n",
    "\n",
    "Thrax allows the definition of \"templates\" for the generation of data. The example below demonstrates a regular expression that generates search queries in the movie domain."
   ]
  },
  {
   "cell_type": "code",
   "execution_count": 2,
   "metadata": {
    "slideshow": {
     "slide_type": "fragment"
    }
   },
   "outputs": [],
   "source": [
    "%%bash\n",
    "\n",
    "fname=movies§\n",
    "\n",
    "cat > $fname.grm <<EOF\n",
    "\n",
    "search = (\"I am \" (\"looking\" | \"searching\") \" for \") | (\"show me \" | \"list \") \"some \"?;\n",
    "export query = Optimize[search \"movies\"];\n",
    "\n",
    "EOF"
   ]
  },
  {
   "cell_type": "markdown",
   "metadata": {
    "slideshow": {
     "slide_type": "fragment"
    }
   },
   "source": [
    "Note use of `?` to generate alternative token some."
   ]
  },
  {
   "cell_type": "markdown",
   "metadata": {
    "slideshow": {
     "slide_type": "slide"
    }
   },
   "source": [
    "#### Compiling Grammar"
   ]
  },
  {
   "cell_type": "code",
   "execution_count": 3,
   "metadata": {
    "scrolled": true,
    "slideshow": {
     "slide_type": "fragment"
    }
   },
   "outputs": [
    {
     "output_type": "stream",
     "name": "stdout",
     "text": [
      "movies.far: movies.grm \n\tthraxcompiler --input_grammar=$< --output_far=$@\n\nclean:\n\trm -f \nthraxcompiler --input_grammar=movies.grm --output_far=movies.far\nEvaluating rule: search\nEvaluating rule: query\n"
     ]
    }
   ],
   "source": [
    "%%bash\n",
    "\n",
    "thraxmakedep movies.grm\n",
    "cat Makefile\n",
    "make"
   ]
  },
  {
   "cell_type": "code",
   "execution_count": 4,
   "metadata": {
    "slideshow": {
     "slide_type": "slide"
    }
   },
   "outputs": [
    {
     "output_type": "stream",
     "name": "stdout",
     "text": [
      "far type                                          sttable\narc type                                          standard\nfst type                                          vector\n# of FSTs                                         1\ntotal # of states                                 43\ntotal # of arcs                                   46\ntotal # of final states                           1\n"
     ]
    }
   ],
   "source": [
    "%%bash\n",
    "\n",
    "farinfo movies.far"
   ]
  },
  {
   "cell_type": "markdown",
   "metadata": {
    "slideshow": {
     "slide_type": "slide"
    }
   },
   "source": [
    "#### Generating Queries\n",
    "\n",
    "`thraxrandom-generator` can be used to generate sentences accepted by the grammar, specifying the number to be generated via `--noutput`"
   ]
  },
  {
   "cell_type": "code",
   "execution_count": 5,
   "metadata": {
    "slideshow": {
     "slide_type": "fragment"
    }
   },
   "outputs": [
    {
     "output_type": "stream",
     "name": "stdout",
     "text": [
      "****************************************\nI am looking for movies\nI am searching for movies\nlist movies\nlist some movies\nshow me movies\nshow me some movies\n"
     ]
    }
   ],
   "source": [
    "%%bash\n",
    "thraxrandom-generator --far=movies.far --rule=query --noutput=10 | sort | uniq"
   ]
  },
  {
   "cell_type": "markdown",
   "metadata": {
    "slideshow": {
     "slide_type": "slide"
    }
   },
   "source": [
    "#### Testing Queries\n",
    "\n",
    "It is possible to test the defined grammar using `thraxrewrite-tester` as below.\n",
    "If the grammar accepts the string, the tool re-writes the string as output; fails otherwise."
   ]
  },
  {
   "cell_type": "code",
   "execution_count": 6,
   "metadata": {
    "slideshow": {
     "slide_type": "fragment"
    }
   },
   "outputs": [
    {
     "output_type": "stream",
     "name": "stdout",
     "text": [
      "Input string: Output string: show me some movies\nInput string: Input string: Rewrite failed.\nInput string: "
     ]
    }
   ],
   "source": [
    "%%bash\n",
    "\n",
    "echo \"show me some movies\" | thraxrewrite-tester --far=movies.far --rules=query\n",
    "echo \"show me a movie\" | thraxrewrite-tester --far=movies.far --rules=query"
   ]
  },
  {
   "cell_type": "markdown",
   "metadata": {
    "slideshow": {
     "slide_type": "slide"
    }
   },
   "source": [
    "### Regular Patterns\n",
    "\n",
    "Regular Expressions can be used to generate/accept entities of interest."
   ]
  },
  {
   "cell_type": "code",
   "execution_count": 7,
   "metadata": {
    "slideshow": {
     "slide_type": "fragment"
    }
   },
   "outputs": [],
   "source": [
    "%%bash\n",
    "\n",
    "fname=year\n",
    "\n",
    "cat > $fname.grm <<EOF\n",
    "\n",
    "digit = (\"0\"|\"1\"|\"2\"|\"3\"|\"4\"|\"5\"|\"6\"|\"7\"|\"8\"|\"9\");\n",
    "year = (\"19\" digit{2})|(\"20\"(((\"0\"|\"1\") digit)|(\"2\" (\"0\"|\"1\"))));\n",
    "export release_year = Optimize[year];\n",
    "\n",
    "EOF"
   ]
  },
  {
   "cell_type": "code",
   "execution_count": 8,
   "metadata": {
    "slideshow": {
     "slide_type": "slide"
    }
   },
   "outputs": [
    {
     "output_type": "stream",
     "name": "stdout",
     "text": [
      "thraxcompiler --input_grammar=year.grm --output_far=year.far\nEvaluating rule: digit\nEvaluating rule: year\nEvaluating rule: release_year\n****************************************\n1911\n1945\n1955\n1965\n1969\n1971\n1980\n2007\n2021\n"
     ]
    }
   ],
   "source": [
    "%%bash\n",
    "thraxmakedep year.grm\n",
    "make\n",
    "thraxrandom-generator --far=year.far --rule=release_year --noutput=10 | sort | uniq"
   ]
  },
  {
   "cell_type": "markdown",
   "metadata": {
    "slideshow": {
     "slide_type": "slide"
    }
   },
   "source": [
    "### Reading External Files\n",
    "\n",
    "Thrax can read list of elements from external file and use them to generate/accept sentences.\n",
    "\n",
    "Let's extend out movies grammar with actors."
   ]
  },
  {
   "cell_type": "code",
   "execution_count": 9,
   "metadata": {
    "slideshow": {
     "slide_type": "fragment"
    }
   },
   "outputs": [],
   "source": [
    "%%bash\n",
    "\n",
    "fname=actors\n",
    "\n",
    "cat > $fname.txt <<EOF\n",
    "\n",
    "brad pitt\n",
    "clint eastwood\n",
    "zoe saldana\n",
    "scarlett johansson\n",
    "\n",
    "EOF"
   ]
  },
  {
   "cell_type": "code",
   "execution_count": 7,
   "metadata": {
    "slideshow": {
     "slide_type": "slide"
    }
   },
   "outputs": [],
   "source": [
    "%%bash\n",
    "\n",
    "fname=movies2\n",
    "\n",
    "cat > $fname.grm <<EOF\n",
    "\n",
    "actors = StringFile['actors.txt'];\n",
    "search = (\"I am \" (\"looking\" | \"searching\") \" for \") | (\"show me \" | \"list \") \"some \"? ;\n",
    "search_movie = search \"movies with \" actors;\n",
    "export query = Optimize[search_movie];\n",
    "\n",
    "EOF"
   ]
  },
  {
   "cell_type": "code",
   "execution_count": 8,
   "metadata": {
    "slideshow": {
     "slide_type": "slide"
    }
   },
   "outputs": [
    {
     "output_type": "stream",
     "name": "stdout",
     "text": [
      "thraxcompiler --input_grammar=movies2.grm --output_far=movies2.far\nEvaluating rule: actors\nEvaluating rule: search\nEvaluating rule: search_movie\nEvaluating rule: query\n****************************************\nlist movies with brad pitt\nlist movies with scarlett johansson\nlist movies with zoe saldana\nlist some movies with clint eastwood\nshow me movies with brad pitt\nshow me movies with scarlett johansson\nshow me movies with zoe saldana\n"
     ]
    }
   ],
   "source": [
    "%%bash\n",
    "thraxmakedep movies2.grm\n",
    "make\n",
    "thraxrandom-generator --far=movies2.far --rule=query --noutput=10 | sort | uniq"
   ]
  },
  {
   "cell_type": "markdown",
   "metadata": {
    "slideshow": {
     "slide_type": "slide"
    }
   },
   "source": [
    "### Exercise\n",
    "\n",
    "Write a grammar that generates/accepts searchers movies by\n",
    "\n",
    "- actor (e.g. \"starring Zoe Saldana\")\n",
    "- release year (\"released in 2020\")\n",
    "- director (e.g. \"directed by Steven Spielberg\")\n",
    "- producer (e.g. \"produced by Disney\")"
   ]
  },
  {
   "cell_type": "code",
   "execution_count": 18,
   "metadata": {},
   "outputs": [],
   "source": [
    "%%bash\n",
    "\n",
    "fname=exercise1\n",
    "cat > $fname.grm <<EOF\n",
    "\n",
    "digit = (\"0\"|\"1\"|\"2\"|\"3\"|\"4\"|\"5\"|\"6\"|\"7\"|\"8\"|\"9\");\n",
    "\n",
    "actors = StringFile['actors.txt'];\n",
    "years = (\"19\" digit{2})|(\"20\"(((\"0\"|\"1\") digit)|(\"2\" (\"0\"|\"1\"))));\n",
    "directors = StringFile['directors.txt'];\n",
    "producers = StringFile['producers.txt'];\n",
    "search_movie =  ((\"I am \" (\"looking\" | \"searching\") \" for \") | (\"show me \" | \"list \") \"some \")? \"movies \" (\"starring \" | \"with \") actors \", \" (\"released in \" | \"from \")? years \", directed by \" directors \" and produced by \" producers;\n",
    "export query = Optimize[search_movie];\n",
    "\n",
    "EOF"
   ]
  },
  {
   "cell_type": "code",
   "execution_count": 19,
   "metadata": {},
   "outputs": [
    {
     "output_type": "stream",
     "name": "stdout",
     "text": [
      "thraxcompiler --input_grammar=exercise1.grm --output_far=exercise1.far\nEvaluating rule: digit\nEvaluating rule: actors\nEvaluating rule: years\nEvaluating rule: directors\nEvaluating rule: producers\nEvaluating rule: search_movie\nEvaluating rule: query\n****************************************\nI am searching for movies with Zoe Saldana, from 1994, directed by Steven Spielberg and produced by Disney\nlist some movies starring Clint Eastwood, from 2005, directed by Steven Spielberg and produced by 20th Century Fox\nlist some movies starring Zoe Saldana, released in 2007, directed by Cristopher Nolan and produced by 20th Century Fox\nmovies starring Scarlett Johansson, from 1907, directed by Quentin Tarantino and produced by 20th Century Fox\nmovies starring Zoe Saldana, from 2000, directed by Steven Spielberg and produced by 20th Century Fox\nmovies with Clint Eastwood, 1942, directed by Cristopher Nolan and produced by 20th Century Fox\nmovies with Clint Eastwood, 2002, directed by Quentin Tarantino and produced by 20th Century Fox\nmovies with Clint Eastwood, released in 1930, directed by Quentin Tarantino and produced by Pixar\nshow me some movies starring Clint Eastwood, from 1961, directed by Quentin Tarantino and produced by 20th Century Fox\nshow me some movies starring Scarlett Johansson, 1932, directed by Quentin Tarantino and produced by Disney\n"
     ]
    }
   ],
   "source": [
    "%%bash\n",
    "thraxmakedep exercise1.grm\n",
    "make\n",
    "thraxrandom-generator --far=exercise1.far --rule=query --noutput=10 | sort | uniq"
   ]
  }
 ],
 "metadata": {
  "celltoolbar": "Slideshow",
  "kernelspec": {
   "display_name": "Python 3",
   "language": "python",
   "name": "python3"
  },
  "language_info": {
   "codemirror_mode": {
    "name": "ipython",
    "version": 3
   },
   "file_extension": ".py",
   "mimetype": "text/x-python",
   "name": "python",
   "nbconvert_exporter": "python",
   "pygments_lexer": "ipython3",
   "version": "3.8.3-final"
  }
 },
 "nbformat": 4,
 "nbformat_minor": 4
}