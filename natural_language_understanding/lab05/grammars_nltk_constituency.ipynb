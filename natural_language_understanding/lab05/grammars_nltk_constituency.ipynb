{
 "cells": [
  {
   "cell_type": "markdown",
   "metadata": {
    "slideshow": {
     "slide_type": "slide"
    }
   },
   "source": [
    "# Constituency Grammars with NLTK\n",
    "\n",
    "- Evgeny A. Stepanov\n",
    "- stepanov.evgeny.a@gmail.com"
   ]
  },
  {
   "cell_type": "markdown",
   "metadata": {
    "slideshow": {
     "slide_type": "slide"
    }
   },
   "source": [
    "*Notebook Covers Material of*:\n",
    "- [NLTK](https://www.nltk.org/book/ch08.html) Chapter 8: Analyzing Sentence Structure"
   ]
  },
  {
   "cell_type": "markdown",
   "metadata": {
    "slideshow": {
     "slide_type": "fragment"
    }
   },
   "source": [
    "__Requirements__\n",
    "\n",
    "- [NLTK](https://www.nltk.org/)"
   ]
  },
  {
   "cell_type": "markdown",
   "metadata": {
    "slideshow": {
     "slide_type": "slide"
    }
   },
   "source": [
    "## Defining Context Free Grammars (CFG)\n",
    "\n",
    "CFG are defined by a *start symbol* and a set of *production rules*. The *start symbol* defines the root node of parse trees (usually __S__). \n",
    "\n",
    "*Production rules* specify allowed parent-child relations in a parse tree. Each production specifies what node can be the parent of a particular set of children nodes. \n",
    "\n",
    "For example, the production `S -> NP VP` specifies that an `S` node can be the parent of an `NP` node and a `VP` node.\n",
    "\n",
    "The left-hand side of a production rules specifies potential *non-terminal* parent nodes; while right-hand side specifies list of allowed *non-terminal* and *terminal* (text) children. \n",
    "\n",
    "A production like `VP -> V NP | VP PP` has a disjunction on the right-hand side, shown by the `|` and is an abbreviation for the two productions `VP -> V NP` and `VP -> V NP PP`.\n",
    "\n"
   ]
  },
  {
   "cell_type": "markdown",
   "metadata": {
    "slideshow": {
     "slide_type": "slide"
    }
   },
   "source": [
    "### Syntactic Categories\n",
    "\n",
    "| __Symbol__ | __Meaning__ | __Example__ |\n",
    "|:-----------|:------------|:------------|\n",
    "| S   | sentence             | I saw the man |\n",
    "| NP  | noun phrase          | the man | \n",
    "| VP  | verb phrase          | saw the man |\n",
    "| PP  | prepositional phrase | with a telescope |\n",
    "| Det | determiner  | the |\n",
    "| N   | noun        | man |\n",
    "| V   | verb        | saw |\n",
    "| P   | preposition | with |\n",
    "\n",
    "\n",
    "- Non-Terminals: `S`, `NP`, `VP`, `PP`\n",
    "- Pre-Terminals: `Det`, `N`, `V`, `P` (Part-of-Speech Tags)\n",
    "- Terminals (Leaves): the, man, saw, ..."
   ]
  },
  {
   "cell_type": "markdown",
   "metadata": {
    "slideshow": {
     "slide_type": "slide"
    }
   },
   "source": [
    "### Defining Grammar in NLTK\n",
    "\n",
    "The grammar can be defined as a string or as a list of strings of production rules."
   ]
  },
  {
   "cell_type": "code",
   "execution_count": 14,
   "metadata": {
    "slideshow": {
     "slide_type": "fragment"
    }
   },
   "outputs": [
    {
     "output_type": "stream",
     "name": "stdout",
     "text": [
      "Grammar with 14 productions (start state = S)\n    S -> NP VP\n    NP -> Det N\n    NP -> Det N PP\n    NP -> PRON\n    VP -> V NP\n    VP -> V NP PP\n    PP -> P NP\n    Det -> 'the'\n    Det -> 'a'\n    N -> 'man'\n    N -> 'telescope'\n    PRON -> 'I'\n    V -> 'saw'\n    P -> 'with'\n"
     ]
    }
   ],
   "source": [
    "import nltk\n",
    "\n",
    "rules = [\n",
    "    'S -> NP VP',\n",
    "    'NP -> Det N | Det N PP | PRON',\n",
    "    'VP -> V NP | V NP PP',\n",
    "    'PP -> P NP',\n",
    "    'Det -> \"the\" | \"a\"',\n",
    "    'N -> \"man\" | \"telescope\"',\n",
    "    'PRON -> \"I\"',\n",
    "    'V -> \"saw\"',\n",
    "    'P -> \"with\"'   \n",
    "]\n",
    "\n",
    "toy_grammar = nltk.CFG.fromstring(rules)\n",
    "\n",
    "print(toy_grammar)\n"
   ]
  },
  {
   "cell_type": "markdown",
   "metadata": {
    "slideshow": {
     "slide_type": "slide"
    }
   },
   "source": [
    "Grammar object has 2 components:\n",
    "- start symbol\n",
    "- production rules\n",
    "\n",
    "Those can be access as follows."
   ]
  },
  {
   "cell_type": "code",
   "execution_count": 15,
   "metadata": {
    "scrolled": true,
    "slideshow": {
     "slide_type": "fragment"
    }
   },
   "outputs": [
    {
     "output_type": "stream",
     "name": "stdout",
     "text": [
      "S\n"
     ]
    }
   ],
   "source": [
    "print(toy_grammar.start())"
   ]
  },
  {
   "cell_type": "code",
   "execution_count": 16,
   "metadata": {
    "slideshow": {
     "slide_type": "fragment"
    }
   },
   "outputs": [
    {
     "output_type": "stream",
     "name": "stdout",
     "text": [
      "[S -> NP VP, NP -> Det N, NP -> Det N PP, NP -> PRON, VP -> V NP, VP -> V NP PP, PP -> P NP, Det -> 'the', Det -> 'a', N -> 'man', N -> 'telescope', PRON -> 'I', V -> 'saw', P -> 'with']\n"
     ]
    }
   ],
   "source": [
    "print(toy_grammar.productions())"
   ]
  },
  {
   "cell_type": "markdown",
   "metadata": {
    "slideshow": {
     "slide_type": "slide"
    }
   },
   "source": [
    "Each production has 2 parts:\n",
    "- left-hand side\n",
    "- right-hand side\n",
    "\n",
    "which can be accessed as follows:"
   ]
  },
  {
   "cell_type": "code",
   "execution_count": 17,
   "metadata": {
    "slideshow": {
     "slide_type": "fragment"
    }
   },
   "outputs": [
    {
     "output_type": "stream",
     "name": "stdout",
     "text": [
      "S\n(NP, VP)\n"
     ]
    }
   ],
   "source": [
    "rule = toy_grammar.productions()[0]\n",
    "print(rule.lhs())\n",
    "print(rule.rhs())"
   ]
  },
  {
   "cell_type": "markdown",
   "metadata": {
    "slideshow": {
     "slide_type": "slide"
    }
   },
   "source": [
    "## Parsing with CFG\n",
    "\n",
    "> A parser processes input sentences according to the productions of a grammar, and builds one or more constituent structures that conform to the grammar. A grammar is a declarative specification of well-formedness — it is actually just a string, not a program. A parser is a procedural interpretation of the grammar. It searches through the space of trees licensed by a grammar to find one that has the required sentence along its fringe (outer edges).\n"
   ]
  },
  {
   "cell_type": "markdown",
   "metadata": {
    "slideshow": {
     "slide_type": "slide"
    }
   },
   "source": [
    "### Available CFG Parsers\n",
    "\n",
    "- Recursive descent parsing\n",
    "    - top-down algorithm\n",
    "    - pro: finds all successful parses.\n",
    "    - con: inefficient. will try all rules brute-force, even the ones that do not match the input. Goes into an infinite loop when handling a left-recursive rule.\n",
    "    - `nltk.RecursiveDescentParser()`\n",
    "\n",
    "- Shift-reduce parsing\n",
    "    - bottom-up algorithm\n",
    "    - pro: efficient. only works with the rules that match input words.\n",
    "    - con: may fail to find a legitimate parse even when there is one.\n",
    "    - `nltk.ShiftReduceParser()`\n",
    "\n",
    "- The left-corner parser\n",
    "    - a top-down parser with bottom-up filtering\n",
    "    - `nltk.LeftCornerChartParser()`: combines left-corner parsing and chart parsing\n",
    "\n",
    "- Chart parsing\n",
    "    - utilizes dynamic programming: builds and refers to well-formed substring tables (WFST)\n",
    "    - pro: efficient.\n",
    "    - con: may take up a big memory space when dealing with a long sentence.\n",
    "    - `nltk.ChartParser()`\n"
   ]
  },
  {
   "cell_type": "code",
   "execution_count": 18,
   "metadata": {
    "slideshow": {
     "slide_type": "slide"
    }
   },
   "outputs": [
    {
     "output_type": "stream",
     "name": "stdout",
     "text": [
      "(S\n  (NP (PRON I))\n  (VP\n    (V saw)\n    (NP (Det the) (N man))\n    (PP (P with) (NP (Det a) (N telescope)))))\n(S\n  (NP (PRON I))\n  (VP\n    (V saw)\n    (NP (Det the) (N man) (PP (P with) (NP (Det a) (N telescope))))))\n"
     ]
    }
   ],
   "source": [
    "parser = nltk.ChartParser(toy_grammar)\n",
    "\n",
    "sent = \"I saw the man with a telescope\"\n",
    "\n",
    "for tree in parser.parse(sent.split()):\n",
    "    print(tree)"
   ]
  },
  {
   "cell_type": "markdown",
   "metadata": {
    "slideshow": {
     "slide_type": "fragment"
    }
   },
   "source": [
    "The sentence produces two possible parse trees. Thus, it is said to be structurally ambiguous -- prepositional phrase attachment ambiguity."
   ]
  },
  {
   "cell_type": "markdown",
   "metadata": {
    "slideshow": {
     "slide_type": "slide"
    }
   },
   "source": [
    "### Exercise\n",
    "\n",
    "- Define grammar that covers the following sentences.\n",
    "\n",
    "    - show me movies in italian\n",
    "    - show me movies made in italy\n",
    "    - show me movies from italy\n",
    "    \n",
    "- Try different parsers\n"
   ]
  },
  {
   "cell_type": "code",
   "execution_count": 102,
   "metadata": {
    "slideshow": {
     "slide_type": "skip"
    }
   },
   "outputs": [
    {
     "output_type": "stream",
     "name": "stdout",
     "text": [
      "(S\n  (VP\n    (V show)\n    (PRON me)\n    (NP (Det ) (N movies) (PP (P in) (NP (Det ) (N italian))))))\n"
     ]
    }
   ],
   "source": [
    "rules = [\n",
    "    'S -> NP VP | VP', # Added: VP\n",
    "    'NP -> Det N | Det N PP | PRON',\n",
    "    'VP -> V NP | V NP PP | V PRON NP', # Added: V PRON PP\n",
    "    'PP -> P NP | V P NP', # Added: V P NP\n",
    "    'Det -> \"the\" | ', # Added: empty\n",
    "    'N -> \"movies\" | \"italy\" | \"italian\"',\n",
    "    'PRON -> \"me\"',\n",
    "    'V -> \"show\" | \"made\"',\n",
    "    'P -> \"in\" | \"from\"'   \n",
    "]\n",
    "\n",
    "es_grammar = nltk.CFG.fromstring(rules)\n",
    "\n",
    "parser = nltk.ChartParser(es_grammar)\n",
    "sent = \"show me movies in italian\"\n",
    "for tree in parser.parse(sent.split()):\n",
    "    print(tree)"
   ]
  },
  {
   "cell_type": "markdown",
   "metadata": {
    "slideshow": {
     "slide_type": "slide"
    }
   },
   "source": [
    "## Probabilistic Context Free Grammars\n",
    "\n",
    "PCFGs are very similar to CFGs - they just have an additional probability for each production. \n",
    "\n",
    "For a given left-hand-side non-terminal, the sum of the probabilities must be 1.0!"
   ]
  },
  {
   "cell_type": "code",
   "execution_count": 19,
   "metadata": {
    "slideshow": {
     "slide_type": "fragment"
    }
   },
   "outputs": [
    {
     "output_type": "stream",
     "name": "stdout",
     "text": [
      "Grammar with 14 productions (start state = S)\n    S -> NP VP [1.0]\n    NP -> Det N [0.6]\n    NP -> Det N PP [0.3]\n    NP -> PRON [0.1]\n    VP -> V NP [0.7]\n    VP -> V NP PP [0.3]\n    PP -> P NP [1.0]\n    Det -> 'the' [0.5]\n    Det -> 'a' [0.5]\n    N -> 'man' [0.5]\n    N -> 'telescope' [0.5]\n    PRON -> 'I' [1.0]\n    V -> 'saw' [1.0]\n    P -> 'with' [1.0]\n"
     ]
    }
   ],
   "source": [
    "weighted_rules = [\n",
    "    'S -> NP VP [1.0]',\n",
    "    'NP -> Det N [0.6]',\n",
    "    'NP -> Det N PP [0.3]',\n",
    "    'NP -> PRON [0.1]',\n",
    "    'VP -> V NP [0.7]',\n",
    "    'VP -> V NP PP [0.3]',\n",
    "    'PP -> P NP [1.0]',\n",
    "    'Det -> \"the\" [0.5]',\n",
    "    'Det -> \"a\" [0.5]',\n",
    "    'N -> \"man\" [0.5]',\n",
    "    'N -> \"telescope\" [0.5]',\n",
    "    'PRON -> \"I\" [1.0]',\n",
    "    'V -> \"saw\" [1.0]',\n",
    "    'P -> \"with\" [1.0]'   \n",
    "]\n",
    "\n",
    "toy_grammar = nltk.PCFG.fromstring(weighted_rules)\n",
    "\n",
    "print(toy_grammar)"
   ]
  },
  {
   "cell_type": "markdown",
   "metadata": {
    "slideshow": {
     "slide_type": "slide"
    }
   },
   "source": [
    "On top of right-hand side and left-hand side, probabilistic rules have probabilities."
   ]
  },
  {
   "cell_type": "code",
   "execution_count": 20,
   "metadata": {
    "slideshow": {
     "slide_type": "fragment"
    }
   },
   "outputs": [
    {
     "output_type": "stream",
     "name": "stdout",
     "text": [
      "S\n(NP, VP)\n1.0\n"
     ]
    }
   ],
   "source": [
    "rule = toy_grammar.productions()[0]\n",
    "print(rule.lhs())\n",
    "print(rule.rhs())\n",
    "print(rule.prob())"
   ]
  },
  {
   "cell_type": "markdown",
   "metadata": {
    "slideshow": {
     "slide_type": "slide"
    }
   },
   "source": [
    "## Learning Grammars from a Treebank\n",
    "\n",
    "The most important method consists of inducing a PCFG from trees in a treebank (`induce_pcfg()`). \n",
    "\n",
    "NLTK provides portion of Penn Treebank corpus, which we can utilize to induce rules."
   ]
  },
  {
   "cell_type": "code",
   "execution_count": 21,
   "metadata": {
    "slideshow": {
     "slide_type": "fragment"
    }
   },
   "outputs": [
    {
     "output_type": "stream",
     "name": "stderr",
     "text": [
      "[nltk_data] Downloading package treebank to\n[nltk_data]     /Users/mdestro/nltk_data...\n[nltk_data]   Package treebank is already up-to-date!\n"
     ]
    },
    {
     "output_type": "execute_result",
     "data": {
      "text/plain": [
       "True"
      ]
     },
     "metadata": {},
     "execution_count": 21
    }
   ],
   "source": [
    "nltk.download('treebank')"
   ]
  },
  {
   "cell_type": "markdown",
   "metadata": {
    "slideshow": {
     "slide_type": "slide"
    }
   },
   "source": [
    "Production rules can be extracted using `productions()` method iterating over parsed sentences in the corpus."
   ]
  },
  {
   "cell_type": "code",
   "execution_count": 22,
   "metadata": {
    "slideshow": {
     "slide_type": "fragment"
    }
   },
   "outputs": [
    {
     "output_type": "stream",
     "name": "stdout",
     "text": [
      "<BracketParseCorpusReader in '/Users/mdestro/nltk_data/corpora/treebank/combined'>\n",
      "179360\n"
     ]
    }
   ],
   "source": [
    "from nltk.corpus import treebank\n",
    "\n",
    "print(treebank)\n",
    "\n",
    "productions = []\n",
    "# let's keep it small\n",
    "for item in treebank.fileids():\n",
    "  for tree in treebank.parsed_sents(item):\n",
    "    productions += tree.productions()\n",
    "    \n",
    "print(len(productions))"
   ]
  },
  {
   "cell_type": "markdown",
   "metadata": {
    "slideshow": {
     "slide_type": "slide"
    }
   },
   "source": [
    "The grammar can be induced as follows:"
   ]
  },
  {
   "cell_type": "code",
   "execution_count": 23,
   "metadata": {
    "slideshow": {
     "slide_type": "fragment"
    },
    "tags": [
     "outputPrepend"
    ]
   },
   "outputs": [
    {
     "output_type": "stream",
     "name": "stdout",
     "text": [
      "11236]\n    PP -> ADVP PP CC PP NP-2 [0.000193836]\n    NP-2 -> NP , NP [0.0238095]\n    NNP -> 'Wallach' [0.00010627]\n    NP -> JJ NNP NNP NNP NNP [4.21514e-05]\n    NNP -> 'Attorney' [0.00010627]\n    NNP -> 'Meese' [0.00010627]\n    ADJP -> JJ VBN [0.0014556]\n    VBN -> 'fashioned' [0.000468604]\n    NN -> 'bribery' [7.59532e-05]\n    VP -> VBD NP-CLR PP-CLR , S-ADV [6.8918e-05]\n    NP-CLR -> JJ NN [0.037037]\n    NN -> 'peddling' [7.59532e-05]\n    NP -> ADJP `` JJ '' NN NNS [4.21514e-05]\n    RB -> 'politically' [0.000354359]\n    JJ -> 'respectable' [0.000171409]\n    NN -> 'confidant' [7.59532e-05]\n    NNP -> 'Lyn' [0.00010627]\n    NNP -> 'Nofzinger' [0.00010627]\n    VP -> VBD CC VBD NP PP-CLR [6.8918e-05]\n    NP-SBJ -> DT VBN [0.000130856]\n    VBN -> 'bribed' [0.000468604]\n    NN -> 'merit' [7.59532e-05]\n    JJ -> 'corrupt' [0.000171409]\n    NN -> 'scheme' [7.59532e-05]\n    NP -> CONJP NP , CC NP [4.21514e-05]\n    NN -> 'bag' [7.59532e-05]\n    NN -> 'crook' [7.59532e-05]\n    VP -> VBD NP ADVP-LOC-CLR [6.8918e-05]\n    ADVP-LOC-CLR -> IN PP [0.25]\n    NN -> 'cold' [7.59532e-05]\n    VBD -> 'befell' [0.000328623]\n    NP -> NP JJ `` NN '' NN [4.21514e-05]\n    JJ -> 'semiliterate' [0.000171409]\n    S -> CC PP , NP-SBJ ADVP-TMP VP . [0.000115607]\n    JJ -> 'sensational' [0.000171409]\n    NNS -> 'revelations' [0.000165371]\n    NP -> DT JJ , JJ JJ NN NN [4.21514e-05]\n    JJ -> 'breezy' [0.000171409]\n    JJ -> 'easy-to-read' [0.000171409]\n    NN -> 'writing' [7.59532e-05]\n    NP-SBJ -> `` NNP NNP '' [0.000130856]\n    JJ -> 'gripping' [0.000171409]\n    NNS -> 'scams' [0.000165371]\n    NN -> 'ingenuity' [7.59532e-05]\n    NNS -> 'Auditors' [0.000165371]\n    NN -> 'crookery' [7.59532e-05]\n    NP-TMP -> NP PP-LOC [0.00273224]\n    VBD -> 'bribed' [0.000328623]\n    NN -> 'garden-variety' [7.59532e-05]\n    NNS -> 'lifes' [0.000165371]\n    NP -> NNPS NNS [4.21514e-05]\n    NNPS -> 'Mercedes' [0.00409836]\n    NNS -> 'clothes' [0.000165371]\n    NP-SBJ -> RB CD [0.000130856]\n    VP -> VBZ UCP-PRD [6.8918e-05]\n    UCP-PRD -> VP , CC ADJP-PRD [0.166667]\n    VBG -> 'wrestling' [0.000684932]\n    NP -> JJ CC JJ [4.21514e-05]\n    JJ -> 'intelligent' [0.000171409]\n    JJ -> 'insane' [0.000171409]\n    ADVP -> ADVP RB [0.00104384]\n    NNP -> 'Irving' [0.00010627]\n    NNP -> 'Lobsenz' [0.00010627]\n    NN -> 'pediatrician' [7.59532e-05]\n    NNP -> 'Rusty' [0.00010627]\n    NN -> 'gambler' [7.59532e-05]\n    NN -> 'blackjack' [7.59532e-05]\n    VBN -> 'arrested' [0.000468604]\n    VBN -> 'Absorbed' [0.000468604]\n    VBG -> 'doling' [0.000684932]\n    NP -> `` NP '' NNS [4.21514e-05]\n    NNS -> 'tidbits' [0.000165371]\n    VBP -> 'gloss' [0.000757002]\n    NP -> NP PP , ADVP NP [4.21514e-05]\n    NN -> 'root' [7.59532e-05]\n    NP -> DT NN CD -LRB- NN -RRB- JJ NN [4.21514e-05]\n    WHNP -> WP$ NNS [0.0208333]\n    NNS -> 'auspices' [0.000165371]\n    VP -> VBD NP-CLR PP [6.8918e-05]\n    VP -> VB ADVP-CLR PP-CLR [6.8918e-05]\n    JJ -> 'rigid' [0.000171409]\n    JJ -> 'affirmative' [0.000171409]\n    NNS -> 'Programs' [0.000165371]\n    NP -> NN CD -LRB- NN -RRB- [4.21514e-05]\n    PP-PRD -> NP-ADV IN S-NOM [0.011236]\n    VBG -> 'expressing' [0.000684932]\n    NNS -> 'thieves' [0.000165371]\n    VP -> VBP PRT S-PRP-CLR ADVP-TMP [6.8918e-05]\n    RP -> 'by' [0.00462963]\n    VB -> 'scoop' [0.000391543]\n    NP-SBJ -> NP , PP NP , [0.000130856]\n    JJ -> 'Numerous' [0.000171409]\n    NNS -> 'scandals' [0.000165371]\n    NNP -> 'HUD' [0.00010627]\n    NNS -> 'characteristics' [0.000165371]\n    VP -> VBP NP-CLR PP [6.8918e-05]\n    JJ -> 'tailor-made' [0.000171409]\n    SQ -> VBP NP-SBJ-2 RB VP [0.0294118]\n    VP -> VBN NP ADVP-PRP [6.8918e-05]\n    S -> `` NP-SBJ '' VP . [0.000115607]\n    SINV -> PP-LOC-3 VP NP-SBJ . [0.005]\n    PP-LOC-3 -> IN CC IN NP [0.5]\n    VP -> VBN NP-4 PP-CLR [6.8918e-05]\n    NN -> 'insider' [7.59532e-05]\n    WRB -> 'whenever' [0.00561798]\n    VP -> VP , VP CC VP ADVP-TMP [6.8918e-05]\n    VBG -> 'redistributing' [0.000684932]\n    VP -> VBG , VBG CC VBG NP [6.8918e-05]\n    VBG -> 'influencing' [0.000684932]\n    VBG -> 'brokering' [0.000684932]\n    NN -> 'bloc' [7.59532e-05]\n    NN -> 'Nomenklatura' [7.59532e-05]\n    NP -> RB DT NN S [4.21514e-05]\n    WHNP-1 -> WRB JJ NN NNS CC NNS [0.00291545]\n    VBP -> 'exist' [0.000757002]\n    VBP -> 'line' [0.000757002]\n    NNP -> 'Stern' [0.00010627]\n    VP -> VBD NP-PRD , NP-TMP [6.8918e-05]\n    NP -> NN CC NN JJ NN [4.21514e-05]\n    NP -> DT NNP NNP NNP NNP NNP NNP [4.21514e-05]\n    NNP -> 'Urban' [0.00010627]\n    CD -> '1983-85' [0.000282008]\n    NP -> JJ NN NNP NNP NNPS NNP [4.21514e-05]\n    JJ -> 'bankrupt' [0.000171409]\n    NNP -> 'Oy' [0.00031881]\n    VP -> VBD PP-MNR S [6.8918e-05]\n    VB -> 'form' [0.000391543]\n    S -> S-2 , NP-SBJ VP . [0.000115607]\n    NN -> 'Everything' [7.59532e-05]\n    NNP -> 'Christian' [0.00010627]\n    NNP -> 'Andersson' [0.00010627]\n    VBN -> 'finalized' [0.000468604]\n    VP -> VB NP PP-CLR SBAR-PRP-3 [6.8918e-05]\n    JJ -> 'state-appointed' [0.000171409]\n    NNS -> 'receivers' [0.000165371]\n    SBAR-PRP-3 -> WHADVP-2 S [0.5]\n    VP -> VB CC VB NP ADVP [6.8918e-05]\n    VB -> 'lease' [0.000391543]\n    S-TPC-3 -> S CC S [0.0833333]\n    NNS -> 'Subcontractors' [0.000165371]\n    NN -> 'swift' [7.59532e-05]\n    VB -> 'avert' [0.000391543]\n    JJ -> 'skilled' [0.000171409]\n    NP -> NP CD JJ NNS [4.21514e-05]\n    NNS -> 'shipyards' [0.000165371]\n    VP -> VB NP-PRD , S-ADV [6.8918e-05]\n    VBG -> 'injecting' [0.000684932]\n    NN -> 'markkaa' [0.00022786]\n    NNS -> 'Customers' [0.000165371]\n    JJ -> 'undelivered' [0.000171409]\n    VB -> 'subscribe' [0.000391543]\n    NP -> DT VBG QP NN [4.21514e-05]\n    CD -> '170' [0.000282008]\n    NP-SBJ -> NP JJS NN [0.000261712]\n    NP-PRD -> JJ NNP NNP NNPS NNP [0.00178571]\n    NNPS -> 'Lines' [0.00409836]\n    VBD -> 'presented' [0.000328623]\n    NP -> QP -NONE- NNS [4.21514e-05]\n    NNP -> 'Helsinki' [0.00010627]\n    NP-SBJ-2 -> PRP$ NNS S [0.0030303]\n    VBN -> 'dashed' [0.000468604]\n    NP -> PRP$ UCP NNS [8.43028e-05]\n    UCP -> JJ CC NN NN [0.037037]\n    S-TPC-3 -> PP , NP-SBJ-2 VP [0.0416667]\n    VB -> 'repay' [0.000391543]\n    NNP -> 'Nichol' [0.00031881]\n    NNP -> 'Karns' [0.00021254]\n    VBD -> 'attempted' [0.000328623]\n    JJ -> 'Concurrent' [0.000171409]\n    NP -> PRP$ NN NNS NNS [4.21514e-05]\n    NP -> ADJP NNP NNP NNP [8.43028e-05]\n    NNP -> 'Norfolk' [0.00010627]\n    VBD -> 'sputtered' [0.000328623]\n    VP -> ADVP VBD NP-TMP [6.8918e-05]\n    VBD -> 'collapsed' [0.000328623]\n    NNP -> 'Ralston' [0.00063762]\n    NNP -> 'Purina' [0.00010627]\n    NP -> DT ADJP NN NN NN [4.21514e-05]\n    NN -> 'pet' [0.00022786]\n    CD -> '45.2' [0.000282008]\n    CD -> '84.9' [0.000282008]\n    CD -> '1.24' [0.000282008]\n    CD -> '422.5' [0.000282008]\n    CD -> '6.44' [0.000282008]\n    CD -> '387.8' [0.000282008]\n    CD -> '5.63' [0.000282008]\n    CD -> '70.2' [0.000282008]\n    NN -> 'seafood' [7.59532e-05]\n    CD -> '5.8' [0.000282008]\n    NN -> 'phase-out' [7.59532e-05]\n    NN -> 'battery' [0.00022786]\n    NNP -> 'Hostess' [0.00010627]\n    NN -> 'cake' [0.000151906]\n    NN -> 'bakery' [7.59532e-05]\n    S-TPC-3 -> NP-SBJ-1 VP [0.0416667]\n    NP -> JJ NN NN CC NN NN NNS [4.21514e-05]\n    JJ -> 'rechargeable' [0.000171409]\n    NN -> 'cadmium' [7.59532e-05]\n    NN -> 'carbon' [7.59532e-05]\n    NN -> 'zinc' [7.59532e-05]\n    NNS -> 'ingredients' [0.000165371]\n    VBD -> 'required' [0.000328623]\n    NN -> 'cereal' [7.59532e-05]\n    NP -> JJR VBG NN [4.21514e-05]\n    NP-ADV -> JJR [0.00497512]\n    NNP -> 'Continental' [0.00010627]\n    NNP -> 'Baking' [0.00010627]\n    NN -> 'bread' [7.59532e-05]\n    NP-SBJ-1 -> PRP$ NNP NN NN [0.00097371]\n    NNP -> 'Eveready' [0.00010627]\n    VP -> VBD NP-TMP PP-CLR , ADVP-CLR , PP-LOC [6.8918e-05]\n    CD -> '80.50' [0.000282008]\n    NNS -> 'Companies' [0.000165371]\n    NP-LGS -> ADVP CD NNS [0.0042735]\n    JJ -> 'five-cent' [0.000171409]\n    ADJP -> VBN CC JJ [0.0014556]\n    VBN -> 'omitted' [0.000468604]\n    NN -> 'percent' [7.59532e-05]\n    VP -> VBZ NP PP-CLR SBAR-ADV [6.8918e-05]\n    SBAR-ADV -> WHADVP-1 S [0.00331126]\n    VP -> NNS NP PP-TMP ADVP-LOC [6.8918e-05]\n    RB -> 'Otherwise' [0.000354359]\n    JJ -> '300-day' [0.000171409]\n    CD -> '55.1' [0.000282008]\n    JJ -> 'cash-and-stock' [0.000171409]\n    NNP -> 'Ravenswood' [0.00010627]\n    NP -> DT NNP NN VBG NN [4.21514e-05]\n    JJ -> 'corn-buying' [0.000171409]\n    NN -> 'binge' [7.59532e-05]\n    NNS -> 'bottlenecks' [0.000165371]\n    NN -> 'pipeline' [7.59532e-05]\n    NNS -> 'exporters' [0.000826856]\n    NP -> JJ NN NNS CC NNS [4.21514e-05]\n    NN -> 'river' [0.00022786]\n    NNS -> 'barges' [0.000496114]\n    NNS -> 'trains' [0.000165371]\n    VP -> VB NP PP-DIR PP [6.8918e-05]\n    VBN -> 'harvested' [0.000468604]\n    NNS -> 'ports' [0.000330743]\n    VBG -> 'loading' [0.000684932]\n    NN -> 'River' [7.59532e-05]\n    NN -> 'barge' [0.00022786]\n    VP -> VBN NP-EXT NP-TMP PP-TMP [6.8918e-05]\n    NN -> 'Railroad' [7.59532e-05]\n    VBG -> 'reaping' [0.000684932]\n    NN -> 'windfall' [7.59532e-05]\n    VB -> 'gyrate' [0.000391543]\n    VBP -> 'scrounge' [0.000757002]\n    VP -> VBD NP PP-TMP , SBAR-2 [6.8918e-05]\n    NP -> DT RBS [4.21514e-05]\n    VP -> ADVP VBN NP PP-CLR PP-TMP PP-DIR [6.8918e-05]\n    SBAR-ADV -> WHNP-1 S [0.00331126]\n    VP -> VB NP-PRD PP-TMP [6.8918e-05]\n    NN -> 'strain' [7.59532e-05]\n    VP -> VBZ ADJP-PRD NP-TMP PP-PRP [6.8918e-05]\n    NNP -> 'Mississippi' [0.00063762]\n    SBAR -> WHPP-1 SINV [0.000424628]\n    VP -> VBN NP ADVP-DIR [6.8918e-05]\n    VBG -> 'shipping' [0.00136986]\n    NNP -> 'Dunton' [0.00010627]\n    RB -> 'real' [0.000354359]\n    NNS -> 'Plains' [0.000165371]\n    JJ -> 'upper' [0.000171409]\n    VBG -> 'trimming' [0.000684932]\n    NNS -> 'tows' [0.000165371]\n    VBP -> 'push' [0.000757002]\n    S -> PP-TMP , NP-SBJ-2 ADVP VP . [0.000115607]\n    VP -> VB ADJP-PRD SBAR-PRP [6.8918e-05]\n    VP -> VB ADJP-ADV ADVP-LOC [6.8918e-05]\n    ADJP-ADV -> RB VBN [0.25]\n    RB -> 'south' [0.000354359]\n    NNP -> 'Corps' [0.00042508]\n    NNPS -> 'Engineers' [0.00819672]\n    NNP -> 'Missouri' [0.00031881]\n    VBZ -> 'feeds' [0.000470588]\n    VP -> VBG NP ADVP-TMP PP-PRP [6.8918e-05]\n    NNS -> 'reservoirs' [0.000165371]\n    NN -> 'Barge' [7.59532e-05]\n    VP -> VBD NP-TMP PP [6.8918e-05]\n    VBD -> 'sank' [0.000328623]\n    S -> NP-SBJ NP-TMP PP-LOC-3 VP [0.000115607]\n    PP-LOC-3 -> IN NP [0.5]\n    VB -> 'alleviate' [0.000391543]\n    VP -> VBZ ADVP-PRD PP [0.000137836]\n    PP -> NP IN ADJP [0.000193836]\n    VP -> VB NP-EXT SBAR-TMP [6.8918e-05]\n    VBN -> 'slowed' [0.000468604]\n    JJ -> 'Similar' [0.000171409]\n    VP -> VBP NP NP-TMP PP [6.8918e-05]\n    VBP -> 'hamstrung' [0.000757002]\n    NP-SBJ -> NP VBG JJ NNS [0.000130856]\n    VBG -> 'budding' [0.000684932]\n    JJ -> 'logistical' [0.000171409]\n    NP-SBJ-1 -> JJ NN NNS CC NNS [0.00097371]\n    NP -> DT NN NNS NNS [4.21514e-05]\n    VB -> 'calculate' [0.000391543]\n    S -> PP-LOC NP-TMP NP-SBJ-1 VP . [0.000115607]\n    VP -> VBD NP-ADV S-CLR [6.8918e-05]\n    NN -> 'bushel' [0.000303813]\n    CD -> '2.375' [0.000282008]\n    NN -> 'Corn' [7.59532e-05]\n    VP -> VBN ADJP-PRD NP-TMP PP SBAR-PRP [6.8918e-05]\n    NN -> 'harvest' [0.000303813]\n    VB -> 'rebuild' [0.000391543]\n    NNS -> 'stockpiles' [0.000496114]\n    VBN -> 'depleted' [0.000468604]\n    NP-LGS -> DT CD NN [0.0042735]\n    VBG -> 'winding' [0.000684932]\n    VBG -> 'speculating' [0.000684932]\n    VP -> VB PP-LOC SBAR-ADV [6.8918e-05]\n    VBP -> 'try' [0.000757002]\n    VB -> 'gather' [0.000391543]\n    VBN -> 'obligated' [0.000468604]\n    VP -> VB ADVP-DIR NP ADVP-LOC [6.8918e-05]\n    S -> SBAR-PRP , NP-SBJ VP [0.000115607]\n    NN -> 'storage' [0.000151906]\n    VBZ -> 'permits' [0.000470588]\n    VP -> VBG NP NP PP-CLR [6.8918e-05]\n    CD -> '2.15' [0.000282008]\n    NNP -> 'Lyle' [0.00010627]\n    NP -> NNP NNP CC NNP NNP NNP [4.21514e-05]\n    NNP -> 'Railroad' [0.00010627]\n    NNP -> 'Waterloo' [0.00010627]\n    VBZ -> 'projects' [0.000470588]\n    NN -> 'one-fifth' [7.59532e-05]\n    NNP -> 'Biedermann' [0.00010627]\n    NNP -> 'Allendale' [0.00010627]\n    VP -> VBZ PP-DIR PP-MNR [6.8918e-05]\n    VB -> 'sidestep' [0.000391543]\n    VP -> VBG NP PP-MNR PP-DIR [6.8918e-05]\n    NN -> 'train' [7.59532e-05]\n    NN -> 'port' [7.59532e-05]\n    NNS -> 'Ports' [0.000165371]\n    NP -> DT NNP NNPS CC NNP NNP [4.21514e-05]\n    NNPS -> 'Lakes' [0.00409836]\n    NNP -> 'Coast' [0.00010627]\n    VB -> 'relieve' [0.000391543]\n    NP -> PRP$ NN VBG NN [8.43028e-05]\n    VBG -> 'hauling' [0.000684932]\n    VP -> VBZ RB ADJP-PRD SBAR-2 [6.8918e-05]\n    VBN -> 'compressed' [0.000468604]\n    ADVP-TMP -> JJR PP [0.00160772]\n    VBN -> 'delayed' [0.000468604]\n    NP-LGS -> NP CONJP NP [0.0042735]\n    FRAG -> PP-LOC NP-TMP : [0.0102041]\n    NN -> 'ENERGY' [7.59532e-05]\n    NP-SBJ -> JJ NN NNS NNS [0.000130856]\n    NP-SBJ-1 -> DT JJ ADJP NN [0.00097371]\n    NN -> 'refinery' [7.59532e-05]\n    VBG -> 'tightening' [0.000684932]\n    NN -> 'Heating' [7.59532e-05]\n    CD -> '58.64' [0.000282008]\n    ADVP-CLR -> RB NP PP-LOC [0.0196078]\n    CD -> '19.94' [0.000282008]\n    NN -> 'sell-off' [7.59532e-05]\n    NP-TMP-CLR -> NNP [0.04]\n    NNP -> 'PRECIOUS' [0.00010627]\n    NNPS -> 'METALS' [0.00409836]\n    NP-SBJ -> VBN NN CC NN [0.000130856]\n    CD -> '3.20' [0.000282008]\n    CD -> '377.60' [0.000282008]\n    NN -> 'silver' [7.59532e-05]\n    CD -> '6.50' [0.000282008]\n    CD -> '5.2180' [0.000282008]\n    NN -> 'platinum' [0.000151906]\n    VP -> VBD PP-PRD PP-CLR [6.8918e-05]\n    CD -> '5.70' [0.000282008]\n    CD -> '494.50' [0.000282008]\n    NP-SBJ-1 -> NP , NP PP , [0.00097371]\n    JJ -> 'Precious' [0.000171409]\n    VP -> VBN NP PP SBAR-ADV , PP [6.8918e-05]\n    VBN -> 'influenced' [0.000468604]\n    NNP -> \"O'Neill\" [0.00010627]\n    NNPS -> 'Elders' [0.00409836]\n    NNS -> 'equities' [0.000165371]\n    VP -> VBD ADVP-MNR , S-ADV [6.8918e-05]\n    NN -> 'Silver' [0.000151906]\n    NP -> `` RB JJ '' NNS [4.21514e-05]\n    NNS -> 'warehouses' [0.000165371]\n    VP -> VBD PP-EXT PP-CLR , PP [6.8918e-05]\n    CD -> '170,262' [0.000282008]\n    CD -> '226,570,380' [0.000282008]\n    NNS -> 'miners' [0.000165371]\n    VB -> 'strike' [0.000783085]\n    CD -> '1.20' [0.000282008]\n    CD -> '1.14' [0.000282008]\n    S-TPC-3 -> PP-LOC , NP-SBJ-2 NP-TMP VP [0.0416667]\n    NP -> NP , NP , SBAR , [4.21514e-05]\n    NNP -> 'Bronces' [0.00010627]\n    NNP -> 'Soldado' [0.00010627]\n    JJ -> 'Exxon-owned' [0.000171409]\n    NNP -> 'Minera' [0.00010627]\n    NNP -> 'Disputada' [0.00010627]\n    VP -> VB NP NP-TMP-CLR [6.8918e-05]\n    NNS -> 'Reasons' [0.000165371]\n    NN -> 'walkout' [7.59532e-05]\n    JJ -> 'procedural' [0.000171409]\n    SBAR -> IN SINV [0.000424628]\n    SINV -> ADJP-PRD-TPC-1 VP NP-SBJ [0.005]\n    ADJP-PRD-TPC-1 -> RB JJ PP [1.0]\n    NN -> 'metal' [0.00022786]\n    S-2 -> PP PRN NP-SBJ-1 VP . [0.025]\n    JJ -> 'upbeat' [0.000171409]\n    NN -> 'mood' [7.59532e-05]\n    VP -> VBN NP PP-CLR SBAR-PRP [6.8918e-05]\n    VBN -> 'reflected' [0.000468604]\n    SINV-4 -> VP-TPC-3 PRN VP NP-SBJ . [1.0]\n    VP-TPC-3 -> ADVP VBG PP-CLR [1.0]\n    NP-SBJ -> NP PP , SBAR [0.000130856]\n    NP -> NNP VBG NNS [4.21514e-05]\n    VBZ -> 'precedes' [0.000470588]\n    NP -> DT JJ VBG NNS POS [4.21514e-05]\n    SBAR-NOM -> WHNP-5 S [0.0185185]\n    VP -> VBD PP-DIR PP-TMP [6.8918e-05]\n    CD -> '51.6' [0.000282008]\n    NNS -> 'readings' [0.000165371]\n    CD -> '47.1' [0.000282008]\n    VBZ -> 'points' [0.000470588]\n    NNP -> 'NCR' [0.00010627]\n    NNP -> 'Tower' [0.00021254]\n    JJ -> 'midrange' [0.000171409]\n    VBN -> 'advanced' [0.000468604]\n    NN -> 'networking' [7.59532e-05]\n    VP -> VB S ADVP [6.8918e-05]\n    NN -> 'hub' [7.59532e-05]\n    NP -> NP NNP NN VBG NN NN [4.21514e-05]\n    NNP -> 'Novell' [0.00010627]\n    NNP -> 'NetWare' [0.00010627]\n    NP-SBJ-1 -> VBN NN NNS [0.00097371]\n    NP -> NN CC JJ NN NNS [4.21514e-05]\n    JJ -> 'like' [0.000171409]\n    S -> PP-TMP , NP-SBJ ADVP VP . [0.000115607]\n    VBG -> 'riding' [0.000684932]\n    JJ -> 'industrywide' [0.000171409]\n    NNS -> 'chunks' [0.000165371]\n    S -> PP-LOC , ADVP , NP-SBJ-3 VP . [0.000115607]\n    NP-SBJ-3 -> NP NN NN [0.00925926]\n    NNP -> 'Marcus' [0.00010627]\n    NN -> 'appliance' [7.59532e-05]\n    VBP -> 'hurt' [0.000757002]\n    NNS -> 'steelmakers' [0.000496114]\n    NP -> JJR NNS CC NNS [4.21514e-05]\n    NNP -> 'Lorain' [0.00010627]\n    WHNP-51 -> WDT [0.333333]\n    CD -> '50-50' [0.000282008]\n    NN -> 'joint' [7.59532e-05]\n    NNP -> 'Kobe' [0.00010627]\n    PP-CLR -> TO PP [0.000815661]\n    S -> ADVP , NP-SBJ-3 VP . [0.000115607]\n    NP-SBJ-3 -> NNP [0.00925926]\n    VP -> VBD ADVP , S-ADV [6.8918e-05]\n    VBG -> 'earning' [0.000684932]\n    NNP -> 'Bethlehem' [0.00010627]\n    CD -> '54' [0.000282008]\n    NNP -> 'Inland' [0.00010627]\n    VBD -> 'plummeted' [0.000328623]\n    VP -> VBD ADVP-CLR , PP-CLR , SBAR-ADV [6.8918e-05]\n    CD -> '34.625' [0.000282008]\n    VBD -> 'exceeded' [0.000328623]\n    NNS -> 'projections' [0.000165371]\n    NNP -> 'Bradford' [0.00010627]\n    NP -> NNP NNP NNP NNPS [4.21514e-05]\n    NP-LGS -> NP SBAR [0.0042735]\n    JJR -> 'richer' [0.00262467]\n    NP -> DT ADJP NX [4.21514e-05]\n    NN -> 'pipe' [7.59532e-05]\n    NX -> JJ VBN NN [0.00775194]\n    JJ -> 'galvanized' [0.000171409]\n    VBN -> 'coated' [0.000468604]\n    JJ -> 'lower-priced' [0.000171409]\n    JJ -> 'structural' [0.000171409]\n    NP-PRD -> NP JJS [0.00178571]\n    NP-SBJ-1 -> JJR JJ NN NNS [0.00097371]\n    VP -> VB NP PP-DIR PP-DIR [6.8918e-05]\n    NNP -> 'Marathon' [0.00010627]\n    CD -> '198' [0.000282008]\n    NP-SBJ-1 -> DT NNP NNP CC NNP NN [0.00097371]\n    NN -> 'red' [7.59532e-05]\n    VBG -> 'soliciting' [0.000684932]\n    NP -> NP NN CC NN NNS [4.21514e-05]\n    NNP -> 'TXO' [0.00010627]\n    NNS -> 'Proceeds' [0.000165371]\n    VP -> VBP S-PRD [6.8918e-05]\n    VP -> VBN NP PP-EXT PP-TMP [6.8918e-05]\n    CD -> '15.5' [0.000282008]\n    CD -> '257' [0.000282008]\n    NP-LGS -> NN SBAR [0.0042735]\n    NNP -> 'Icahn' [0.00021254]\n    CD -> '13.1' [0.000282008]\n    VP -> VB PP-PRD SBAR-ADV [6.8918e-05]\n    PP-PRD -> JJ ADJP [0.011236]\n    ADJP -> RBR [0.0014556]\n    CD -> '721' [0.000282008]\n    CD -> '2.62' [0.000282008]\n    CD -> '598' [0.000282008]\n    CD -> '2.07' [0.000282008]\n    NP-SBJ-1 -> NP , NP , ADVP-TMP NP , [0.00097371]\n    NNP -> 'Barrett' [0.00010627]\n    NNP -> 'Leon' [0.00010627]\n    NNP -> 'Level' [0.00010627]\n    NNP -> 'McFarlan' [0.00010627]\n    NNP -> 'DiLoreto' [0.00010627]\n    NN -> 'container' [7.59532e-05]\n    VP -> VBN NP PP-CLR PP-LOC , S-ADV [6.8918e-05]\n    UCP -> NN , JJ CC NN NNS [0.037037]\n    NNP -> 'Delmont' [0.00010627]\n    NP-SBJ -> CD VBG NN NNS [0.000130856]\n    NN -> 'constitutional-law' [7.59532e-05]\n    NP-SBJ -> NNP NX [0.000130856]\n    NNP -> 'Professors' [0.00010627]\n    NX -> NNP NNP PP [0.0155039]\n    NNP -> 'Kurland' [0.00021254]\n    NNP -> 'Laurence' [0.00010627]\n    NNP -> 'Tribe' [0.00021254]\n    VB -> 'claim' [0.000783085]\n    NP -> NP CC NP , CONJP NP [4.21514e-05]\n    NN -> 'procedure' [0.000151906]\n    VB -> 'scuttle' [0.000391543]\n    VP -> VBG SBAR S-PRP [6.8918e-05]\n    RB -> 'implicitly' [0.000354359]\n    NNP -> 'Kennedy' [0.00021254]\n    PRN -> -LRB- NP , NP-LOC -RRB- , [0.00334448]\n    NNS -> 'professors' [0.000330743]\n    NNS -> 'ends' [0.000165371]\n    NN -> 'spectrum' [7.59532e-05]\n    NN -> 'liberal' [7.59532e-05]\n    VBZ -> 'authorizes' [0.000470588]\n    JJ -> 'partial' [0.000171409]\n    VBD -> 'covered' [0.000328623]\n    S -> S , CC `` S . [0.000115607]\n    QP -> JJR IN DT NN [0.00126582]\n    VP -> VBN PP-CLR PP-TMP-1 [6.8918e-05]\n    NNP -> 'Civil' [0.00010627]\n    VBN -> 'shared' [0.000468604]\n    NP-SBJ -> JJ JJ NN [0.000130856]\n    JJ -> 'lawmaking' [0.000171409]\n    VBZ -> 'supports' [0.000470588]\n    VP -> VB NP NP ADVP [6.8918e-05]\n    VP -> VB NP-PRD SBAR-1 [6.8918e-05]\n    NP-PRD -> NP PP '' [0.00178571]\n    JJ -> 'reckless' [0.000171409]\n    NNP -> 'Trinity' [0.00021254]\n    NN -> 'railcar' [7.59532e-05]\n    NNS -> 'platforms' [0.000165371]\n    NNP -> 'Trailer' [0.00010627]\n    NNP -> 'Train' [0.00010627]\n"
     ]
    }
   ],
   "source": [
    "from nltk import Nonterminal\n",
    "S = Nonterminal('S')\n",
    "grammar = nltk.induce_pcfg(S, productions)\n",
    "print(grammar)"
   ]
  },
  {
   "cell_type": "markdown",
   "metadata": {
    "slideshow": {
     "slide_type": "slide"
    }
   },
   "source": [
    "### PCFG Parsers\n",
    "NLTK provides several PCFG parsers:\n",
    "\n",
    "From `nltk.parse.viterbi`\n",
    "\n",
    "- ViterbiParser\n",
    "    - A bottom-up PCFG parser that uses dynamic programming to find the single most likely parse for a text. The ViterbiParser parser parses texts by filling in a “most likely constituent table”. This table records the most probable tree representation for any given span and node value. In particular, it has an entry for every start index, end index, and node value, recording the most likely subtree that spans from the start index to the end index, and has the given node value.\n",
    "\n",
    "From `nltk.parse.pchart` module\n",
    "\n",
    "- InsideChartParser\n",
    "    - A bottom-up parser for PCFG grammars that tries edges in descending order of the inside probabilities of their trees.\n",
    "    - use `beam_size = len(tokens)+1` argument\n",
    "    \n",
    "- RandomChartParser\n",
    "    - A bottom-up parser for PCFG grammars that tries edges in random order. This sorting order results in a random search strategy.\n",
    "    \n",
    "- UnsortedChartParser\n",
    "    - A bottom-up parser for PCFG grammars that tries edges in whatever order.\n",
    "\n",
    "- LongestChartParser\n",
    "    - A bottom-up parser for PCFG grammars that tries longer edges before shorter ones. This sorting order results in a type of best-first search strategy.\n",
    "\n",
    "Read about them in the [documentation](http://www.nltk.org/api/nltk.parse.html)."
   ]
  },
  {
   "cell_type": "markdown",
   "metadata": {
    "slideshow": {
     "slide_type": "slide"
    }
   },
   "source": [
    "Let's parse one of the sentences from above using Viterbi parser."
   ]
  },
  {
   "cell_type": "code",
   "execution_count": 101,
   "metadata": {
    "slideshow": {
     "slide_type": "fragment"
    }
   },
   "outputs": [
    {
     "output_type": "stream",
     "name": "stdout",
     "text": [
      "(S\n  (NP-SBJ-3\n    (NP (NN show))\n    (FRAG (NP-SBJ (PRP me)) (NP (NNS movies))))\n  (VP (VBN made) (PP-CLR (IN in) (NP (NNP Italy))))) (p=1.17393e-28)\n"
     ]
    }
   ],
   "source": [
    "parser = nltk.ViterbiParser(grammar)\n",
    "\n",
    "for tree in parser.parse(\"show me movies made in Italy\".split()):\n",
    "    print(tree)"
   ]
  },
  {
   "cell_type": "markdown",
   "metadata": {
    "slideshow": {
     "slide_type": "slide"
    }
   },
   "source": [
    "#### Exercise\n",
    "\n",
    "- Try different parser to parse the sentences from above (about movies)\n",
    "- Compare assigned probabilities\n",
    "- Compare time it takes to parse sentences"
   ]
  },
  {
   "cell_type": "code",
   "execution_count": null,
   "metadata": {
    "slideshow": {
     "slide_type": "skip"
    }
   },
   "outputs": [],
   "source": []
  },
  {
   "cell_type": "markdown",
   "metadata": {
    "slideshow": {
     "slide_type": "slide"
    }
   },
   "source": [
    "## Generating Sentences\n",
    "\n",
    "Grammars can be used to generate sentences as well. This is accomplished using `generate` method.\n",
    "read [here](http://www.nltk.org/api/nltk.parse.html#module-nltk.parse.generate)\n",
    "\n",
    "arguments it takes are the following `nltk.parse.generate.generate(grammar, start=None, depth=None, n=None)`:\n",
    "\n",
    "- grammar – The Grammar used to generate sentences.\n",
    "- start – The Nonterminal from which to start generate sentences.\n",
    "- depth – The maximal depth of the generated tree.\n",
    "- n – The maximum number of sentences to return."
   ]
  },
  {
   "cell_type": "code",
   "execution_count": 25,
   "metadata": {
    "slideshow": {
     "slide_type": "fragment"
    }
   },
   "outputs": [
    {
     "output_type": "stream",
     "name": "stdout",
     "text": [
      "['the', 'man', 'saw', 'the', 'man']\n['the', 'man', 'saw', 'the', 'telescope']\n['the', 'man', 'saw', 'a', 'man']\n['the', 'man', 'saw', 'a', 'telescope']\n['the', 'man', 'saw', 'the', 'man', 'with', 'the', 'man']\n['the', 'man', 'saw', 'the', 'man', 'with', 'the', 'telescope']\n['the', 'man', 'saw', 'the', 'man', 'with', 'a', 'man']\n['the', 'man', 'saw', 'the', 'man', 'with', 'a', 'telescope']\n['the', 'man', 'saw', 'the', 'man', 'with', 'the', 'man', 'with', 'the', 'man']\n['the', 'man', 'saw', 'the', 'man', 'with', 'the', 'man', 'with', 'the', 'telescope']\n"
     ]
    }
   ],
   "source": [
    "from nltk.parse.generate import generate\n",
    "\n",
    "for sent in generate(toy_grammar, n=10):\n",
    "    print(sent)"
   ]
  },
  {
   "cell_type": "markdown",
   "metadata": {
    "slideshow": {
     "slide_type": "slide"
    }
   },
   "source": [
    "#### Exercise\n",
    "\n",
    "- Use the grammar defined by you to generate sentences.\n",
    "- Experiment with `depth` and `start` paramenters"
   ]
  },
  {
   "cell_type": "code",
   "execution_count": 99,
   "metadata": {},
   "outputs": [
    {
     "output_type": "stream",
     "name": "stdout",
     "text": [
      "['the', 'movies', 'show', 'the', 'movies']\n['the', 'movies', 'show', 'the', 'italy']\n['the', 'movies', 'show', 'the', 'italian']\n['the', 'movies', 'show', 'movies']\n['the', 'movies', 'show', 'italy']\n['the', 'movies', 'show', 'italian']\n['the', 'movies', 'show', 'the', 'movies', 'in', 'the', 'movies']\n['the', 'movies', 'show', 'the', 'movies', 'in', 'the', 'italy']\n['the', 'movies', 'show', 'the', 'movies', 'in', 'the', 'italian']\n['the', 'movies', 'show', 'the', 'movies', 'in', 'movies']\n"
     ]
    }
   ],
   "source": [
    "for sent in generate(es_grammar, n=10):\n",
    "    print(sent)"
   ]
  },
  {
   "cell_type": "code",
   "execution_count": null,
   "metadata": {},
   "outputs": [],
   "source": []
  }
 ],
 "metadata": {
  "kernelspec": {
   "display_name": "Python 3",
   "language": "python",
   "name": "python3"
  },
  "language_info": {
   "codemirror_mode": {
    "name": "ipython",
    "version": 3
   },
   "file_extension": ".py",
   "mimetype": "text/x-python",
   "name": "python",
   "nbconvert_exporter": "python",
   "pygments_lexer": "ipython3",
   "version": "3.8.3-final"
  }
 },
 "nbformat": 4,
 "nbformat_minor": 4
}