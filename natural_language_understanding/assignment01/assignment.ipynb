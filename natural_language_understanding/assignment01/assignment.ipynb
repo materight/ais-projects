{
 "metadata": {
  "language_info": {
   "codemirror_mode": {
    "name": "ipython",
    "version": 3
   },
   "file_extension": ".py",
   "mimetype": "text/x-python",
   "name": "python",
   "nbconvert_exporter": "python",
   "pygments_lexer": "ipython3",
   "version": "3.8.3-final"
  },
  "orig_nbformat": 2,
  "kernelspec": {
   "name": "python383jvsc74a57bd0ae03d948584253fec240bc08d589a6fc5490ee03a1d28d126cf31e5ae02e89c9",
   "display_name": "Python 3.8.3 64-bit ('base': conda)"
  }
 },
 "nbformat": 4,
 "nbformat_minor": 2,
 "cells": [
  {
   "source": [
    "## Assignment: Working with Dependency Graphs (Parses)\n",
    "\n",
    "The objective of the assignment is to learn how to work with dependency graphs by defining functions.\n",
    "\n",
    "Read [spaCy documentation on dependency parser](https://spacy.io/api/dependencyparser) to learn provided methods.\n",
    "\n",
    "Define functions to:\n",
    "- Extract a path of dependency relations from the ROOT to a token\n",
    "- Extract subtree of a dependents given a token\n",
    "- Check if a given list of tokens (segment of a sentence) forms a subtree\n",
    "- Identify head of a span, given its tokens\n",
    "- Extract sentence subject, direct object and indirect object spans\n"
   ],
   "cell_type": "markdown",
   "metadata": {}
  },
  {
   "cell_type": "code",
   "execution_count": 9,
   "metadata": {},
   "outputs": [],
   "source": [
    "import spacy\n",
    "\n",
    "sentence = 'I saw the man with a telescope.'\n",
    "\n",
    "nlp = spacy.load('en_core_web_sm') # Load the English model\n",
    "doc = nlp(sentence)\n",
    "\n",
    "# spacy.displacy.render(doc) # Shows the parsing result"
   ]
  },
  {
   "source": [
    "### 1. Extract a path of dependency relations from the ROOT to a token"
   ],
   "cell_type": "markdown",
   "metadata": {}
  },
  {
   "cell_type": "code",
   "execution_count": 10,
   "metadata": {},
   "outputs": [
    {
     "output_type": "stream",
     "name": "stdout",
     "text": [
      "Path from ROOT to \"I\":  ROOT -> nsubj\nPath from ROOT to \"saw\":  ROOT\nPath from ROOT to \"the\":  ROOT -> dobj -> det\nPath from ROOT to \"man\":  ROOT -> dobj\nPath from ROOT to \"with\":  ROOT -> dobj -> prep\nPath from ROOT to \"a\":  ROOT -> dobj -> prep -> pobj -> det\nPath from ROOT to \"telescope\":  ROOT -> dobj -> prep -> pobj\nPath from ROOT to \".\":  ROOT -> punct\n"
     ]
    }
   ],
   "source": [
    "def get_paths(sentence):\n",
    "    doc = nlp(sentence)\n",
    "    results = []\n",
    "    for token in doc:\n",
    "        results.append([*reversed(list([a.dep_ for a in token.ancestors])), token.dep_]) # Extract the path from the ROOT to the token. Reversed to get the order from ROOT to the token and not the opposite.\n",
    "    return results\n",
    "\n",
    "# Examples\n",
    "paths = get_paths(sentence)\n",
    "for i, path in enumerate(paths):\n",
    "    print(f'Path from ROOT to \"{doc[i]}\":  {\" -> \".join(path)}')"
   ]
  },
  {
   "source": [
    "### 2. Extract subtree of a dependents given a token"
   ],
   "cell_type": "markdown",
   "metadata": {}
  },
  {
   "cell_type": "code",
   "execution_count": 11,
   "metadata": {},
   "outputs": [
    {
     "output_type": "stream",
     "name": "stdout",
     "text": [
      "Subtree of \"I\": ['I']\nSubtree of \"saw\": ['I', 'saw', 'the', 'man', 'with', 'a', 'telescope', '.']\nSubtree of \"the\": ['the']\nSubtree of \"man\": ['the', 'man', 'with', 'a', 'telescope']\nSubtree of \"with\": ['with', 'a', 'telescope']\nSubtree of \"a\": ['a']\nSubtree of \"telescope\": ['a', 'telescope']\nSubtree of \".\": ['.']\n"
     ]
    }
   ],
   "source": [
    "def get_subtrees(sentence):\n",
    "    doc = nlp(sentence)\n",
    "    results = []\n",
    "    for token in doc:\n",
    "        results.append([t.text for t in token.subtree]) # Extract the subtree of the token as a list of strings\n",
    "    return results\n",
    "\n",
    "# Examples\n",
    "subtrees = get_subtrees(sentence)\n",
    "for i, subtree in enumerate(subtrees):\n",
    "    print(f'Subtree of \"{doc[i]}\": {subtree}')\n",
    "    "
   ]
  },
  {
   "source": [
    "### 3. Check if a given list of tokens (segment of a sentence) forms a subtree"
   ],
   "cell_type": "markdown",
   "metadata": {}
  },
  {
   "cell_type": "code",
   "execution_count": 12,
   "metadata": {},
   "outputs": [
    {
     "output_type": "stream",
     "name": "stdout",
     "text": [
      "Is ['saw', 'with', 'telescope'] a subtree: False\n",
      "Is ['a', 'telescope'] a subtree: True\n"
     ]
    }
   ],
   "source": [
    "def is_subtree(sentence, subtree):\n",
    "    doc = nlp(sentence)\n",
    "    for token in doc: # Check for each possible subtree in the document\n",
    "        if [t.text for t in token.subtree] == subtree: # Check if the two subtrees are equal \n",
    "            return True\n",
    "    return False\n",
    "\n",
    "# Examples\n",
    "examples = [['saw', 'with', 'telescope'], ['a', 'telescope']]\n",
    "for e in examples:\n",
    "    print(f'Is {e} a subtree: {is_subtree(sentence, e)}')"
   ]
  },
  {
   "source": [
    "### 4. Identify head of a span, given its tokens"
   ],
   "cell_type": "markdown",
   "metadata": {}
  },
  {
   "cell_type": "code",
   "execution_count": 13,
   "metadata": {},
   "outputs": [
    {
     "output_type": "stream",
     "name": "stdout",
     "text": [
      "Head of \"I saw the man with a telescope.\": saw\n",
      "Head of \"The quick brown fox jumps over the lazy dog.\": jumps\n"
     ]
    }
   ],
   "source": [
    "def get_head(span):\n",
    "    doc = nlp(span)\n",
    "    return list(doc.sents)[0].root # Returns the root of the first span. It assumes that the input sentence contains only one span.\n",
    "\n",
    "# Examples\n",
    "examples = [sentence, 'The quick brown fox jumps over the lazy dog.']\n",
    "for span in examples:\n",
    "    print(f'Head of \"{span}\": {get_head(span)}')"
   ]
  },
  {
   "source": [
    "### 5. Extract sentence subject, direct object and indirect object spans"
   ],
   "cell_type": "markdown",
   "metadata": {}
  },
  {
   "cell_type": "code",
   "execution_count": 14,
   "metadata": {},
   "outputs": [
    {
     "output_type": "stream",
     "name": "stdout",
     "text": [
      "nsubj: ['I']\ndobj: ['the man with a telescope']\niobj: []\n"
     ]
    }
   ],
   "source": [
    "def extract_deps(sentence):\n",
    "    doc = nlp(sentence)\n",
    "    result = {\n",
    "        'nsubj': [],\n",
    "        'dobj': [],\n",
    "        'iobj': []\n",
    "    }\n",
    "    for token in doc: \n",
    "        if token.dep_ in result.keys(): # For each token in the parsed doc, check if it is a nsubj, dobj or iobj\n",
    "            result[token.dep_].append(' '.join([t.text for t in token.subtree])) # Extract the subtree of the token as resulting span\n",
    "    return result\n",
    "\n",
    "# Example\n",
    "r = extract_deps(sentence)\n",
    "for key, value in r.items():\n",
    "    print(f'{key}: {value}')"
   ]
  }
 ]
}