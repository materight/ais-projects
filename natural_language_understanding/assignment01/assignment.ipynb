{
 "metadata": {
  "language_info": {
   "codemirror_mode": {
    "name": "ipython",
    "version": 3
   },
   "file_extension": ".py",
   "mimetype": "text/x-python",
   "name": "python",
   "nbconvert_exporter": "python",
   "pygments_lexer": "ipython3",
   "version": "3.8.3-final"
  },
  "orig_nbformat": 2,
  "kernelspec": {
   "name": "python383jvsc74a57bd0ae03d948584253fec240bc08d589a6fc5490ee03a1d28d126cf31e5ae02e89c9",
   "display_name": "Python 3.8.3 64-bit ('base': conda)"
  }
 },
 "nbformat": 4,
 "nbformat_minor": 2,
 "cells": [
  {
   "source": [
    "## Assignment: Working with Dependency Graphs (Parses)\n",
    "\n",
    "The objective of the assignment is to learn how to work with dependency graphs by defining functions.\n",
    "\n",
    "Read [spaCy documentation on dependency parser](https://spacy.io/api/dependencyparser) to learn provided methods.\n",
    "\n",
    "Define functions to:\n",
    "- Extract a path of dependency relations from the ROOT to a token\n",
    "- Extract subtree of a dependents given a token\n",
    "- Check if a given list of tokens (segment of a sentence) forms a subtree\n",
    "- Identify head of a span, given its tokens\n",
    "- Extract sentence subject, direct object and indirect object spans\n"
   ],
   "cell_type": "markdown",
   "metadata": {}
  },
  {
   "cell_type": "code",
   "execution_count": 14,
   "metadata": {},
   "outputs": [
    {
     "output_type": "display_data",
     "data": {
      "text/plain": "<IPython.core.display.HTML object>",
      "text/html": "<span class=\"tex2jax_ignore\"><svg xmlns=\"http://www.w3.org/2000/svg\" xmlns:xlink=\"http://www.w3.org/1999/xlink\" xml:lang=\"en\" id=\"590ce66a2af24ef6a2326216a4d47fba-0\" class=\"displacy\" width=\"1275\" height=\"312.0\" direction=\"ltr\" style=\"max-width: none; height: 312.0px; color: #000000; background: #ffffff; font-family: Arial; direction: ltr\">\n<text class=\"displacy-token\" fill=\"currentColor\" text-anchor=\"middle\" y=\"222.0\">\n    <tspan class=\"displacy-word\" fill=\"currentColor\" x=\"50\">I</tspan>\n    <tspan class=\"displacy-tag\" dy=\"2em\" fill=\"currentColor\" x=\"50\">PRON</tspan>\n</text>\n\n<text class=\"displacy-token\" fill=\"currentColor\" text-anchor=\"middle\" y=\"222.0\">\n    <tspan class=\"displacy-word\" fill=\"currentColor\" x=\"225\">saw</tspan>\n    <tspan class=\"displacy-tag\" dy=\"2em\" fill=\"currentColor\" x=\"225\">VERB</tspan>\n</text>\n\n<text class=\"displacy-token\" fill=\"currentColor\" text-anchor=\"middle\" y=\"222.0\">\n    <tspan class=\"displacy-word\" fill=\"currentColor\" x=\"400\">the</tspan>\n    <tspan class=\"displacy-tag\" dy=\"2em\" fill=\"currentColor\" x=\"400\">DET</tspan>\n</text>\n\n<text class=\"displacy-token\" fill=\"currentColor\" text-anchor=\"middle\" y=\"222.0\">\n    <tspan class=\"displacy-word\" fill=\"currentColor\" x=\"575\">man</tspan>\n    <tspan class=\"displacy-tag\" dy=\"2em\" fill=\"currentColor\" x=\"575\">NOUN</tspan>\n</text>\n\n<text class=\"displacy-token\" fill=\"currentColor\" text-anchor=\"middle\" y=\"222.0\">\n    <tspan class=\"displacy-word\" fill=\"currentColor\" x=\"750\">with</tspan>\n    <tspan class=\"displacy-tag\" dy=\"2em\" fill=\"currentColor\" x=\"750\">ADP</tspan>\n</text>\n\n<text class=\"displacy-token\" fill=\"currentColor\" text-anchor=\"middle\" y=\"222.0\">\n    <tspan class=\"displacy-word\" fill=\"currentColor\" x=\"925\">a</tspan>\n    <tspan class=\"displacy-tag\" dy=\"2em\" fill=\"currentColor\" x=\"925\">DET</tspan>\n</text>\n\n<text class=\"displacy-token\" fill=\"currentColor\" text-anchor=\"middle\" y=\"222.0\">\n    <tspan class=\"displacy-word\" fill=\"currentColor\" x=\"1100\">telescope.</tspan>\n    <tspan class=\"displacy-tag\" dy=\"2em\" fill=\"currentColor\" x=\"1100\">NOUN</tspan>\n</text>\n\n<g class=\"displacy-arrow\">\n    <path class=\"displacy-arc\" id=\"arrow-590ce66a2af24ef6a2326216a4d47fba-0-0\" stroke-width=\"2px\" d=\"M70,177.0 C70,89.5 220.0,89.5 220.0,177.0\" fill=\"none\" stroke=\"currentColor\"/>\n    <text dy=\"1.25em\" style=\"font-size: 0.8em; letter-spacing: 1px\">\n        <textPath xlink:href=\"#arrow-590ce66a2af24ef6a2326216a4d47fba-0-0\" class=\"displacy-label\" startOffset=\"50%\" side=\"left\" fill=\"currentColor\" text-anchor=\"middle\">nsubj</textPath>\n    </text>\n    <path class=\"displacy-arrowhead\" d=\"M70,179.0 L62,167.0 78,167.0\" fill=\"currentColor\"/>\n</g>\n\n<g class=\"displacy-arrow\">\n    <path class=\"displacy-arc\" id=\"arrow-590ce66a2af24ef6a2326216a4d47fba-0-1\" stroke-width=\"2px\" d=\"M420,177.0 C420,89.5 570.0,89.5 570.0,177.0\" fill=\"none\" stroke=\"currentColor\"/>\n    <text dy=\"1.25em\" style=\"font-size: 0.8em; letter-spacing: 1px\">\n        <textPath xlink:href=\"#arrow-590ce66a2af24ef6a2326216a4d47fba-0-1\" class=\"displacy-label\" startOffset=\"50%\" side=\"left\" fill=\"currentColor\" text-anchor=\"middle\">det</textPath>\n    </text>\n    <path class=\"displacy-arrowhead\" d=\"M420,179.0 L412,167.0 428,167.0\" fill=\"currentColor\"/>\n</g>\n\n<g class=\"displacy-arrow\">\n    <path class=\"displacy-arc\" id=\"arrow-590ce66a2af24ef6a2326216a4d47fba-0-2\" stroke-width=\"2px\" d=\"M245,177.0 C245,2.0 575.0,2.0 575.0,177.0\" fill=\"none\" stroke=\"currentColor\"/>\n    <text dy=\"1.25em\" style=\"font-size: 0.8em; letter-spacing: 1px\">\n        <textPath xlink:href=\"#arrow-590ce66a2af24ef6a2326216a4d47fba-0-2\" class=\"displacy-label\" startOffset=\"50%\" side=\"left\" fill=\"currentColor\" text-anchor=\"middle\">dobj</textPath>\n    </text>\n    <path class=\"displacy-arrowhead\" d=\"M575.0,179.0 L583.0,167.0 567.0,167.0\" fill=\"currentColor\"/>\n</g>\n\n<g class=\"displacy-arrow\">\n    <path class=\"displacy-arc\" id=\"arrow-590ce66a2af24ef6a2326216a4d47fba-0-3\" stroke-width=\"2px\" d=\"M595,177.0 C595,89.5 745.0,89.5 745.0,177.0\" fill=\"none\" stroke=\"currentColor\"/>\n    <text dy=\"1.25em\" style=\"font-size: 0.8em; letter-spacing: 1px\">\n        <textPath xlink:href=\"#arrow-590ce66a2af24ef6a2326216a4d47fba-0-3\" class=\"displacy-label\" startOffset=\"50%\" side=\"left\" fill=\"currentColor\" text-anchor=\"middle\">prep</textPath>\n    </text>\n    <path class=\"displacy-arrowhead\" d=\"M745.0,179.0 L753.0,167.0 737.0,167.0\" fill=\"currentColor\"/>\n</g>\n\n<g class=\"displacy-arrow\">\n    <path class=\"displacy-arc\" id=\"arrow-590ce66a2af24ef6a2326216a4d47fba-0-4\" stroke-width=\"2px\" d=\"M945,177.0 C945,89.5 1095.0,89.5 1095.0,177.0\" fill=\"none\" stroke=\"currentColor\"/>\n    <text dy=\"1.25em\" style=\"font-size: 0.8em; letter-spacing: 1px\">\n        <textPath xlink:href=\"#arrow-590ce66a2af24ef6a2326216a4d47fba-0-4\" class=\"displacy-label\" startOffset=\"50%\" side=\"left\" fill=\"currentColor\" text-anchor=\"middle\">det</textPath>\n    </text>\n    <path class=\"displacy-arrowhead\" d=\"M945,179.0 L937,167.0 953,167.0\" fill=\"currentColor\"/>\n</g>\n\n<g class=\"displacy-arrow\">\n    <path class=\"displacy-arc\" id=\"arrow-590ce66a2af24ef6a2326216a4d47fba-0-5\" stroke-width=\"2px\" d=\"M770,177.0 C770,2.0 1100.0,2.0 1100.0,177.0\" fill=\"none\" stroke=\"currentColor\"/>\n    <text dy=\"1.25em\" style=\"font-size: 0.8em; letter-spacing: 1px\">\n        <textPath xlink:href=\"#arrow-590ce66a2af24ef6a2326216a4d47fba-0-5\" class=\"displacy-label\" startOffset=\"50%\" side=\"left\" fill=\"currentColor\" text-anchor=\"middle\">pobj</textPath>\n    </text>\n    <path class=\"displacy-arrowhead\" d=\"M1100.0,179.0 L1108.0,167.0 1092.0,167.0\" fill=\"currentColor\"/>\n</g>\n</svg></span>"
     },
     "metadata": {}
    }
   ],
   "source": [
    "import spacy\n",
    "\n",
    "sentence = 'I saw the man with a telescope.'\n",
    "\n",
    "nlp = spacy.load('en_core_web_sm') # Load the English model\n",
    "doc = nlp(sentence)\n",
    "\n",
    "spacy.displacy.render(doc) # Shows the parsing result"
   ]
  },
  {
   "source": [
    "### 1. Extract a path of dependency relations from the ROOT to a token"
   ],
   "cell_type": "markdown",
   "metadata": {}
  },
  {
   "cell_type": "code",
   "execution_count": 15,
   "metadata": {},
   "outputs": [
    {
     "output_type": "stream",
     "name": "stdout",
     "text": [
      "Path from ROOT to \"I\":  ROOT -> nsubj\nPath from ROOT to \"saw\":  ROOT\nPath from ROOT to \"the\":  ROOT -> dobj -> det\nPath from ROOT to \"man\":  ROOT -> dobj\nPath from ROOT to \"with\":  ROOT -> dobj -> prep\nPath from ROOT to \"a\":  ROOT -> dobj -> prep -> pobj -> det\nPath from ROOT to \"telescope\":  ROOT -> dobj -> prep -> pobj\nPath from ROOT to \".\":  ROOT -> punct\n"
     ]
    }
   ],
   "source": [
    "def get_paths(sentence):\n",
    "    doc = nlp(sentence)\n",
    "    results = []\n",
    "    for token in doc:\n",
    "        results.append([*reversed(list([a.dep_ for a in token.ancestors])), token.dep_]) # Extract the path from the ROOT to the token. Reversed to get the order from ROOT to the token and not the opposite.\n",
    "    return results\n",
    "\n",
    "# Examples\n",
    "paths = get_paths(sentence)\n",
    "for i, path in enumerate(paths):\n",
    "    print(f'Path from ROOT to \"{doc[i]}\":  {\" -> \".join(path)}')"
   ]
  },
  {
   "source": [
    "### 2. Extract subtree of a dependents given a token"
   ],
   "cell_type": "markdown",
   "metadata": {}
  },
  {
   "cell_type": "code",
   "execution_count": 16,
   "metadata": {},
   "outputs": [
    {
     "output_type": "stream",
     "name": "stdout",
     "text": [
      "Subtree of \"I\": ['I']\nSubtree of \"saw\": ['I', 'saw', 'the', 'man', 'with', 'a', 'telescope', '.']\nSubtree of \"the\": ['the']\nSubtree of \"man\": ['the', 'man', 'with', 'a', 'telescope']\nSubtree of \"with\": ['with', 'a', 'telescope']\nSubtree of \"a\": ['a']\nSubtree of \"telescope\": ['a', 'telescope']\nSubtree of \".\": ['.']\n"
     ]
    }
   ],
   "source": [
    "def get_subtrees(sentence):\n",
    "    doc = nlp(sentence)\n",
    "    results = []\n",
    "    for token in doc:\n",
    "        results.append([t.text for t in token.subtree]) # Extract the subtree of the token as a list of strings\n",
    "    return results\n",
    "\n",
    "# Examples\n",
    "subtrees = get_subtrees(sentence)\n",
    "for i, subtree in enumerate(subtrees):\n",
    "    print(f'Subtree of \"{doc[i]}\": {subtree}')\n",
    "    "
   ]
  },
  {
   "source": [
    "### 3. Check if a given list of tokens (segment of a sentence) forms a subtree"
   ],
   "cell_type": "markdown",
   "metadata": {}
  },
  {
   "cell_type": "code",
   "execution_count": 17,
   "metadata": {},
   "outputs": [
    {
     "output_type": "stream",
     "name": "stdout",
     "text": [
      "Is ['saw', 'with', 'telescope'] a subtree: False\nIs ['a', 'telescope'] a subtree: True\n"
     ]
    }
   ],
   "source": [
    "def is_subtree(sentence, subtree):\n",
    "    doc = nlp(sentence)\n",
    "    for query_token in subtree: # Check for each possible root in the given subtree\n",
    "        for t in doc:\n",
    "            if t.text == query_token and [x.text for x in t.subtree] == subtree: # Check if the twoo subtrees are equal \n",
    "                return True\n",
    "    return False\n",
    "\n",
    "# Examples\n",
    "examples = [['saw', 'with', 'telescope'], ['a', 'telescope']]\n",
    "for e in examples:\n",
    "    print(f'Is {e} a subtree: {is_subtree(sentence, e)}')"
   ]
  },
  {
   "source": [
    "### 4. Identify head of a span, given its tokens"
   ],
   "cell_type": "markdown",
   "metadata": {}
  },
  {
   "cell_type": "code",
   "execution_count": 18,
   "metadata": {},
   "outputs": [
    {
     "output_type": "stream",
     "name": "stdout",
     "text": [
      "Head of \"I saw the man with a telescope.\": saw\nHead of \"The quick brown fox jumps over the lazy dog.\": jumps\n"
     ]
    }
   ],
   "source": [
    "def get_head(span):\n",
    "    doc = nlp(span)\n",
    "    return list(doc.sents)[0].root # Returns the root of the first span. It assumes that the input sentence contains only one span.\n",
    "\n",
    "# Examples\n",
    "examples = [sentence, 'The quick brown fox jumps over the lazy dog.']\n",
    "for span in examples:\n",
    "    print(f'Head of \"{span}\": {get_head(span)}')"
   ]
  },
  {
   "source": [
    "### 5. Extract sentence subject, direct object and indirect object spans"
   ],
   "cell_type": "markdown",
   "metadata": {}
  },
  {
   "cell_type": "code",
   "execution_count": 19,
   "metadata": {},
   "outputs": [
    {
     "output_type": "stream",
     "name": "stdout",
     "text": [
      "nsubj: ['I']\ndobj: ['the man with a telescope']\niobj: []\n"
     ]
    }
   ],
   "source": [
    "def extract_deps(sentence):\n",
    "    doc = nlp(sentence)\n",
    "    result = {\n",
    "        'nsubj': [],\n",
    "        'dobj': [],\n",
    "        'iobj': []\n",
    "    }\n",
    "    for token in doc: \n",
    "        if token.dep_ in result.keys(): # For each token in the parsed doc, check if it is a nsubj, dobj or iobj\n",
    "            result[token.dep_].append(' '.join([t.text for t in token.subtree])) # Extract the subtree of the token as resulting span\n",
    "    return result\n",
    "\n",
    "# Example\n",
    "r = extract_deps(sentence)\n",
    "for key, value in r.items():\n",
    "    print(f'{key}: {value}')"
   ]
  }
 ]
}