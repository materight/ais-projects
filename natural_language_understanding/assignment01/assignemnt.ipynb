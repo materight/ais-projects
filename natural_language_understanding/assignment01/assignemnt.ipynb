{
 "metadata": {
  "language_info": {
   "codemirror_mode": {
    "name": "ipython",
    "version": 3
   },
   "file_extension": ".py",
   "mimetype": "text/x-python",
   "name": "python",
   "nbconvert_exporter": "python",
   "pygments_lexer": "ipython3",
   "version": "3.8.3-final"
  },
  "orig_nbformat": 2,
  "kernelspec": {
   "name": "python383jvsc74a57bd0ae03d948584253fec240bc08d589a6fc5490ee03a1d28d126cf31e5ae02e89c9",
   "display_name": "Python 3.8.3 64-bit ('base': conda)"
  }
 },
 "nbformat": 4,
 "nbformat_minor": 2,
 "cells": [
  {
   "source": [
    "## Assignment: Working with Dependency Graphs (Parses)\n",
    "\n",
    "The objective of the assignment is to learn how to work with dependency graphs by defining functions.\n",
    "\n",
    "Read [spaCy documentation on dependency parser](https://spacy.io/api/dependencyparser) to learn provided methods.\n",
    "\n",
    "Define functions to:\n",
    "- Extract a path of dependency relations from the ROOT to a token\n",
    "- Extract subtree of a dependents given a token\n",
    "- Check if a given list of tokens (segment of a sentence) forms a subtree\n",
    "- Identify head of a span, given its tokens\n",
    "- Extract sentence subject, direct object and indirect object spans\n",
    "\n",
    "## Assignment: Training Transition-Based Dependency Parser (Optional & Advanced)\n",
    "\n",
    "- Modify [NLTK Transition parser](https://github.com/nltk/nltk/blob/develop/nltk/parse/transitionparser.py)'s `Configuration` class to use better features.\n",
    "- Evaluate the features comparing performance to the original\n",
    "- Replace `SVM` classifier with an alternative of your choice."
   ],
   "cell_type": "markdown",
   "metadata": {}
  },
  {
   "cell_type": "code",
   "execution_count": 63,
   "metadata": {},
   "outputs": [
    {
     "output_type": "display_data",
     "data": {
      "text/plain": "<IPython.core.display.HTML object>",
      "text/html": "<span class=\"tex2jax_ignore\"><svg xmlns=\"http://www.w3.org/2000/svg\" xmlns:xlink=\"http://www.w3.org/1999/xlink\" xml:lang=\"en\" id=\"7c6812381fad4145a3171de55c2f0f99-0\" class=\"displacy\" width=\"1275\" height=\"312.0\" direction=\"ltr\" style=\"max-width: none; height: 312.0px; color: #000000; background: #ffffff; font-family: Arial; direction: ltr\">\n<text class=\"displacy-token\" fill=\"currentColor\" text-anchor=\"middle\" y=\"222.0\">\n    <tspan class=\"displacy-word\" fill=\"currentColor\" x=\"50\">I</tspan>\n    <tspan class=\"displacy-tag\" dy=\"2em\" fill=\"currentColor\" x=\"50\">PRON</tspan>\n</text>\n\n<text class=\"displacy-token\" fill=\"currentColor\" text-anchor=\"middle\" y=\"222.0\">\n    <tspan class=\"displacy-word\" fill=\"currentColor\" x=\"225\">saw</tspan>\n    <tspan class=\"displacy-tag\" dy=\"2em\" fill=\"currentColor\" x=\"225\">VERB</tspan>\n</text>\n\n<text class=\"displacy-token\" fill=\"currentColor\" text-anchor=\"middle\" y=\"222.0\">\n    <tspan class=\"displacy-word\" fill=\"currentColor\" x=\"400\">a</tspan>\n    <tspan class=\"displacy-tag\" dy=\"2em\" fill=\"currentColor\" x=\"400\">DET</tspan>\n</text>\n\n<text class=\"displacy-token\" fill=\"currentColor\" text-anchor=\"middle\" y=\"222.0\">\n    <tspan class=\"displacy-word\" fill=\"currentColor\" x=\"575\">man</tspan>\n    <tspan class=\"displacy-tag\" dy=\"2em\" fill=\"currentColor\" x=\"575\">NOUN</tspan>\n</text>\n\n<text class=\"displacy-token\" fill=\"currentColor\" text-anchor=\"middle\" y=\"222.0\">\n    <tspan class=\"displacy-word\" fill=\"currentColor\" x=\"750\">with</tspan>\n    <tspan class=\"displacy-tag\" dy=\"2em\" fill=\"currentColor\" x=\"750\">ADP</tspan>\n</text>\n\n<text class=\"displacy-token\" fill=\"currentColor\" text-anchor=\"middle\" y=\"222.0\">\n    <tspan class=\"displacy-word\" fill=\"currentColor\" x=\"925\">a</tspan>\n    <tspan class=\"displacy-tag\" dy=\"2em\" fill=\"currentColor\" x=\"925\">DET</tspan>\n</text>\n\n<text class=\"displacy-token\" fill=\"currentColor\" text-anchor=\"middle\" y=\"222.0\">\n    <tspan class=\"displacy-word\" fill=\"currentColor\" x=\"1100\">telescope.</tspan>\n    <tspan class=\"displacy-tag\" dy=\"2em\" fill=\"currentColor\" x=\"1100\">NOUN</tspan>\n</text>\n\n<g class=\"displacy-arrow\">\n    <path class=\"displacy-arc\" id=\"arrow-7c6812381fad4145a3171de55c2f0f99-0-0\" stroke-width=\"2px\" d=\"M70,177.0 C70,89.5 220.0,89.5 220.0,177.0\" fill=\"none\" stroke=\"currentColor\"/>\n    <text dy=\"1.25em\" style=\"font-size: 0.8em; letter-spacing: 1px\">\n        <textPath xlink:href=\"#arrow-7c6812381fad4145a3171de55c2f0f99-0-0\" class=\"displacy-label\" startOffset=\"50%\" side=\"left\" fill=\"currentColor\" text-anchor=\"middle\">nsubj</textPath>\n    </text>\n    <path class=\"displacy-arrowhead\" d=\"M70,179.0 L62,167.0 78,167.0\" fill=\"currentColor\"/>\n</g>\n\n<g class=\"displacy-arrow\">\n    <path class=\"displacy-arc\" id=\"arrow-7c6812381fad4145a3171de55c2f0f99-0-1\" stroke-width=\"2px\" d=\"M420,177.0 C420,89.5 570.0,89.5 570.0,177.0\" fill=\"none\" stroke=\"currentColor\"/>\n    <text dy=\"1.25em\" style=\"font-size: 0.8em; letter-spacing: 1px\">\n        <textPath xlink:href=\"#arrow-7c6812381fad4145a3171de55c2f0f99-0-1\" class=\"displacy-label\" startOffset=\"50%\" side=\"left\" fill=\"currentColor\" text-anchor=\"middle\">det</textPath>\n    </text>\n    <path class=\"displacy-arrowhead\" d=\"M420,179.0 L412,167.0 428,167.0\" fill=\"currentColor\"/>\n</g>\n\n<g class=\"displacy-arrow\">\n    <path class=\"displacy-arc\" id=\"arrow-7c6812381fad4145a3171de55c2f0f99-0-2\" stroke-width=\"2px\" d=\"M245,177.0 C245,2.0 575.0,2.0 575.0,177.0\" fill=\"none\" stroke=\"currentColor\"/>\n    <text dy=\"1.25em\" style=\"font-size: 0.8em; letter-spacing: 1px\">\n        <textPath xlink:href=\"#arrow-7c6812381fad4145a3171de55c2f0f99-0-2\" class=\"displacy-label\" startOffset=\"50%\" side=\"left\" fill=\"currentColor\" text-anchor=\"middle\">dobj</textPath>\n    </text>\n    <path class=\"displacy-arrowhead\" d=\"M575.0,179.0 L583.0,167.0 567.0,167.0\" fill=\"currentColor\"/>\n</g>\n\n<g class=\"displacy-arrow\">\n    <path class=\"displacy-arc\" id=\"arrow-7c6812381fad4145a3171de55c2f0f99-0-3\" stroke-width=\"2px\" d=\"M595,177.0 C595,89.5 745.0,89.5 745.0,177.0\" fill=\"none\" stroke=\"currentColor\"/>\n    <text dy=\"1.25em\" style=\"font-size: 0.8em; letter-spacing: 1px\">\n        <textPath xlink:href=\"#arrow-7c6812381fad4145a3171de55c2f0f99-0-3\" class=\"displacy-label\" startOffset=\"50%\" side=\"left\" fill=\"currentColor\" text-anchor=\"middle\">prep</textPath>\n    </text>\n    <path class=\"displacy-arrowhead\" d=\"M745.0,179.0 L753.0,167.0 737.0,167.0\" fill=\"currentColor\"/>\n</g>\n\n<g class=\"displacy-arrow\">\n    <path class=\"displacy-arc\" id=\"arrow-7c6812381fad4145a3171de55c2f0f99-0-4\" stroke-width=\"2px\" d=\"M945,177.0 C945,89.5 1095.0,89.5 1095.0,177.0\" fill=\"none\" stroke=\"currentColor\"/>\n    <text dy=\"1.25em\" style=\"font-size: 0.8em; letter-spacing: 1px\">\n        <textPath xlink:href=\"#arrow-7c6812381fad4145a3171de55c2f0f99-0-4\" class=\"displacy-label\" startOffset=\"50%\" side=\"left\" fill=\"currentColor\" text-anchor=\"middle\">det</textPath>\n    </text>\n    <path class=\"displacy-arrowhead\" d=\"M945,179.0 L937,167.0 953,167.0\" fill=\"currentColor\"/>\n</g>\n\n<g class=\"displacy-arrow\">\n    <path class=\"displacy-arc\" id=\"arrow-7c6812381fad4145a3171de55c2f0f99-0-5\" stroke-width=\"2px\" d=\"M770,177.0 C770,2.0 1100.0,2.0 1100.0,177.0\" fill=\"none\" stroke=\"currentColor\"/>\n    <text dy=\"1.25em\" style=\"font-size: 0.8em; letter-spacing: 1px\">\n        <textPath xlink:href=\"#arrow-7c6812381fad4145a3171de55c2f0f99-0-5\" class=\"displacy-label\" startOffset=\"50%\" side=\"left\" fill=\"currentColor\" text-anchor=\"middle\">pobj</textPath>\n    </text>\n    <path class=\"displacy-arrowhead\" d=\"M1100.0,179.0 L1108.0,167.0 1092.0,167.0\" fill=\"currentColor\"/>\n</g>\n</svg></span>"
     },
     "metadata": {}
    }
   ],
   "source": [
    "import spacy\n",
    "\n",
    "sentence = 'I saw the man with a telescope.'\n",
    "\n",
    "nlp = spacy.load('en_core_web_sm')\n",
    "\n",
    "doc = nlp(sentence)\n",
    "spacy.displacy.render(doc, style='dep')"
   ]
  },
  {
   "source": [
    "### 1. Extract a path of dependency relations from the ROOT to a token"
   ],
   "cell_type": "markdown",
   "metadata": {}
  },
  {
   "cell_type": "code",
   "execution_count": 64,
   "metadata": {},
   "outputs": [
    {
     "output_type": "stream",
     "name": "stdout",
     "text": [
      "Path from ROOT to \"I\":  ROOT -> nsubj\nPath from ROOT to \"saw\":  ROOT\nPath from ROOT to \"a\":  ROOT -> dobj -> det\nPath from ROOT to \"man\":  ROOT -> dobj\nPath from ROOT to \"with\":  ROOT -> dobj -> prep\nPath from ROOT to \"a\":  ROOT -> dobj -> prep -> pobj -> det\nPath from ROOT to \"telescope\":  ROOT -> dobj -> prep -> pobj\nPath from ROOT to \".\":  ROOT -> punct\n"
     ]
    }
   ],
   "source": [
    "def get_paths(sentence):\n",
    "    doc = nlp(sentence)\n",
    "    results = []\n",
    "    for token in doc:\n",
    "        results.append([*reversed(list([a.dep_ for a in token.ancestors])), token.dep_])\n",
    "    return results\n",
    "\n",
    "# Examples\n",
    "paths = get_paths(sentence)\n",
    "for i, path in enumerate(paths):\n",
    "    print(f'Path from ROOT to \"{doc[i]}\":  {\" -> \".join(path)}')"
   ]
  },
  {
   "source": [
    "### 2. Extract subtree of a dependents given a token"
   ],
   "cell_type": "markdown",
   "metadata": {}
  },
  {
   "cell_type": "code",
   "execution_count": 65,
   "metadata": {},
   "outputs": [
    {
     "output_type": "stream",
     "name": "stdout",
     "text": [
      "Subtree of \"I\": ['I']\nSubtree of \"saw\": ['I', 'saw', 'a', 'man', 'with', 'a', 'telescope', '.']\nSubtree of \"a\": ['a']\nSubtree of \"man\": ['a', 'man', 'with', 'a', 'telescope']\nSubtree of \"with\": ['with', 'a', 'telescope']\nSubtree of \"a\": ['a']\nSubtree of \"telescope\": ['a', 'telescope']\nSubtree of \".\": ['.']\n"
     ]
    }
   ],
   "source": [
    "def get_subtrees(sentence):\n",
    "    doc = nlp(sentence)\n",
    "    results = []\n",
    "    for token in doc:\n",
    "        results.append([t.text for t in token.subtree])\n",
    "    return results\n",
    "\n",
    "# Examples\n",
    "subtrees = get_subtrees(sentence)\n",
    "for i, subtree in enumerate(subtrees):\n",
    "    print(f'Subtree of \"{doc[i]}\": {subtree}')\n",
    "    "
   ]
  },
  {
   "source": [
    "### 3. Check if a given list of tokens (segment of a sentence) forms a subtree"
   ],
   "cell_type": "markdown",
   "metadata": {}
  },
  {
   "cell_type": "code",
   "execution_count": 66,
   "metadata": {},
   "outputs": [
    {
     "output_type": "stream",
     "name": "stdout",
     "text": [
      "Is ['saw', 'with', 'telescope'] a subtree: False\nIs ['a', 'telescope'] a subtree: True\n"
     ]
    }
   ],
   "source": [
    "def is_subtree(sentence, subtree):\n",
    "    doc = nlp(sentence)\n",
    "    for query_token in subtree: # Check for each possible root of the given subtree\n",
    "        for t in doc:\n",
    "            if t.text == query_token and [x.text for x in t.subtree] == subtree:\n",
    "                return True\n",
    "    return False\n",
    "\n",
    "# Examples\n",
    "examples = [['saw', 'with', 'telescope'], ['a', 'telescope']]\n",
    "for e in examples:\n",
    "    print(f'Is {e} a subtree: {is_subtree(sentence, e)}')"
   ]
  },
  {
   "source": [
    "### 4. Identify head of a span, given its tokens"
   ],
   "cell_type": "markdown",
   "metadata": {}
  },
  {
   "cell_type": "code",
   "execution_count": 67,
   "metadata": {},
   "outputs": [
    {
     "output_type": "stream",
     "name": "stdout",
     "text": [
      "Head of \"I saw a man with a telescope.\": saw\nHead of \"The quick brown fox jumps over the lazy dog.\": jumps\n"
     ]
    }
   ],
   "source": [
    "def get_head(span):\n",
    "    doc = nlp(span)\n",
    "    return list(doc.sents)[0].root\n",
    "\n",
    "# Examples\n",
    "examples = [sentence, 'The quick brown fox jumps over the lazy dog.']\n",
    "for span in examples:\n",
    "    print(f'Head of \"{span}\": {get_head(span)}')"
   ]
  },
  {
   "source": [
    "### 5. Extract sentence subject, direct object and indirect object spans"
   ],
   "cell_type": "markdown",
   "metadata": {}
  },
  {
   "cell_type": "code",
   "execution_count": 68,
   "metadata": {},
   "outputs": [
    {
     "output_type": "stream",
     "name": "stdout",
     "text": [
      "nsubj: ['I']\n",
      "dobj: ['man']\n",
      "iobj: []\n"
     ]
    }
   ],
   "source": [
    "def extract_dep(sentence):\n",
    "    doc = nlp(sentence)\n",
    "    result = {\n",
    "        'nsubj': [],\n",
    "        'dobj': [],\n",
    "        'iobj': []\n",
    "    }\n",
    "    for token in doc:\n",
    "        if token.dep_ in result.keys():\n",
    "            result[token.dep_].append(token.text)\n",
    "    return result\n",
    "\n",
    "r = extract_dep(sentence)\n",
    "for key, value in r.items():\n",
    "    print(f'{key}: {value}')"
   ]
  },
  {
   "source": [
    "### 6. Modify NLTK Transition parser's Configuration class to use better features."
   ],
   "cell_type": "markdown",
   "metadata": {}
  },
  {
   "cell_type": "code",
   "execution_count": 69,
   "metadata": {},
   "outputs": [],
   "source": [
    "from nltk.parse.transitionparser import TransitionParser\n",
    "from nltk.corpus import dependency_treebank\n",
    "from nltk.parse import DependencyEvaluator\n"
   ]
  },
  {
   "source": [
    "### 7. Evaluate the features comparing performance to the original\n"
   ],
   "cell_type": "markdown",
   "metadata": {}
  },
  {
   "cell_type": "code",
   "execution_count": 70,
   "metadata": {},
   "outputs": [
    {
     "output_type": "execute_result",
     "data": {
      "text/plain": [
       "\"\\ntrain_size = 100\\ntest_size = 10\\n\\n# Init models\\ntp_original = TransitionParser('arc-standard') # or 'arc-eager'\\ntp_custom = TransitionParser('arc-standard') # or 'arc-eager'\\n\\n# Train\\ntp_original.train(dependency_treebank.parsed_sents()[:train_size], 'models/tp_original.model')\\ntp_custom.train(dependency_treebank.parsed_sents()[:train_size], 'models/tp_custom.model')\\n\\n# Test and evaluation\\nparses_original = tp.parse(dependency_treebank.parsed_sents()[-test_size:], 'models/tp_original.model')\\nparses_custom = tp.parse(dependency_treebank.parsed_sents()[-test_size:], 'models/tp_custom.model')\\nlas_original, uas_original = DependencyEvaluator(parses, dependency_treebank.parsed_sents()[-test_size:]).eval()\\nlas_custom, uas_custom = DependencyEvaluator(parses, dependency_treebank.parsed_sents()[-test_size:]).eval()\\nprint(f'\\n\\nResults:')\\nprint(f'- Original TransitionParser: LAS={las_original:.04f}, UAS={uas_original:.04f}')\\nprint(f'- Custom TransitionParser:   LAS={las_custom:.04f}, UAS={uas_custom:.04f}')\\n\""
      ]
     },
     "metadata": {},
     "execution_count": 70
    }
   ],
   "source": [
    "'''\n",
    "train_size = 100\n",
    "test_size = 10\n",
    "\n",
    "# Init models\n",
    "tp_original = TransitionParser('arc-standard') # or 'arc-eager'\n",
    "tp_custom = TransitionParser('arc-standard') # or 'arc-eager'\n",
    "\n",
    "# Train\n",
    "tp_original.train(dependency_treebank.parsed_sents()[:train_size], 'models/tp_original.model')\n",
    "tp_custom.train(dependency_treebank.parsed_sents()[:train_size], 'models/tp_custom.model')\n",
    "\n",
    "# Test and evaluation\n",
    "parses_original = tp.parse(dependency_treebank.parsed_sents()[-test_size:], 'models/tp_original.model')\n",
    "parses_custom = tp.parse(dependency_treebank.parsed_sents()[-test_size:], 'models/tp_custom.model')\n",
    "las_original, uas_original = DependencyEvaluator(parses, dependency_treebank.parsed_sents()[-test_size:]).eval()\n",
    "las_custom, uas_custom = DependencyEvaluator(parses, dependency_treebank.parsed_sents()[-test_size:]).eval()\n",
    "print(f'\\n\\nResults:')\n",
    "print(f'- Original TransitionParser: LAS={las_original:.04f}, UAS={uas_original:.04f}')\n",
    "print(f'- Custom TransitionParser:   LAS={las_custom:.04f}, UAS={uas_custom:.04f}')\n",
    "'''"
   ]
  },
  {
   "source": [
    "### 8. Replace SVM classifier with an alternative of your choice."
   ],
   "cell_type": "markdown",
   "metadata": {}
  },
  {
   "cell_type": "code",
   "execution_count": null,
   "metadata": {},
   "outputs": [],
   "source": []
  }
 ]
}