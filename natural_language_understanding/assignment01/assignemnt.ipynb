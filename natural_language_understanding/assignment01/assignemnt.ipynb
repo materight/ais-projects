{
 "metadata": {
  "language_info": {
   "codemirror_mode": {
    "name": "ipython",
    "version": 3
   },
   "file_extension": ".py",
   "mimetype": "text/x-python",
   "name": "python",
   "nbconvert_exporter": "python",
   "pygments_lexer": "ipython3",
   "version": "3.8.3-final"
  },
  "orig_nbformat": 2,
  "kernelspec": {
   "name": "python383jvsc74a57bd0ae03d948584253fec240bc08d589a6fc5490ee03a1d28d126cf31e5ae02e89c9",
   "display_name": "Python 3.8.3 64-bit ('base': conda)"
  }
 },
 "nbformat": 4,
 "nbformat_minor": 2,
 "cells": [
  {
   "source": [
    "## Assignment: Working with Dependency Graphs (Parses)\n",
    "\n",
    "The objective of the assignment is to learn how to work with dependency graphs by defining functions.\n",
    "\n",
    "Read [spaCy documentation on dependency parser](https://spacy.io/api/dependencyparser) to learn provided methods.\n",
    "\n",
    "Define functions to:\n",
    "- Extract a path of dependency relations from the ROOT to a token\n",
    "- Extract subtree of a dependents given a token\n",
    "- Check if a given list of tokens (segment of a sentence) forms a subtree\n",
    "- Identify head of a span, given its tokens\n",
    "- Extract sentence subject, direct object and indirect object spans\n",
    "\n",
    "## Assignment: Training Transition-Based Dependency Parser (Optional & Advanced)\n",
    "\n",
    "- Modify [NLTK Transition parser](https://github.com/nltk/nltk/blob/develop/nltk/parse/transitionparser.py)'s `Configuration` class to use better features.\n",
    "- Evaluate the features comparing performance to the original\n",
    "- Replace `SVM` classifier with an alternative of your choice."
   ],
   "cell_type": "markdown",
   "metadata": {}
  },
  {
   "cell_type": "code",
   "execution_count": 2,
   "metadata": {},
   "outputs": [],
   "source": [
    "import spacy\n",
    "\n",
    "doc_text = 'I saw the man with a telescope.'\n",
    "\n",
    "nlp = spacy.load('en_core_web_sm')\n",
    "doc = nlp(doc_text)"
   ]
  },
  {
   "source": [
    "### 1. Extract a path of dependency relations from the ROOT to a token"
   ],
   "cell_type": "markdown",
   "metadata": {}
  },
  {
   "cell_type": "code",
   "execution_count": 3,
   "metadata": {},
   "outputs": [
    {
     "output_type": "stream",
     "name": "stdout",
     "text": [
      "Path from ROOT to \"the\": [saw, man, the]\nPath from ROOT to \"a\": [saw, with, telescope, a]\n"
     ]
    }
   ],
   "source": [
    "def get_path(doc, token):\n",
    "    for t in doc:\n",
    "        if t.text == token: \n",
    "            path = list(t.ancestors)\n",
    "            path.reverse()\n",
    "            path.append(t)\n",
    "            return path\n",
    "    return None\n",
    "\n",
    "# Examples\n",
    "examples = ['the', 'a']\n",
    "for e in examples:\n",
    "    print(f'Path from ROOT to \"{e}\":', get_path(doc, e))"
   ]
  },
  {
   "source": [
    "### 2. Extract subtree of a dependents given a token"
   ],
   "cell_type": "markdown",
   "metadata": {}
  },
  {
   "cell_type": "code",
   "execution_count": 4,
   "metadata": {},
   "outputs": [
    {
     "output_type": "stream",
     "name": "stdout",
     "text": [
      "Subtree of \"saw\": [I, saw, the, man, with, a, telescope, .]\nSubtree of \"telescope\": [a, telescope]\n"
     ]
    }
   ],
   "source": [
    "def get_subtree(doc, token):\n",
    "    for t in doc:\n",
    "        if t.text == token: \n",
    "            return list(t.subtree)\n",
    "    return None\n",
    "\n",
    "# Examples\n",
    "examples = ['saw', 'telescope']\n",
    "for e in examples:\n",
    "    print(f'Subtree of \"{e}\":', get_subtree(doc, e))"
   ]
  },
  {
   "source": [
    "### 3. Check if a given list of tokens (segment of a sentence) forms a subtree"
   ],
   "cell_type": "markdown",
   "metadata": {}
  },
  {
   "cell_type": "code",
   "execution_count": 5,
   "metadata": {},
   "outputs": [
    {
     "output_type": "stream",
     "name": "stdout",
     "text": [
      "Is ['saw', 'with', 'telescope'] a subtree: False\nIs ['a', 'telescope'] a subtree: True\n"
     ]
    }
   ],
   "source": [
    "def is_subtree(doc, subtree):\n",
    "    for query_token in subtree: # Check for each possible root of the given subtree\n",
    "        for t in doc:\n",
    "            if t.text == query_token and [x.text for x in t.subtree] == subtree:\n",
    "                return True\n",
    "    return False\n",
    "\n",
    "# Examples\n",
    "examples = [['saw', 'with', 'telescope'], ['a', 'telescope']]\n",
    "for e in examples:\n",
    "    print(f'Is {e} a subtree:', is_subtree(doc, e))"
   ]
  },
  {
   "source": [
    "### 4. Identify head of a span, given its tokens"
   ],
   "cell_type": "markdown",
   "metadata": {}
  },
  {
   "cell_type": "code",
   "execution_count": 6,
   "metadata": {},
   "outputs": [
    {
     "output_type": "stream",
     "name": "stdout",
     "text": [
      "Head of \"I saw the man with a telescope.\": saw\n"
     ]
    }
   ],
   "source": [
    "def get_head(span):\n",
    "    return span.root\n",
    "\n",
    "# Examples\n",
    "for span in doc.sents:\n",
    "    print(f'Head of \"{span}\":', get_head(span))"
   ]
  },
  {
   "source": [
    "### 5. Extract sentence subject, direct object and indirect object spans"
   ],
   "cell_type": "markdown",
   "metadata": {}
  },
  {
   "cell_type": "code",
   "execution_count": 14,
   "metadata": {},
   "outputs": [
    {
     "output_type": "stream",
     "name": "stdout",
     "text": [
      "Sentence subject (NSUBJ): I\nDirect object (DOBJ): man\nIndirect object (IOBJ): NOT AVAILABLE\n"
     ]
    }
   ],
   "source": [
    "def get_spans(doc):\n",
    "    nsubj, dobj, iobj = None, None, None\n",
    "    for token in doc:\n",
    "        if token.dep_ == 'nsubj': nsubj = token.text\n",
    "        elif token.dep_ == 'dobj': dobj = token.text\n",
    "        elif token.dep_ == 'iobj': iobj = token.text\n",
    "        if nsubj is not None and dobj is not None and iobj is not None:\n",
    "            break\n",
    "    return {\n",
    "        'Sentence subject (NSUBJ)': nsubj,\n",
    "        'Direct object (DOBJ)': dobj,\n",
    "        'Indirect object (IOBJ)': iobj\n",
    "    }\n",
    "\n",
    "r = get_spans(doc)\n",
    "for key, value in r.items():\n",
    "    print(f'{key}: {value if value is not None else \"NOT AVAILABLE\"}')"
   ]
  },
  {
   "source": [
    "### 6. Modify NLTK Transition parser's Configuration class to use better features."
   ],
   "cell_type": "markdown",
   "metadata": {}
  },
  {
   "cell_type": "code",
   "execution_count": 8,
   "metadata": {},
   "outputs": [
    {
     "output_type": "stream",
     "name": "stdout",
     "text": [
      " Number of training examples : 100\n",
      " Number of valid (projective) examples : 100\n",
      "[LibSVM]LAS: 0.7917, UAS: 0.7917\n"
     ]
    }
   ],
   "source": [
    "from nltk.parse.transitionparser import TransitionParser\n",
    "from nltk.corpus import dependency_treebank\n",
    "from nltk.parse import DependencyEvaluator\n"
   ]
  },
  {
   "source": [
    "### 7. Evaluate the features comparing performance to the original\n"
   ],
   "cell_type": "markdown",
   "metadata": {}
  },
  {
   "cell_type": "code",
   "execution_count": 12,
   "metadata": {},
   "outputs": [
    {
     "output_type": "stream",
     "name": "stdout",
     "text": [
      " Number of training examples : 100\n",
      " Number of valid (projective) examples : 100\n",
      "[LibSVM] Number of training examples : 100\n",
      " Number of valid (projective) examples : 100\n",
      "[LibSVM]\n",
      "\n",
      "Results:\n",
      "- Original TransitionParser: LAS=0.7750, UAS=0.7750\n",
      "- Custom TransitionParser:   LAS=0.7750, UAS=0.7750\n"
     ]
    }
   ],
   "source": [
    "train_size = 100\n",
    "test_size = 10\n",
    "\n",
    "# Init models\n",
    "tp_original = TransitionParser('arc-standard') # or 'arc-eager'\n",
    "tp_custom = TransitionParser('arc-standard') # or 'arc-eager'\n",
    "\n",
    "# Train\n",
    "tp_original.train(dependency_treebank.parsed_sents()[:train_size], 'models/tp_original.model')\n",
    "tp_custom.train(dependency_treebank.parsed_sents()[:train_size], 'models/tp_custom.model')\n",
    "\n",
    "# Test and evaluation\n",
    "parses_original = tp.parse(dependency_treebank.parsed_sents()[-test_size:], 'models/tp_original.model')\n",
    "parses_custom = tp.parse(dependency_treebank.parsed_sents()[-test_size:], 'models/tp_custom.model')\n",
    "las_original, uas_original = DependencyEvaluator(parses, dependency_treebank.parsed_sents()[-test_size:]).eval()\n",
    "las_custom, uas_custom = DependencyEvaluator(parses, dependency_treebank.parsed_sents()[-test_size:]).eval()\n",
    "print(f'\\n\\nResults:')\n",
    "print(f'- Original TransitionParser: LAS={las_original:.04f}, UAS={uas_original:.04f}')\n",
    "print(f'- Custom TransitionParser:   LAS={las_custom:.04f}, UAS={uas_custom:.04f}')"
   ]
  },
  {
   "source": [
    "### 8. Replace SVM classifier with an alternative of your choice."
   ],
   "cell_type": "markdown",
   "metadata": {}
  },
  {
   "cell_type": "code",
   "execution_count": null,
   "metadata": {},
   "outputs": [],
   "source": []
  }
 ]
}