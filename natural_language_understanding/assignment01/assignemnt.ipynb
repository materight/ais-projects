{
 "metadata": {
  "language_info": {
   "codemirror_mode": {
    "name": "ipython",
    "version": 3
   },
   "file_extension": ".py",
   "mimetype": "text/x-python",
   "name": "python",
   "nbconvert_exporter": "python",
   "pygments_lexer": "ipython3",
   "version": "3.8.3-final"
  },
  "orig_nbformat": 2,
  "kernelspec": {
   "name": "python383jvsc74a57bd0ae03d948584253fec240bc08d589a6fc5490ee03a1d28d126cf31e5ae02e89c9",
   "display_name": "Python 3.8.3 64-bit ('base': conda)"
  }
 },
 "nbformat": 4,
 "nbformat_minor": 2,
 "cells": [
  {
   "source": [
    "## Assignment: Working with Dependency Graphs (Parses)\n",
    "\n",
    "The objective of the assignment is to learn how to work with dependency graphs by defining functions.\n",
    "\n",
    "Read [spaCy documentation on dependency parser](https://spacy.io/api/dependencyparser) to learn provided methods.\n",
    "\n",
    "Define functions to:\n",
    "- Extract a path of dependency relations from the ROOT to a token\n",
    "- Extract subtree of a dependents given a token\n",
    "- Check if a given list of tokens (segment of a sentence) forms a subtree\n",
    "- Identify head of a span, given its tokens\n",
    "- Extract sentence subject, direct object and indirect object spans\n",
    "\n",
    "## Assignment: Training Transition-Based Dependency Parser (Optional & Advanced)\n",
    "\n",
    "- Modify [NLTK Transition parser](https://github.com/nltk/nltk/blob/develop/nltk/parse/transitionparser.py)'s `Configuration` class to use better features.\n",
    "- Evaluate the features comparing performance to the original\n",
    "- Replace `SVM` classifier with an alternative of your choice."
   ],
   "cell_type": "markdown",
   "metadata": {}
  },
  {
   "cell_type": "code",
   "execution_count": 26,
   "metadata": {},
   "outputs": [],
   "source": [
    "import spacy\n",
    "\n",
    "sentence = 'I saw the man with a telescope.'\n",
    "\n",
    "nlp = spacy.load('en_core_web_sm')"
   ]
  },
  {
   "source": [
    "### 1. Extract a path of dependency relations from the ROOT to a token"
   ],
   "cell_type": "markdown",
   "metadata": {}
  },
  {
   "cell_type": "code",
   "execution_count": 34,
   "metadata": {},
   "outputs": [
    {
     "output_type": "stream",
     "name": "stdout",
     "text": [
      "Path from ROOT to \"I\": [saw, I]\nPath from ROOT to \"saw\": [saw]\nPath from ROOT to \"the\": [saw, man, the]\nPath from ROOT to \"man\": [saw, man]\nPath from ROOT to \"with\": [saw, with]\nPath from ROOT to \"a\": [saw, with, telescope, a]\nPath from ROOT to \"telescope\": [saw, with, telescope]\nPath from ROOT to \".\": [saw, .]\n"
     ]
    }
   ],
   "source": [
    "def get_paths(sentence):\n",
    "    doc = nlp(sentence)\n",
    "    result = {}\n",
    "    for t in doc:\n",
    "        result[t.text] = [*reversed(list(t.ancestors)), t]\n",
    "    return result\n",
    "\n",
    "# Examples\n",
    "paths = get_paths(sentence)\n",
    "for token, path in paths.items():\n",
    "    print(f'Path from ROOT to \"{token}\": {path}')"
   ]
  },
  {
   "source": [
    "### 2. Extract subtree of a dependents given a token"
   ],
   "cell_type": "markdown",
   "metadata": {}
  },
  {
   "cell_type": "code",
   "execution_count": 28,
   "metadata": {},
   "outputs": [
    {
     "output_type": "stream",
     "name": "stdout",
     "text": [
      "Subtree of \"saw\": [I, saw, the, man, with, a, telescope, .]\nSubtree of \"telescope\": [a, telescope]\n"
     ]
    }
   ],
   "source": [
    "def get_subtrees(sentence):\n",
    "    doc = nlp(sentence)\n",
    "    result = {}\n",
    "    for t in doc:\n",
    "        result[t.text] = list(t.subtree)\n",
    "    return result\n",
    "\n",
    "# Examples\n",
    "subtrees = get_subtrees(sentence)\n",
    "for token, subtree in subtrees.items():\n",
    "    print(f'Subtree of \"{token}\": {subtree}')\n",
    "    "
   ]
  },
  {
   "source": [
    "### 3. Check if a given list of tokens (segment of a sentence) forms a subtree"
   ],
   "cell_type": "markdown",
   "metadata": {}
  },
  {
   "cell_type": "code",
   "execution_count": 41,
   "metadata": {},
   "outputs": [
    {
     "output_type": "stream",
     "name": "stdout",
     "text": [
      "Is ['saw', 'with', 'telescope'] a subtree: False\nIs ['a', 'telescope'] a subtree: True\n"
     ]
    }
   ],
   "source": [
    "def is_subtree(sentence, subtree):\n",
    "    doc = nlp(sentence)\n",
    "    for query_token in subtree: # Check for each possible root of the given subtree\n",
    "        for t in doc:\n",
    "            if t.text == query_token and [x.text for x in t.subtree] == subtree:\n",
    "                return True\n",
    "    return False\n",
    "\n",
    "# Examples\n",
    "examples = [['saw', 'with', 'telescope'], ['a', 'telescope']]\n",
    "for e in examples:\n",
    "    print(f'Is {e} a subtree: {is_subtree(sentence, e)}')"
   ]
  },
  {
   "source": [
    "### 4. Identify head of a span, given its tokens"
   ],
   "cell_type": "markdown",
   "metadata": {}
  },
  {
   "cell_type": "code",
   "execution_count": 47,
   "metadata": {},
   "outputs": [
    {
     "output_type": "stream",
     "name": "stdout",
     "text": [
      "Head of \"I saw the man with a telescope.\": saw\nHead of \"The quick brown fox jumps over the lazy dog.\": jumps\n"
     ]
    }
   ],
   "source": [
    "def get_head(span):\n",
    "    doc = nlp(span)\n",
    "    return next(doc.sents).root\n",
    "\n",
    "# Examples\n",
    "examples = ['I saw the man with a telescope.', 'The quick brown fox jumps over the lazy dog.']\n",
    "for span in examples:\n",
    "    print(f'Head of \"{span}\": {get_head(span)}')"
   ]
  },
  {
   "source": [
    "### 5. Extract sentence subject, direct object and indirect object spans"
   ],
   "cell_type": "markdown",
   "metadata": {}
  },
  {
   "cell_type": "code",
   "execution_count": 51,
   "metadata": {},
   "outputs": [
    {
     "output_type": "stream",
     "name": "stdout",
     "text": [
      "nsubj: ['I']\ndobj: ['man']\niobj: []\n"
     ]
    }
   ],
   "source": [
    "def extract_dep(sentence):\n",
    "    doc = nlp(sentence)\n",
    "    result = {\n",
    "        'nsubj': [],\n",
    "        'dobj': [],\n",
    "        'iobj': []\n",
    "    }\n",
    "    for token in doc:\n",
    "        if token.dep_ in result.keys():\n",
    "            result[token.dep_].append(token.text)\n",
    "    return result\n",
    "\n",
    "r = extract_dep(sentence)\n",
    "for key, value in r.items():\n",
    "    print(f'{key}: {value}')"
   ]
  },
  {
   "source": [
    "### 6. Modify NLTK Transition parser's Configuration class to use better features."
   ],
   "cell_type": "markdown",
   "metadata": {}
  },
  {
   "cell_type": "code",
   "execution_count": 32,
   "metadata": {},
   "outputs": [],
   "source": [
    "from nltk.parse.transitionparser import TransitionParser\n",
    "from nltk.corpus import dependency_treebank\n",
    "from nltk.parse import DependencyEvaluator\n"
   ]
  },
  {
   "source": [
    "### 7. Evaluate the features comparing performance to the original\n"
   ],
   "cell_type": "markdown",
   "metadata": {}
  },
  {
   "cell_type": "code",
   "execution_count": 33,
   "metadata": {},
   "outputs": [
    {
     "output_type": "stream",
     "name": "stdout",
     "text": [
      " Number of training examples : 100\n",
      " Number of valid (projective) examples : 100\n",
      "[LibSVM] Number of training examples : 100\n",
      " Number of valid (projective) examples : 100\n",
      "[LibSVM]"
     ]
    },
    {
     "output_type": "error",
     "ename": "NameError",
     "evalue": "name 'tp' is not defined",
     "traceback": [
      "\u001b[0;31m---------------------------------------------------------------------------\u001b[0m",
      "\u001b[0;31mNameError\u001b[0m                                 Traceback (most recent call last)",
      "\u001b[0;32m<ipython-input-33-1e661d26b2aa>\u001b[0m in \u001b[0;36m<module>\u001b[0;34m\u001b[0m\n\u001b[1;32m     11\u001b[0m \u001b[0;34m\u001b[0m\u001b[0m\n\u001b[1;32m     12\u001b[0m \u001b[0;31m# Test and evaluation\u001b[0m\u001b[0;34m\u001b[0m\u001b[0;34m\u001b[0m\u001b[0;34m\u001b[0m\u001b[0m\n\u001b[0;32m---> 13\u001b[0;31m \u001b[0mparses_original\u001b[0m \u001b[0;34m=\u001b[0m \u001b[0mtp\u001b[0m\u001b[0;34m.\u001b[0m\u001b[0mparse\u001b[0m\u001b[0;34m(\u001b[0m\u001b[0mdependency_treebank\u001b[0m\u001b[0;34m.\u001b[0m\u001b[0mparsed_sents\u001b[0m\u001b[0;34m(\u001b[0m\u001b[0;34m)\u001b[0m\u001b[0;34m[\u001b[0m\u001b[0;34m-\u001b[0m\u001b[0mtest_size\u001b[0m\u001b[0;34m:\u001b[0m\u001b[0;34m]\u001b[0m\u001b[0;34m,\u001b[0m \u001b[0;34m'models/tp_original.model'\u001b[0m\u001b[0;34m)\u001b[0m\u001b[0;34m\u001b[0m\u001b[0;34m\u001b[0m\u001b[0m\n\u001b[0m\u001b[1;32m     14\u001b[0m \u001b[0mparses_custom\u001b[0m \u001b[0;34m=\u001b[0m \u001b[0mtp\u001b[0m\u001b[0;34m.\u001b[0m\u001b[0mparse\u001b[0m\u001b[0;34m(\u001b[0m\u001b[0mdependency_treebank\u001b[0m\u001b[0;34m.\u001b[0m\u001b[0mparsed_sents\u001b[0m\u001b[0;34m(\u001b[0m\u001b[0;34m)\u001b[0m\u001b[0;34m[\u001b[0m\u001b[0;34m-\u001b[0m\u001b[0mtest_size\u001b[0m\u001b[0;34m:\u001b[0m\u001b[0;34m]\u001b[0m\u001b[0;34m,\u001b[0m \u001b[0;34m'models/tp_custom.model'\u001b[0m\u001b[0;34m)\u001b[0m\u001b[0;34m\u001b[0m\u001b[0;34m\u001b[0m\u001b[0m\n\u001b[1;32m     15\u001b[0m \u001b[0mlas_original\u001b[0m\u001b[0;34m,\u001b[0m \u001b[0muas_original\u001b[0m \u001b[0;34m=\u001b[0m \u001b[0mDependencyEvaluator\u001b[0m\u001b[0;34m(\u001b[0m\u001b[0mparses\u001b[0m\u001b[0;34m,\u001b[0m \u001b[0mdependency_treebank\u001b[0m\u001b[0;34m.\u001b[0m\u001b[0mparsed_sents\u001b[0m\u001b[0;34m(\u001b[0m\u001b[0;34m)\u001b[0m\u001b[0;34m[\u001b[0m\u001b[0;34m-\u001b[0m\u001b[0mtest_size\u001b[0m\u001b[0;34m:\u001b[0m\u001b[0;34m]\u001b[0m\u001b[0;34m)\u001b[0m\u001b[0;34m.\u001b[0m\u001b[0meval\u001b[0m\u001b[0;34m(\u001b[0m\u001b[0;34m)\u001b[0m\u001b[0;34m\u001b[0m\u001b[0;34m\u001b[0m\u001b[0m\n",
      "\u001b[0;31mNameError\u001b[0m: name 'tp' is not defined"
     ]
    }
   ],
   "source": [
    "train_size = 100\n",
    "test_size = 10\n",
    "\n",
    "# Init models\n",
    "tp_original = TransitionParser('arc-standard') # or 'arc-eager'\n",
    "tp_custom = TransitionParser('arc-standard') # or 'arc-eager'\n",
    "\n",
    "# Train\n",
    "tp_original.train(dependency_treebank.parsed_sents()[:train_size], 'models/tp_original.model')\n",
    "tp_custom.train(dependency_treebank.parsed_sents()[:train_size], 'models/tp_custom.model')\n",
    "\n",
    "# Test and evaluation\n",
    "parses_original = tp.parse(dependency_treebank.parsed_sents()[-test_size:], 'models/tp_original.model')\n",
    "parses_custom = tp.parse(dependency_treebank.parsed_sents()[-test_size:], 'models/tp_custom.model')\n",
    "las_original, uas_original = DependencyEvaluator(parses, dependency_treebank.parsed_sents()[-test_size:]).eval()\n",
    "las_custom, uas_custom = DependencyEvaluator(parses, dependency_treebank.parsed_sents()[-test_size:]).eval()\n",
    "print(f'\\n\\nResults:')\n",
    "print(f'- Original TransitionParser: LAS={las_original:.04f}, UAS={uas_original:.04f}')\n",
    "print(f'- Custom TransitionParser:   LAS={las_custom:.04f}, UAS={uas_custom:.04f}')"
   ]
  },
  {
   "source": [
    "### 8. Replace SVM classifier with an alternative of your choice."
   ],
   "cell_type": "markdown",
   "metadata": {}
  },
  {
   "cell_type": "code",
   "execution_count": null,
   "metadata": {},
   "outputs": [],
   "source": []
  }
 ]
}